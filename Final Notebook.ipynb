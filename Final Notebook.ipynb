{
 "cells": [
  {
   "cell_type": "markdown",
   "id": "7852d281",
   "metadata": {
    "id": "7852d281"
   },
   "source": [
    "# DISASTER TWEET IDENTIFICATION"
   ]
  },
  {
   "cell_type": "code",
   "execution_count": 3,
   "id": "aXJF8pVpnDOl",
   "metadata": {
    "colab": {
     "base_uri": "https://localhost:8080/"
    },
    "id": "aXJF8pVpnDOl",
    "outputId": "c0e4b59f-2e8b-450a-c503-c555fb25c15b"
   },
   "outputs": [
    {
     "name": "stdout",
     "output_type": "stream",
     "text": [
      "Requirement already satisfied: demoji in /opt/anaconda3/lib/python3.9/site-packages (1.1.0)\n",
      "Requirement already satisfied: numpy in /opt/anaconda3/lib/python3.9/site-packages (1.21.5)\n"
     ]
    }
   ],
   "source": [
    "!pip install demoji\n",
    "!pip install numpy"
   ]
  },
  {
   "cell_type": "code",
   "execution_count": 4,
   "id": "b94898aa",
   "metadata": {
    "id": "b94898aa"
   },
   "outputs": [
    {
     "ename": "TypeError",
     "evalue": "Unable to convert function return value to a Python type! The signature was\n\t() -> handle",
     "output_type": "error",
     "traceback": [
      "\u001b[0;31m---------------------------------------------------------------------------\u001b[0m",
      "\u001b[0;31mTypeError\u001b[0m                                 Traceback (most recent call last)",
      "Input \u001b[0;32mIn [4]\u001b[0m, in \u001b[0;36m<cell line: 32>\u001b[0;34m()\u001b[0m\n\u001b[1;32m     29\u001b[0m \u001b[38;5;28;01mfrom\u001b[39;00m \u001b[38;5;21;01msklearn\u001b[39;00m\u001b[38;5;21;01m.\u001b[39;00m\u001b[38;5;21;01mmetrics\u001b[39;00m \u001b[38;5;28;01mimport\u001b[39;00m precision_recall_fscore_support\n\u001b[1;32m     30\u001b[0m \u001b[38;5;28;01mfrom\u001b[39;00m \u001b[38;5;21;01msklearn\u001b[39;00m\u001b[38;5;21;01m.\u001b[39;00m\u001b[38;5;21;01mtree\u001b[39;00m \u001b[38;5;28;01mimport\u001b[39;00m DecisionTreeClassifier\n\u001b[0;32m---> 32\u001b[0m \u001b[38;5;28;01mfrom\u001b[39;00m \u001b[38;5;21;01mtensorflow\u001b[39;00m\u001b[38;5;21;01m.\u001b[39;00m\u001b[38;5;21;01mkeras\u001b[39;00m\u001b[38;5;21;01m.\u001b[39;00m\u001b[38;5;21;01mmodels\u001b[39;00m \u001b[38;5;28;01mimport\u001b[39;00m Sequential \n\u001b[1;32m     33\u001b[0m \u001b[38;5;28;01mfrom\u001b[39;00m \u001b[38;5;21;01mtensorflow\u001b[39;00m\u001b[38;5;21;01m.\u001b[39;00m\u001b[38;5;21;01mkeras\u001b[39;00m\u001b[38;5;21;01m.\u001b[39;00m\u001b[38;5;21;01mlayers\u001b[39;00m \u001b[38;5;28;01mimport\u001b[39;00m Dense, Activation, BatchNormalization, Dropout \n\u001b[1;32m     34\u001b[0m \u001b[38;5;28;01mfrom\u001b[39;00m \u001b[38;5;21;01mtensorflow\u001b[39;00m\u001b[38;5;21;01m.\u001b[39;00m\u001b[38;5;21;01mpython\u001b[39;00m\u001b[38;5;21;01m.\u001b[39;00m\u001b[38;5;21;01mkeras\u001b[39;00m\u001b[38;5;21;01m.\u001b[39;00m\u001b[38;5;21;01minitializers\u001b[39;00m \u001b[38;5;28;01mimport\u001b[39;00m RandomNormal\n",
      "File \u001b[0;32m/opt/anaconda3/lib/python3.9/site-packages/tensorflow/__init__.py:37\u001b[0m, in \u001b[0;36m<module>\u001b[0;34m\u001b[0m\n\u001b[1;32m     34\u001b[0m \u001b[38;5;28;01mimport\u001b[39;00m \u001b[38;5;21;01msys\u001b[39;00m \u001b[38;5;28;01mas\u001b[39;00m \u001b[38;5;21;01m_sys\u001b[39;00m\n\u001b[1;32m     35\u001b[0m \u001b[38;5;28;01mimport\u001b[39;00m \u001b[38;5;21;01mtyping\u001b[39;00m \u001b[38;5;28;01mas\u001b[39;00m \u001b[38;5;21;01m_typing\u001b[39;00m\n\u001b[0;32m---> 37\u001b[0m \u001b[38;5;28;01mfrom\u001b[39;00m \u001b[38;5;21;01mtensorflow\u001b[39;00m\u001b[38;5;21;01m.\u001b[39;00m\u001b[38;5;21;01mpython\u001b[39;00m\u001b[38;5;21;01m.\u001b[39;00m\u001b[38;5;21;01mtools\u001b[39;00m \u001b[38;5;28;01mimport\u001b[39;00m module_util \u001b[38;5;28;01mas\u001b[39;00m _module_util\n\u001b[1;32m     38\u001b[0m \u001b[38;5;28;01mfrom\u001b[39;00m \u001b[38;5;21;01mtensorflow\u001b[39;00m\u001b[38;5;21;01m.\u001b[39;00m\u001b[38;5;21;01mpython\u001b[39;00m\u001b[38;5;21;01m.\u001b[39;00m\u001b[38;5;21;01mutil\u001b[39;00m\u001b[38;5;21;01m.\u001b[39;00m\u001b[38;5;21;01mlazy_loader\u001b[39;00m \u001b[38;5;28;01mimport\u001b[39;00m LazyLoader \u001b[38;5;28;01mas\u001b[39;00m _LazyLoader\n\u001b[1;32m     40\u001b[0m \u001b[38;5;66;03m# Make sure code inside the TensorFlow codebase can use tf2.enabled() at import.\u001b[39;00m\n",
      "File \u001b[0;32m/opt/anaconda3/lib/python3.9/site-packages/tensorflow/python/__init__.py:42\u001b[0m, in \u001b[0;36m<module>\u001b[0;34m\u001b[0m\n\u001b[1;32m     37\u001b[0m \u001b[38;5;28;01mfrom\u001b[39;00m \u001b[38;5;21;01mtensorflow\u001b[39;00m\u001b[38;5;21;01m.\u001b[39;00m\u001b[38;5;21;01mpython\u001b[39;00m\u001b[38;5;21;01m.\u001b[39;00m\u001b[38;5;21;01meager\u001b[39;00m \u001b[38;5;28;01mimport\u001b[39;00m context\n\u001b[1;32m     39\u001b[0m \u001b[38;5;66;03m# pylint: enable=wildcard-import\u001b[39;00m\n\u001b[1;32m     40\u001b[0m \n\u001b[1;32m     41\u001b[0m \u001b[38;5;66;03m# Bring in subpackages.\u001b[39;00m\n\u001b[0;32m---> 42\u001b[0m \u001b[38;5;28;01mfrom\u001b[39;00m \u001b[38;5;21;01mtensorflow\u001b[39;00m\u001b[38;5;21;01m.\u001b[39;00m\u001b[38;5;21;01mpython\u001b[39;00m \u001b[38;5;28;01mimport\u001b[39;00m data\n\u001b[1;32m     43\u001b[0m \u001b[38;5;28;01mfrom\u001b[39;00m \u001b[38;5;21;01mtensorflow\u001b[39;00m\u001b[38;5;21;01m.\u001b[39;00m\u001b[38;5;21;01mpython\u001b[39;00m \u001b[38;5;28;01mimport\u001b[39;00m distribute\n\u001b[1;32m     44\u001b[0m \u001b[38;5;66;03m# from tensorflow.python import keras\u001b[39;00m\n",
      "File \u001b[0;32m/opt/anaconda3/lib/python3.9/site-packages/tensorflow/python/data/__init__.py:21\u001b[0m, in \u001b[0;36m<module>\u001b[0;34m\u001b[0m\n\u001b[1;32m     15\u001b[0m \u001b[38;5;124;03m\"\"\"`tf.data.Dataset` API for input pipelines.\u001b[39;00m\n\u001b[1;32m     16\u001b[0m \n\u001b[1;32m     17\u001b[0m \u001b[38;5;124;03mSee [Importing Data](https://tensorflow.org/guide/data) for an overview.\u001b[39;00m\n\u001b[1;32m     18\u001b[0m \u001b[38;5;124;03m\"\"\"\u001b[39;00m\n\u001b[1;32m     20\u001b[0m \u001b[38;5;66;03m# pylint: disable=unused-import\u001b[39;00m\n\u001b[0;32m---> 21\u001b[0m \u001b[38;5;28;01mfrom\u001b[39;00m \u001b[38;5;21;01mtensorflow\u001b[39;00m\u001b[38;5;21;01m.\u001b[39;00m\u001b[38;5;21;01mpython\u001b[39;00m\u001b[38;5;21;01m.\u001b[39;00m\u001b[38;5;21;01mdata\u001b[39;00m \u001b[38;5;28;01mimport\u001b[39;00m experimental\n\u001b[1;32m     22\u001b[0m \u001b[38;5;28;01mfrom\u001b[39;00m \u001b[38;5;21;01mtensorflow\u001b[39;00m\u001b[38;5;21;01m.\u001b[39;00m\u001b[38;5;21;01mpython\u001b[39;00m\u001b[38;5;21;01m.\u001b[39;00m\u001b[38;5;21;01mdata\u001b[39;00m\u001b[38;5;21;01m.\u001b[39;00m\u001b[38;5;21;01mops\u001b[39;00m\u001b[38;5;21;01m.\u001b[39;00m\u001b[38;5;21;01mdataset_ops\u001b[39;00m \u001b[38;5;28;01mimport\u001b[39;00m AUTOTUNE\n\u001b[1;32m     23\u001b[0m \u001b[38;5;28;01mfrom\u001b[39;00m \u001b[38;5;21;01mtensorflow\u001b[39;00m\u001b[38;5;21;01m.\u001b[39;00m\u001b[38;5;21;01mpython\u001b[39;00m\u001b[38;5;21;01m.\u001b[39;00m\u001b[38;5;21;01mdata\u001b[39;00m\u001b[38;5;21;01m.\u001b[39;00m\u001b[38;5;21;01mops\u001b[39;00m\u001b[38;5;21;01m.\u001b[39;00m\u001b[38;5;21;01mdataset_ops\u001b[39;00m \u001b[38;5;28;01mimport\u001b[39;00m Dataset\n",
      "File \u001b[0;32m/opt/anaconda3/lib/python3.9/site-packages/tensorflow/python/data/experimental/__init__.py:96\u001b[0m, in \u001b[0;36m<module>\u001b[0;34m\u001b[0m\n\u001b[1;32m     15\u001b[0m \u001b[38;5;124;03m\"\"\"Experimental API for building input pipelines.\u001b[39;00m\n\u001b[1;32m     16\u001b[0m \n\u001b[1;32m     17\u001b[0m \u001b[38;5;124;03mThis module contains experimental `Dataset` sources and transformations that can\u001b[39;00m\n\u001b[0;32m   (...)\u001b[0m\n\u001b[1;32m     92\u001b[0m \u001b[38;5;124;03m@@UNKNOWN_CARDINALITY\u001b[39;00m\n\u001b[1;32m     93\u001b[0m \u001b[38;5;124;03m\"\"\"\u001b[39;00m\n\u001b[1;32m     95\u001b[0m \u001b[38;5;66;03m# pylint: disable=unused-import\u001b[39;00m\n\u001b[0;32m---> 96\u001b[0m \u001b[38;5;28;01mfrom\u001b[39;00m \u001b[38;5;21;01mtensorflow\u001b[39;00m\u001b[38;5;21;01m.\u001b[39;00m\u001b[38;5;21;01mpython\u001b[39;00m\u001b[38;5;21;01m.\u001b[39;00m\u001b[38;5;21;01mdata\u001b[39;00m\u001b[38;5;21;01m.\u001b[39;00m\u001b[38;5;21;01mexperimental\u001b[39;00m \u001b[38;5;28;01mimport\u001b[39;00m service\n\u001b[1;32m     97\u001b[0m \u001b[38;5;28;01mfrom\u001b[39;00m \u001b[38;5;21;01mtensorflow\u001b[39;00m\u001b[38;5;21;01m.\u001b[39;00m\u001b[38;5;21;01mpython\u001b[39;00m\u001b[38;5;21;01m.\u001b[39;00m\u001b[38;5;21;01mdata\u001b[39;00m\u001b[38;5;21;01m.\u001b[39;00m\u001b[38;5;21;01mexperimental\u001b[39;00m\u001b[38;5;21;01m.\u001b[39;00m\u001b[38;5;21;01mops\u001b[39;00m\u001b[38;5;21;01m.\u001b[39;00m\u001b[38;5;21;01mbatching\u001b[39;00m \u001b[38;5;28;01mimport\u001b[39;00m dense_to_ragged_batch\n\u001b[1;32m     98\u001b[0m \u001b[38;5;28;01mfrom\u001b[39;00m \u001b[38;5;21;01mtensorflow\u001b[39;00m\u001b[38;5;21;01m.\u001b[39;00m\u001b[38;5;21;01mpython\u001b[39;00m\u001b[38;5;21;01m.\u001b[39;00m\u001b[38;5;21;01mdata\u001b[39;00m\u001b[38;5;21;01m.\u001b[39;00m\u001b[38;5;21;01mexperimental\u001b[39;00m\u001b[38;5;21;01m.\u001b[39;00m\u001b[38;5;21;01mops\u001b[39;00m\u001b[38;5;21;01m.\u001b[39;00m\u001b[38;5;21;01mbatching\u001b[39;00m \u001b[38;5;28;01mimport\u001b[39;00m dense_to_sparse_batch\n",
      "File \u001b[0;32m/opt/anaconda3/lib/python3.9/site-packages/tensorflow/python/data/experimental/service/__init__.py:419\u001b[0m, in \u001b[0;36m<module>\u001b[0;34m\u001b[0m\n\u001b[1;32m      1\u001b[0m \u001b[38;5;66;03m# Copyright 2020 The TensorFlow Authors. All Rights Reserved.\u001b[39;00m\n\u001b[1;32m      2\u001b[0m \u001b[38;5;66;03m#\u001b[39;00m\n\u001b[1;32m      3\u001b[0m \u001b[38;5;66;03m# Licensed under the Apache License, Version 2.0 (the \"License\");\u001b[39;00m\n\u001b[0;32m   (...)\u001b[0m\n\u001b[1;32m     13\u001b[0m \u001b[38;5;66;03m# limitations under the License.\u001b[39;00m\n\u001b[1;32m     14\u001b[0m \u001b[38;5;66;03m# ==============================================================================\u001b[39;00m\n\u001b[1;32m     15\u001b[0m \u001b[38;5;124;03m\"\"\"API for using the tf.data service.\u001b[39;00m\n\u001b[1;32m     16\u001b[0m \n\u001b[1;32m     17\u001b[0m \u001b[38;5;124;03mThis module contains:\u001b[39;00m\n\u001b[0;32m   (...)\u001b[0m\n\u001b[1;32m    416\u001b[0m \u001b[38;5;124;03m  job of ParameterServerStrategy).\u001b[39;00m\n\u001b[1;32m    417\u001b[0m \u001b[38;5;124;03m\"\"\"\u001b[39;00m\n\u001b[0;32m--> 419\u001b[0m \u001b[38;5;28;01mfrom\u001b[39;00m \u001b[38;5;21;01mtensorflow\u001b[39;00m\u001b[38;5;21;01m.\u001b[39;00m\u001b[38;5;21;01mpython\u001b[39;00m\u001b[38;5;21;01m.\u001b[39;00m\u001b[38;5;21;01mdata\u001b[39;00m\u001b[38;5;21;01m.\u001b[39;00m\u001b[38;5;21;01mexperimental\u001b[39;00m\u001b[38;5;21;01m.\u001b[39;00m\u001b[38;5;21;01mops\u001b[39;00m\u001b[38;5;21;01m.\u001b[39;00m\u001b[38;5;21;01mdata_service_ops\u001b[39;00m \u001b[38;5;28;01mimport\u001b[39;00m distribute\n\u001b[1;32m    420\u001b[0m \u001b[38;5;28;01mfrom\u001b[39;00m \u001b[38;5;21;01mtensorflow\u001b[39;00m\u001b[38;5;21;01m.\u001b[39;00m\u001b[38;5;21;01mpython\u001b[39;00m\u001b[38;5;21;01m.\u001b[39;00m\u001b[38;5;21;01mdata\u001b[39;00m\u001b[38;5;21;01m.\u001b[39;00m\u001b[38;5;21;01mexperimental\u001b[39;00m\u001b[38;5;21;01m.\u001b[39;00m\u001b[38;5;21;01mops\u001b[39;00m\u001b[38;5;21;01m.\u001b[39;00m\u001b[38;5;21;01mdata_service_ops\u001b[39;00m \u001b[38;5;28;01mimport\u001b[39;00m from_dataset_id\n\u001b[1;32m    421\u001b[0m \u001b[38;5;28;01mfrom\u001b[39;00m \u001b[38;5;21;01mtensorflow\u001b[39;00m\u001b[38;5;21;01m.\u001b[39;00m\u001b[38;5;21;01mpython\u001b[39;00m\u001b[38;5;21;01m.\u001b[39;00m\u001b[38;5;21;01mdata\u001b[39;00m\u001b[38;5;21;01m.\u001b[39;00m\u001b[38;5;21;01mexperimental\u001b[39;00m\u001b[38;5;21;01m.\u001b[39;00m\u001b[38;5;21;01mops\u001b[39;00m\u001b[38;5;21;01m.\u001b[39;00m\u001b[38;5;21;01mdata_service_ops\u001b[39;00m \u001b[38;5;28;01mimport\u001b[39;00m register_dataset\n",
      "File \u001b[0;32m/opt/anaconda3/lib/python3.9/site-packages/tensorflow/python/data/experimental/ops/data_service_ops.py:24\u001b[0m, in \u001b[0;36m<module>\u001b[0;34m\u001b[0m\n\u001b[1;32m     22\u001b[0m \u001b[38;5;28;01mfrom\u001b[39;00m \u001b[38;5;21;01mtensorflow\u001b[39;00m\u001b[38;5;21;01m.\u001b[39;00m\u001b[38;5;21;01mpython\u001b[39;00m \u001b[38;5;28;01mimport\u001b[39;00m tf2\n\u001b[1;32m     23\u001b[0m \u001b[38;5;28;01mfrom\u001b[39;00m \u001b[38;5;21;01mtensorflow\u001b[39;00m\u001b[38;5;21;01m.\u001b[39;00m\u001b[38;5;21;01mpython\u001b[39;00m\u001b[38;5;21;01m.\u001b[39;00m\u001b[38;5;21;01mcompat\u001b[39;00m \u001b[38;5;28;01mimport\u001b[39;00m compat\n\u001b[0;32m---> 24\u001b[0m \u001b[38;5;28;01mfrom\u001b[39;00m \u001b[38;5;21;01mtensorflow\u001b[39;00m\u001b[38;5;21;01m.\u001b[39;00m\u001b[38;5;21;01mpython\u001b[39;00m\u001b[38;5;21;01m.\u001b[39;00m\u001b[38;5;21;01mdata\u001b[39;00m\u001b[38;5;21;01m.\u001b[39;00m\u001b[38;5;21;01mexperimental\u001b[39;00m\u001b[38;5;21;01m.\u001b[39;00m\u001b[38;5;21;01mops\u001b[39;00m \u001b[38;5;28;01mimport\u001b[39;00m compression_ops\n\u001b[1;32m     25\u001b[0m \u001b[38;5;28;01mfrom\u001b[39;00m \u001b[38;5;21;01mtensorflow\u001b[39;00m\u001b[38;5;21;01m.\u001b[39;00m\u001b[38;5;21;01mpython\u001b[39;00m\u001b[38;5;21;01m.\u001b[39;00m\u001b[38;5;21;01mdata\u001b[39;00m\u001b[38;5;21;01m.\u001b[39;00m\u001b[38;5;21;01mexperimental\u001b[39;00m\u001b[38;5;21;01m.\u001b[39;00m\u001b[38;5;21;01mservice\u001b[39;00m \u001b[38;5;28;01mimport\u001b[39;00m _pywrap_server_lib\n\u001b[1;32m     26\u001b[0m \u001b[38;5;28;01mfrom\u001b[39;00m \u001b[38;5;21;01mtensorflow\u001b[39;00m\u001b[38;5;21;01m.\u001b[39;00m\u001b[38;5;21;01mpython\u001b[39;00m\u001b[38;5;21;01m.\u001b[39;00m\u001b[38;5;21;01mdata\u001b[39;00m\u001b[38;5;21;01m.\u001b[39;00m\u001b[38;5;21;01mexperimental\u001b[39;00m\u001b[38;5;21;01m.\u001b[39;00m\u001b[38;5;21;01mservice\u001b[39;00m \u001b[38;5;28;01mimport\u001b[39;00m _pywrap_utils\n",
      "File \u001b[0;32m/opt/anaconda3/lib/python3.9/site-packages/tensorflow/python/data/experimental/ops/compression_ops.py:16\u001b[0m, in \u001b[0;36m<module>\u001b[0;34m\u001b[0m\n\u001b[1;32m      1\u001b[0m \u001b[38;5;66;03m# Copyright 2020 The TensorFlow Authors. All Rights Reserved.\u001b[39;00m\n\u001b[1;32m      2\u001b[0m \u001b[38;5;66;03m#\u001b[39;00m\n\u001b[1;32m      3\u001b[0m \u001b[38;5;66;03m# Licensed under the Apache License, Version 2.0 (the \"License\");\u001b[39;00m\n\u001b[0;32m   (...)\u001b[0m\n\u001b[1;32m     13\u001b[0m \u001b[38;5;66;03m# limitations under the License.\u001b[39;00m\n\u001b[1;32m     14\u001b[0m \u001b[38;5;66;03m# ==============================================================================\u001b[39;00m\n\u001b[1;32m     15\u001b[0m \u001b[38;5;124;03m\"\"\"Ops for compressing and uncompressing dataset elements.\"\"\"\u001b[39;00m\n\u001b[0;32m---> 16\u001b[0m \u001b[38;5;28;01mfrom\u001b[39;00m \u001b[38;5;21;01mtensorflow\u001b[39;00m\u001b[38;5;21;01m.\u001b[39;00m\u001b[38;5;21;01mpython\u001b[39;00m\u001b[38;5;21;01m.\u001b[39;00m\u001b[38;5;21;01mdata\u001b[39;00m\u001b[38;5;21;01m.\u001b[39;00m\u001b[38;5;21;01mutil\u001b[39;00m \u001b[38;5;28;01mimport\u001b[39;00m structure\n\u001b[1;32m     17\u001b[0m \u001b[38;5;28;01mfrom\u001b[39;00m \u001b[38;5;21;01mtensorflow\u001b[39;00m\u001b[38;5;21;01m.\u001b[39;00m\u001b[38;5;21;01mpython\u001b[39;00m\u001b[38;5;21;01m.\u001b[39;00m\u001b[38;5;21;01mops\u001b[39;00m \u001b[38;5;28;01mimport\u001b[39;00m gen_experimental_dataset_ops \u001b[38;5;28;01mas\u001b[39;00m ged_ops\n\u001b[1;32m     20\u001b[0m \u001b[38;5;28;01mdef\u001b[39;00m \u001b[38;5;21mcompress\u001b[39m(element):\n",
      "File \u001b[0;32m/opt/anaconda3/lib/python3.9/site-packages/tensorflow/python/data/util/structure.py:23\u001b[0m, in \u001b[0;36m<module>\u001b[0;34m\u001b[0m\n\u001b[1;32m     20\u001b[0m \u001b[38;5;28;01mimport\u001b[39;00m \u001b[38;5;21;01msix\u001b[39;00m\n\u001b[1;32m     21\u001b[0m \u001b[38;5;28;01mimport\u001b[39;00m \u001b[38;5;21;01mwrapt\u001b[39;00m\n\u001b[0;32m---> 23\u001b[0m \u001b[38;5;28;01mfrom\u001b[39;00m \u001b[38;5;21;01mtensorflow\u001b[39;00m\u001b[38;5;21;01m.\u001b[39;00m\u001b[38;5;21;01mpython\u001b[39;00m\u001b[38;5;21;01m.\u001b[39;00m\u001b[38;5;21;01mdata\u001b[39;00m\u001b[38;5;21;01m.\u001b[39;00m\u001b[38;5;21;01mutil\u001b[39;00m \u001b[38;5;28;01mimport\u001b[39;00m nest\n\u001b[1;32m     24\u001b[0m \u001b[38;5;28;01mfrom\u001b[39;00m \u001b[38;5;21;01mtensorflow\u001b[39;00m\u001b[38;5;21;01m.\u001b[39;00m\u001b[38;5;21;01mpython\u001b[39;00m\u001b[38;5;21;01m.\u001b[39;00m\u001b[38;5;21;01mframework\u001b[39;00m \u001b[38;5;28;01mimport\u001b[39;00m composite_tensor\n\u001b[1;32m     25\u001b[0m \u001b[38;5;28;01mfrom\u001b[39;00m \u001b[38;5;21;01mtensorflow\u001b[39;00m\u001b[38;5;21;01m.\u001b[39;00m\u001b[38;5;21;01mpython\u001b[39;00m\u001b[38;5;21;01m.\u001b[39;00m\u001b[38;5;21;01mframework\u001b[39;00m \u001b[38;5;28;01mimport\u001b[39;00m ops\n",
      "File \u001b[0;32m/opt/anaconda3/lib/python3.9/site-packages/tensorflow/python/data/util/nest.py:36\u001b[0m, in \u001b[0;36m<module>\u001b[0;34m\u001b[0m\n\u001b[1;32m     16\u001b[0m \u001b[38;5;124;03m\"\"\"## Functions for working with arbitrarily nested sequences of elements.\u001b[39;00m\n\u001b[1;32m     17\u001b[0m \n\u001b[1;32m     18\u001b[0m \u001b[38;5;124;03mNOTE(mrry): This fork of the `tensorflow.python.util.nest` module\u001b[39;00m\n\u001b[0;32m   (...)\u001b[0m\n\u001b[1;32m     31\u001b[0m \u001b[38;5;124;03m   arrays.\u001b[39;00m\n\u001b[1;32m     32\u001b[0m \u001b[38;5;124;03m\"\"\"\u001b[39;00m\n\u001b[1;32m     34\u001b[0m \u001b[38;5;28;01mimport\u001b[39;00m \u001b[38;5;21;01msix\u001b[39;00m \u001b[38;5;28;01mas\u001b[39;00m \u001b[38;5;21;01m_six\u001b[39;00m\n\u001b[0;32m---> 36\u001b[0m \u001b[38;5;28;01mfrom\u001b[39;00m \u001b[38;5;21;01mtensorflow\u001b[39;00m\u001b[38;5;21;01m.\u001b[39;00m\u001b[38;5;21;01mpython\u001b[39;00m\u001b[38;5;21;01m.\u001b[39;00m\u001b[38;5;21;01mframework\u001b[39;00m \u001b[38;5;28;01mimport\u001b[39;00m sparse_tensor \u001b[38;5;28;01mas\u001b[39;00m _sparse_tensor\n\u001b[1;32m     37\u001b[0m \u001b[38;5;28;01mfrom\u001b[39;00m \u001b[38;5;21;01mtensorflow\u001b[39;00m\u001b[38;5;21;01m.\u001b[39;00m\u001b[38;5;21;01mpython\u001b[39;00m\u001b[38;5;21;01m.\u001b[39;00m\u001b[38;5;21;01mutil\u001b[39;00m \u001b[38;5;28;01mimport\u001b[39;00m _pywrap_utils\n\u001b[1;32m     38\u001b[0m \u001b[38;5;28;01mfrom\u001b[39;00m \u001b[38;5;21;01mtensorflow\u001b[39;00m\u001b[38;5;21;01m.\u001b[39;00m\u001b[38;5;21;01mpython\u001b[39;00m\u001b[38;5;21;01m.\u001b[39;00m\u001b[38;5;21;01mutil\u001b[39;00m \u001b[38;5;28;01mimport\u001b[39;00m nest\n",
      "File \u001b[0;32m/opt/anaconda3/lib/python3.9/site-packages/tensorflow/python/framework/sparse_tensor.py:24\u001b[0m, in \u001b[0;36m<module>\u001b[0;34m\u001b[0m\n\u001b[1;32m     22\u001b[0m \u001b[38;5;28;01mfrom\u001b[39;00m \u001b[38;5;21;01mtensorflow\u001b[39;00m\u001b[38;5;21;01m.\u001b[39;00m\u001b[38;5;21;01mpython\u001b[39;00m \u001b[38;5;28;01mimport\u001b[39;00m tf2\n\u001b[1;32m     23\u001b[0m \u001b[38;5;28;01mfrom\u001b[39;00m \u001b[38;5;21;01mtensorflow\u001b[39;00m\u001b[38;5;21;01m.\u001b[39;00m\u001b[38;5;21;01mpython\u001b[39;00m\u001b[38;5;21;01m.\u001b[39;00m\u001b[38;5;21;01mframework\u001b[39;00m \u001b[38;5;28;01mimport\u001b[39;00m composite_tensor\n\u001b[0;32m---> 24\u001b[0m \u001b[38;5;28;01mfrom\u001b[39;00m \u001b[38;5;21;01mtensorflow\u001b[39;00m\u001b[38;5;21;01m.\u001b[39;00m\u001b[38;5;21;01mpython\u001b[39;00m\u001b[38;5;21;01m.\u001b[39;00m\u001b[38;5;21;01mframework\u001b[39;00m \u001b[38;5;28;01mimport\u001b[39;00m constant_op\n\u001b[1;32m     25\u001b[0m \u001b[38;5;28;01mfrom\u001b[39;00m \u001b[38;5;21;01mtensorflow\u001b[39;00m\u001b[38;5;21;01m.\u001b[39;00m\u001b[38;5;21;01mpython\u001b[39;00m\u001b[38;5;21;01m.\u001b[39;00m\u001b[38;5;21;01mframework\u001b[39;00m \u001b[38;5;28;01mimport\u001b[39;00m dtypes\n\u001b[1;32m     26\u001b[0m \u001b[38;5;28;01mfrom\u001b[39;00m \u001b[38;5;21;01mtensorflow\u001b[39;00m\u001b[38;5;21;01m.\u001b[39;00m\u001b[38;5;21;01mpython\u001b[39;00m\u001b[38;5;21;01m.\u001b[39;00m\u001b[38;5;21;01mframework\u001b[39;00m \u001b[38;5;28;01mimport\u001b[39;00m ops\n",
      "File \u001b[0;32m/opt/anaconda3/lib/python3.9/site-packages/tensorflow/python/framework/constant_op.py:25\u001b[0m, in \u001b[0;36m<module>\u001b[0;34m\u001b[0m\n\u001b[1;32m     23\u001b[0m \u001b[38;5;28;01mfrom\u001b[39;00m \u001b[38;5;21;01mtensorflow\u001b[39;00m\u001b[38;5;21;01m.\u001b[39;00m\u001b[38;5;21;01mcore\u001b[39;00m\u001b[38;5;21;01m.\u001b[39;00m\u001b[38;5;21;01mframework\u001b[39;00m \u001b[38;5;28;01mimport\u001b[39;00m types_pb2\n\u001b[1;32m     24\u001b[0m \u001b[38;5;28;01mfrom\u001b[39;00m \u001b[38;5;21;01mtensorflow\u001b[39;00m\u001b[38;5;21;01m.\u001b[39;00m\u001b[38;5;21;01mpython\u001b[39;00m\u001b[38;5;21;01m.\u001b[39;00m\u001b[38;5;21;01meager\u001b[39;00m \u001b[38;5;28;01mimport\u001b[39;00m context\n\u001b[0;32m---> 25\u001b[0m \u001b[38;5;28;01mfrom\u001b[39;00m \u001b[38;5;21;01mtensorflow\u001b[39;00m\u001b[38;5;21;01m.\u001b[39;00m\u001b[38;5;21;01mpython\u001b[39;00m\u001b[38;5;21;01m.\u001b[39;00m\u001b[38;5;21;01meager\u001b[39;00m \u001b[38;5;28;01mimport\u001b[39;00m execute\n\u001b[1;32m     26\u001b[0m \u001b[38;5;28;01mfrom\u001b[39;00m \u001b[38;5;21;01mtensorflow\u001b[39;00m\u001b[38;5;21;01m.\u001b[39;00m\u001b[38;5;21;01mpython\u001b[39;00m\u001b[38;5;21;01m.\u001b[39;00m\u001b[38;5;21;01mframework\u001b[39;00m \u001b[38;5;28;01mimport\u001b[39;00m dtypes\n\u001b[1;32m     27\u001b[0m \u001b[38;5;28;01mfrom\u001b[39;00m \u001b[38;5;21;01mtensorflow\u001b[39;00m\u001b[38;5;21;01m.\u001b[39;00m\u001b[38;5;21;01mpython\u001b[39;00m\u001b[38;5;21;01m.\u001b[39;00m\u001b[38;5;21;01mframework\u001b[39;00m \u001b[38;5;28;01mimport\u001b[39;00m op_callbacks\n",
      "File \u001b[0;32m/opt/anaconda3/lib/python3.9/site-packages/tensorflow/python/eager/execute.py:23\u001b[0m, in \u001b[0;36m<module>\u001b[0;34m\u001b[0m\n\u001b[1;32m     21\u001b[0m \u001b[38;5;28;01mfrom\u001b[39;00m \u001b[38;5;21;01mtensorflow\u001b[39;00m\u001b[38;5;21;01m.\u001b[39;00m\u001b[38;5;21;01mpython\u001b[39;00m \u001b[38;5;28;01mimport\u001b[39;00m pywrap_tfe\n\u001b[1;32m     22\u001b[0m \u001b[38;5;28;01mfrom\u001b[39;00m \u001b[38;5;21;01mtensorflow\u001b[39;00m\u001b[38;5;21;01m.\u001b[39;00m\u001b[38;5;21;01mpython\u001b[39;00m\u001b[38;5;21;01m.\u001b[39;00m\u001b[38;5;21;01meager\u001b[39;00m \u001b[38;5;28;01mimport\u001b[39;00m core\n\u001b[0;32m---> 23\u001b[0m \u001b[38;5;28;01mfrom\u001b[39;00m \u001b[38;5;21;01mtensorflow\u001b[39;00m\u001b[38;5;21;01m.\u001b[39;00m\u001b[38;5;21;01mpython\u001b[39;00m\u001b[38;5;21;01m.\u001b[39;00m\u001b[38;5;21;01mframework\u001b[39;00m \u001b[38;5;28;01mimport\u001b[39;00m dtypes\n\u001b[1;32m     24\u001b[0m \u001b[38;5;28;01mfrom\u001b[39;00m \u001b[38;5;21;01mtensorflow\u001b[39;00m\u001b[38;5;21;01m.\u001b[39;00m\u001b[38;5;21;01mpython\u001b[39;00m\u001b[38;5;21;01m.\u001b[39;00m\u001b[38;5;21;01mframework\u001b[39;00m \u001b[38;5;28;01mimport\u001b[39;00m ops\n\u001b[1;32m     25\u001b[0m \u001b[38;5;28;01mfrom\u001b[39;00m \u001b[38;5;21;01mtensorflow\u001b[39;00m\u001b[38;5;21;01m.\u001b[39;00m\u001b[38;5;21;01mpython\u001b[39;00m\u001b[38;5;21;01m.\u001b[39;00m\u001b[38;5;21;01mframework\u001b[39;00m \u001b[38;5;28;01mimport\u001b[39;00m tensor_shape\n",
      "File \u001b[0;32m/opt/anaconda3/lib/python3.9/site-packages/tensorflow/python/framework/dtypes.py:34\u001b[0m, in \u001b[0;36m<module>\u001b[0;34m\u001b[0m\n\u001b[1;32m     31\u001b[0m \u001b[38;5;28;01mfrom\u001b[39;00m \u001b[38;5;21;01mtensorflow\u001b[39;00m\u001b[38;5;21;01m.\u001b[39;00m\u001b[38;5;21;01mpython\u001b[39;00m\u001b[38;5;21;01m.\u001b[39;00m\u001b[38;5;21;01mtypes\u001b[39;00m \u001b[38;5;28;01mimport\u001b[39;00m trace\n\u001b[1;32m     32\u001b[0m \u001b[38;5;28;01mfrom\u001b[39;00m \u001b[38;5;21;01mtensorflow\u001b[39;00m\u001b[38;5;21;01m.\u001b[39;00m\u001b[38;5;21;01mcore\u001b[39;00m\u001b[38;5;21;01m.\u001b[39;00m\u001b[38;5;21;01mfunction\u001b[39;00m \u001b[38;5;28;01mimport\u001b[39;00m trace_type\n\u001b[0;32m---> 34\u001b[0m _np_bfloat16 \u001b[38;5;241m=\u001b[39m \u001b[43m_pywrap_bfloat16\u001b[49m\u001b[38;5;241;43m.\u001b[39;49m\u001b[43mTF_bfloat16_type\u001b[49m\u001b[43m(\u001b[49m\u001b[43m)\u001b[49m\n\u001b[1;32m     37\u001b[0m \u001b[38;5;28;01mclass\u001b[39;00m \u001b[38;5;21;01mDTypeMeta\u001b[39;00m(\u001b[38;5;28mtype\u001b[39m(_dtypes\u001b[38;5;241m.\u001b[39mDType), abc\u001b[38;5;241m.\u001b[39mABCMeta):\n\u001b[1;32m     38\u001b[0m   \u001b[38;5;28;01mpass\u001b[39;00m\n",
      "\u001b[0;31mTypeError\u001b[0m: Unable to convert function return value to a Python type! The signature was\n\t() -> handle"
     ]
    }
   ],
   "source": [
    "# Data Manipulation libraries\n",
    "import numpy as np # linear algebra\n",
    "import pandas as pd # data processing, CSV file I/O (e.g. pd.read_csv)\n",
    "\n",
    "import os\n",
    "\n",
    "# NLP libraries\n",
    "import string # Library for string operations\n",
    "import nltk \n",
    "from nltk.corpus import stopwords\n",
    "from nltk.stem.snowball import SnowballStemmer\n",
    "import re # Regex library\n",
    "import demoji\n",
    "from wordcloud import WordCloud # Word Cloud library\n",
    "\n",
    "# ploting libraries\n",
    "import matplotlib.pyplot as plt\n",
    "\n",
    "# ML/AI libraries\n",
    "from sklearn.model_selection import train_test_split\n",
    "from sklearn.feature_extraction.text import TfidfVectorizer\n",
    "from sklearn.linear_model import LinearRegression\n",
    "from sklearn.linear_model import LogisticRegression\n",
    "from sklearn.naive_bayes import GaussianNB, BernoulliNB, ComplementNB, MultinomialNB\n",
    "from sklearn import svm\n",
    "from sklearn.ensemble import RandomForestClassifier\n",
    "from sklearn.metrics import accuracy_score\n",
    "from sklearn.metrics import roc_auc_score\n",
    "from sklearn.metrics import precision_recall_fscore_support\n",
    "from sklearn.tree import DecisionTreeClassifier\n",
    "\n",
    "from tensorflow.keras.models import Sequential \n",
    "from tensorflow.keras.layers import Dense, Activation, BatchNormalization, Dropout \n",
    "from tensorflow.python.keras.initializers import RandomNormal\n",
    "from sklearn.feature_extraction.text import CountVectorizer\n",
    "from sklearn.feature_extraction.text import TfidfTransformer\n",
    "from sklearn import metrics"
   ]
  },
  {
   "cell_type": "markdown",
   "id": "8a6d3e99",
   "metadata": {
    "id": "8a6d3e99"
   },
   "source": [
    "# Loading Data"
   ]
  },
  {
   "cell_type": "code",
   "execution_count": 5,
   "id": "a146971f",
   "metadata": {
    "colab": {
     "base_uri": "https://localhost:8080/",
     "height": 215
    },
    "id": "a146971f",
    "outputId": "09164868-4fb1-4c73-d613-0079cbdec400"
   },
   "outputs": [
    {
     "name": "stdout",
     "output_type": "stream",
     "text": [
      "Total DataSet:  7613\n",
      "Columns:  ['id', 'keyword', 'location', 'text', 'target']\n",
      "Training Data 6090\n",
      "Testing Data 1523\n"
     ]
    },
    {
     "data": {
      "text/html": [
       "<div>\n",
       "<style scoped>\n",
       "    .dataframe tbody tr th:only-of-type {\n",
       "        vertical-align: middle;\n",
       "    }\n",
       "\n",
       "    .dataframe tbody tr th {\n",
       "        vertical-align: top;\n",
       "    }\n",
       "\n",
       "    .dataframe thead th {\n",
       "        text-align: right;\n",
       "    }\n",
       "</style>\n",
       "<table border=\"1\" class=\"dataframe\">\n",
       "  <thead>\n",
       "    <tr style=\"text-align: right;\">\n",
       "      <th></th>\n",
       "      <th>id</th>\n",
       "      <th>keyword</th>\n",
       "      <th>location</th>\n",
       "      <th>text</th>\n",
       "      <th>target</th>\n",
       "    </tr>\n",
       "  </thead>\n",
       "  <tbody>\n",
       "    <tr>\n",
       "      <th>0</th>\n",
       "      <td>1</td>\n",
       "      <td>NaN</td>\n",
       "      <td>NaN</td>\n",
       "      <td>Our Deeds are the Reason of this #earthquake M...</td>\n",
       "      <td>1</td>\n",
       "    </tr>\n",
       "    <tr>\n",
       "      <th>1</th>\n",
       "      <td>4</td>\n",
       "      <td>NaN</td>\n",
       "      <td>NaN</td>\n",
       "      <td>Forest fire near La Ronge Sask. Canada</td>\n",
       "      <td>1</td>\n",
       "    </tr>\n",
       "    <tr>\n",
       "      <th>2</th>\n",
       "      <td>5</td>\n",
       "      <td>NaN</td>\n",
       "      <td>NaN</td>\n",
       "      <td>All residents asked to 'shelter in place' are ...</td>\n",
       "      <td>1</td>\n",
       "    </tr>\n",
       "  </tbody>\n",
       "</table>\n",
       "</div>"
      ],
      "text/plain": [
       "   id keyword location                                               text  \\\n",
       "0   1     NaN      NaN  Our Deeds are the Reason of this #earthquake M...   \n",
       "1   4     NaN      NaN             Forest fire near La Ronge Sask. Canada   \n",
       "2   5     NaN      NaN  All residents asked to 'shelter in place' are ...   \n",
       "\n",
       "   target  \n",
       "0       1  \n",
       "1       1  \n",
       "2       1  "
      ]
     },
     "execution_count": 5,
     "metadata": {},
     "output_type": "execute_result"
    }
   ],
   "source": [
    "data = pd.read_csv(\"train.csv\")\n",
    "\n",
    "# Basic Info\n",
    "print(\"Total DataSet: \", len(data))\n",
    "print(\"Columns: \", list(data.columns))\n",
    "\n",
    "X = data[[\"id\", \"keyword\", \"location\", \"text\"]] # Features\n",
    "y = data[[\"id\",\"target\"]] #Labels\n",
    "\n",
    "X_train, X_test, y_train, y_test = train_test_split(X, y, test_size=0.2)\n",
    "print(\"Training Data\", len(y_train))\n",
    "print(\"Testing Data\", len(y_test))\n",
    "\n",
    "data.head(3)"
   ]
  },
  {
   "cell_type": "markdown",
   "id": "70d1d0c1",
   "metadata": {
    "id": "70d1d0c1"
   },
   "source": [
    "# Exploratory Data Analysis"
   ]
  },
  {
   "cell_type": "markdown",
   "id": "aa973535",
   "metadata": {
    "id": "aa973535"
   },
   "source": [
    "## Analyzing Labels"
   ]
  },
  {
   "cell_type": "code",
   "execution_count": 6,
   "id": "bb2cbf69",
   "metadata": {
    "id": "bb2cbf69"
   },
   "outputs": [],
   "source": [
    "Real_len = data[data['target'] == 1].shape[0]\n",
    "Not_len = data[data['target'] == 0].shape[0]"
   ]
  },
  {
   "cell_type": "code",
   "execution_count": 7,
   "id": "ae4da145",
   "metadata": {
    "colab": {
     "base_uri": "https://localhost:8080/",
     "height": 336
    },
    "id": "ae4da145",
    "outputId": "c8ca3ab3-6240-40cd-9ac2-e9dc7e24f5cc"
   },
   "outputs": [
    {
     "data": {
      "image/png": "[encoded data removed]",
      "text/plain": [
       "<Figure size 504x360 with 1 Axes>"
      ]
     },
     "metadata": {
      "needs_background": "light"
     },
     "output_type": "display_data"
    }
   ],
   "source": [
    "# bar plot of the 3 classes\n",
    "plt.rcParams['figure.figsize'] = (7, 5)\n",
    "plt.bar(10,Real_len,3, label=\"Real\", color='blue')\n",
    "plt.bar(15,Not_len,3, label=\"Not\", color='red')\n",
    "plt.legend()\n",
    "plt.ylabel('Number of examples')\n",
    "plt.title('Proportion of examples')\n",
    "plt.show()"
   ]
  },
  {
   "cell_type": "markdown",
   "id": "716f41a2",
   "metadata": {
    "id": "716f41a2"
   },
   "source": [
    "## Analyzing Features"
   ]
  },
  {
   "cell_type": "markdown",
   "id": "88955d80",
   "metadata": {
    "id": "88955d80"
   },
   "source": [
    "### Sentence Length Analysis"
   ]
  },
  {
   "cell_type": "code",
   "execution_count": 8,
   "id": "c11885dc",
   "metadata": {
    "colab": {
     "base_uri": "https://localhost:8080/"
    },
    "id": "c11885dc",
    "outputId": "b5ccb0f4-1ebe-4889-ac8b-fa23328a5671"
   },
   "outputs": [
    {
     "data": {
      "text/plain": [
       "<bound method NDFrame.head of          id keyword location  \\\n",
       "0         1     NaN      NaN   \n",
       "1         4     NaN      NaN   \n",
       "2         5     NaN      NaN   \n",
       "3         6     NaN      NaN   \n",
       "4         7     NaN      NaN   \n",
       "...     ...     ...      ...   \n",
       "7608  10869     NaN      NaN   \n",
       "7609  10870     NaN      NaN   \n",
       "7610  10871     NaN      NaN   \n",
       "7611  10872     NaN      NaN   \n",
       "7612  10873     NaN      NaN   \n",
       "\n",
       "                                                   text  target  length  \n",
       "0     Our Deeds are the Reason of this #earthquake M...       1      69  \n",
       "1                Forest fire near La Ronge Sask. Canada       1      38  \n",
       "2     All residents asked to 'shelter in place' are ...       1     133  \n",
       "3     13,000 people receive #wildfires evacuation or...       1      65  \n",
       "4     Just got sent this photo from Ruby #Alaska as ...       1      88  \n",
       "...                                                 ...     ...     ...  \n",
       "7608  Two giant cranes holding a bridge collapse int...       1      83  \n",
       "7609  @aria_ahrary @TheTawniest The out of control w...       1     125  \n",
       "7610  M1.94 [01:04 UTC]?5km S of Volcano Hawaii. htt...       1      65  \n",
       "7611  Police investigating after an e-bike collided ...       1     137  \n",
       "7612  The Latest: More Homes Razed by Northern Calif...       1      94  \n",
       "\n",
       "[7613 rows x 6 columns]>"
      ]
     },
     "execution_count": 8,
     "metadata": {},
     "output_type": "execute_result"
    }
   ],
   "source": [
    "def length(string):    \n",
    "    return len(string)\n",
    "data['length'] = data['text'].apply(length)\n",
    "data.head"
   ]
  },
  {
   "cell_type": "code",
   "execution_count": 9,
   "id": "9d4347b3",
   "metadata": {
    "colab": {
     "base_uri": "https://localhost:8080/",
     "height": 374
    },
    "id": "9d4347b3",
    "outputId": "e7f256f4-2615-443f-f8d0-31e64360c38f"
   },
   "outputs": [
    {
     "data": {
      "image/png": "[encoded data removed]",
      "text/plain": [
       "<Figure size 1296x432 with 1 Axes>"
      ]
     },
     "metadata": {
      "needs_background": "light"
     },
     "output_type": "display_data"
    }
   ],
   "source": [
    "plt.rcParams['figure.figsize'] = (18.0, 6.0)\n",
    "bins = 150\n",
    "plt.hist(data[data['target'] == 0]['length'], alpha = 0.6, bins=bins, label='Not')\n",
    "plt.hist(data[data['target'] == 1]['length'], alpha = 0.8, bins=bins, label='Real')\n",
    "plt.xlabel('length')\n",
    "plt.ylabel('numbers')\n",
    "plt.legend(loc='upper right')\n",
    "plt.xlim(0,150)\n",
    "plt.grid()\n",
    "plt.show()"
   ]
  },
  {
   "cell_type": "code",
   "execution_count": 10,
   "id": "df24560d",
   "metadata": {
    "colab": {
     "base_uri": "https://localhost:8080/",
     "height": 356
    },
    "id": "df24560d",
    "outputId": "237e8b8f-8c93-489e-ffba-566224c9b532"
   },
   "outputs": [
    {
     "data": {
      "image/png": "[encoded data removed]",
      "text/plain": [
       "<Figure size 720x360 with 2 Axes>"
      ]
     },
     "metadata": {
      "needs_background": "light"
     },
     "output_type": "display_data"
    }
   ],
   "source": [
    "fig,(ax1,ax2)=plt.subplots(1,2,figsize=(10,5))\n",
    "tweet_len=data[data['target']==1]['text'].str.len()\n",
    "ax1.hist(tweet_len,color='blue')\n",
    "ax1.set_title('disaster tweets')\n",
    "tweet_len=data[data['target']==0]['text'].str.len()\n",
    "ax2.hist(tweet_len,color='red')\n",
    "ax2.set_title('Not disaster tweets')\n",
    "fig.suptitle('Characters in tweets')\n",
    "plt.show()"
   ]
  },
  {
   "cell_type": "markdown",
   "id": "d366ee66",
   "metadata": {
    "id": "d366ee66"
   },
   "source": [
    "# Data Cleaning"
   ]
  },
  {
   "cell_type": "markdown",
   "id": "f6d096ac",
   "metadata": {
    "id": "f6d096ac"
   },
   "source": [
    "## Done to prepare data for analysis or modification by identifying data that is incorrect, incomplete, duplicate or badly formatted"
   ]
  },
  {
   "cell_type": "markdown",
   "id": "9135df8d",
   "metadata": {
    "id": "9135df8d"
   },
   "source": [
    "### Possible text field may contain\n",
    "### 1. URLs\n",
    "### 2. Tags\n",
    "### 3. Emoticons\n",
    "### 4. HTML Tags\n",
    "### 5. Stopwords\n",
    "### 6. Useless Characters"
   ]
  },
  {
   "cell_type": "markdown",
   "id": "728d1d5c",
   "metadata": {
    "id": "728d1d5c"
   },
   "source": [
    "#### 1. Removing URLs"
   ]
  },
  {
   "cell_type": "code",
   "execution_count": 11,
   "id": "81e6b781",
   "metadata": {
    "id": "81e6b781"
   },
   "outputs": [],
   "source": [
    "def Remove_Url(string):\n",
    "    return re.sub(r'(https|http)?:\\/\\/(\\w|\\.|\\/|\\?|\\=|\\&|\\%|\\-)*\\b', '', string)"
   ]
  },
  {
   "cell_type": "markdown",
   "id": "2db9d725",
   "metadata": {
    "id": "2db9d725"
   },
   "source": [
    "### 2. Handle Tags"
   ]
  },
  {
   "cell_type": "code",
   "execution_count": 13,
   "id": "ee6e5ace",
   "metadata": {
    "id": "ee6e5ace"
   },
   "outputs": [],
   "source": [
    "def Handle_Tags(string):\n",
    "    pattern = re.compile(r'[@|#][^\\s]+')\n",
    "    matches = pattern.findall(string)\n",
    "    tags = [match[1:] for match in matches]\n",
    "    # Removing tags from main string\n",
    "    string = re.sub(pattern, '', string)\n",
    "    # More weightage to tag by adding them 3 times\n",
    "    return string + ' ' + ' '.join(tags) + ' '+ ' '.join(tags) + ' ' + ' '.join(tags)"
   ]
  },
  {
   "cell_type": "code",
   "execution_count": 14,
   "id": "33eac996",
   "metadata": {
    "colab": {
     "base_uri": "https://localhost:8080/"
    },
    "id": "33eac996",
    "outputId": "ad44c060-e23d-4bc2-b4d6-2e30e41597af"
   },
   "outputs": [
    {
     "name": "stdout",
     "output_type": "stream",
     "text": [
      "Example of text without Handling Tags: \n",
      " Spot Flood Combo 53inch 300W Curved Cree LED Work Light Bar 4X4 Offroad Fog Lamp - Full reÛ_ http://t.co/jCDd6SD6Qn http://t.co/9gUCkjghms\n",
      "\n",
      "Example of text with Handling Tags: \n",
      " Spot Flood Combo 53inch 300W Curved Cree LED Work Light Bar 4X4 Offroad Fog Lamp - Full reÛ_ http://t.co/jCDd6SD6Qn http://t.co/9gUCkjghms   \n"
     ]
    }
   ],
   "source": [
    "print(\"Example of text without Handling Tags: \\n\", X_train['text'][3914],end = \"\\n\\n\")\n",
    "X_train['text'] = X_train['text'].apply(Handle_Tags)\n",
    "print(\"Example of text with Handling Tags: \\n\", X_train['text'][3914])"
   ]
  },
  {
   "cell_type": "markdown",
   "id": "3c9a31a4",
   "metadata": {
    "id": "3c9a31a4"
   },
   "source": [
    "### 3. Handle Emoticons"
   ]
  },
  {
   "cell_type": "code",
   "execution_count": 15,
   "id": "3190fe7d",
   "metadata": {
    "id": "3190fe7d"
   },
   "outputs": [],
   "source": [
    "def Handle_emoji(string):\n",
    "    return demoji.replace_with_desc(string)"
   ]
  },
  {
   "cell_type": "code",
   "execution_count": 16,
   "id": "62e2e0ca",
   "metadata": {
    "colab": {
     "base_uri": "https://localhost:8080/"
    },
    "id": "62e2e0ca",
    "outputId": "351e9ffd-53ac-4e4a-9fb6-dd8b8f992cf5"
   },
   "outputs": [
    {
     "data": {
      "text/plain": [
       "6330    VIDEO: Virgin Galactic crash: Brakes blamed: I...\n",
       "5871    You can only make yourself happy. Fuck those t...\n",
       "3236     CA  : Registered Nurse - Emergency Department...\n",
       "2387    25 killed as Kamayani Express Janata Express d...\n",
       "3399     Bore him with minutiae serve bad champagne. H...\n",
       "                              ...                        \n",
       "812     What if every 5000 wins in ranked play gave yo...\n",
       "198     Why is there an ambulance right outside my wor...\n",
       "3043     's things she looks in a significant other:\\n...\n",
       "7415    DESCRIPTIONS OF 'WOUNDED CATS BEING 'EXCITING'...\n",
       "2545    Plot\\nIn the futurea totalitarian government e...\n",
       "Name: text, Length: 6090, dtype: object"
      ]
     },
     "execution_count": 16,
     "metadata": {},
     "output_type": "execute_result"
    }
   ],
   "source": [
    "X_train['text']"
   ]
  },
  {
   "cell_type": "code",
   "execution_count": 17,
   "id": "a412fcc5",
   "metadata": {
    "colab": {
     "base_uri": "https://localhost:8080/"
    },
    "id": "a412fcc5",
    "outputId": "5b9d0cdd-0d4c-455d-b3f8-72cc4f1a3a48"
   },
   "outputs": [
    {
     "name": "stdout",
     "output_type": "stream",
     "text": [
      "Example of text without Handled Emojis: \n",
      " 6330    VIDEO: Virgin Galactic crash: Brakes blamed: I...\n",
      "5871    You can only make yourself happy. Fuck those t...\n",
      "3236     CA  : Registered Nurse - Emergency Department...\n",
      "2387    25 killed as Kamayani Express Janata Express d...\n",
      "3399     Bore him with minutiae serve bad champagne. H...\n",
      "                              ...                        \n",
      "812     What if every 5000 wins in ranked play gave yo...\n",
      "198     Why is there an ambulance right outside my wor...\n",
      "3043     's things she looks in a significant other:\\n...\n",
      "7415    DESCRIPTIONS OF 'WOUNDED CATS BEING 'EXCITING'...\n",
      "2545    Plot\\nIn the futurea totalitarian government e...\n",
      "Name: text, Length: 6090, dtype: object\n",
      "\n",
      "Example of text with Handled Emoji: \n",
      " 6330    VIDEO: Virgin Galactic crash: Brakes blamed: I...\n",
      "5871    You can only make yourself happy. Fuck those t...\n",
      "3236     CA  : Registered Nurse - Emergency Department...\n",
      "2387    25 killed as Kamayani Express Janata Express d...\n",
      "3399     Bore him with minutiae serve bad champagne. H...\n",
      "                              ...                        \n",
      "812     What if every 5000 wins in ranked play gave yo...\n",
      "198     Why is there an ambulance right outside my wor...\n",
      "3043     's things she looks in a significant other:\\n...\n",
      "7415    DESCRIPTIONS OF 'WOUNDED CATS BEING 'EXCITING'...\n",
      "2545    Plot\\nIn the futurea totalitarian government e...\n",
      "Name: text, Length: 6090, dtype: object\n"
     ]
    }
   ],
   "source": [
    "print(\"Example of text without Handled Emojis: \\n\", X_train['text'],end = \"\\n\\n\")\n",
    "X_train['text'] = X_train['text'].apply(Handle_emoji)\n",
    "print(\"Example of text with Handled Emoji: \\n\", X_train['text'])"
   ]
  },
  {
   "cell_type": "markdown",
   "id": "690589d9",
   "metadata": {
    "id": "690589d9"
   },
   "source": [
    "#### All graphic emoticons have been text converted in the CSV so emoticons are already handled"
   ]
  },
  {
   "cell_type": "markdown",
   "id": "fa75a109",
   "metadata": {
    "id": "fa75a109"
   },
   "source": [
    "### 4. Remove HTML Tags"
   ]
  },
  {
   "cell_type": "code",
   "execution_count": 18,
   "id": "1a193146",
   "metadata": {
    "id": "1a193146"
   },
   "outputs": [],
   "source": [
    "def Remove_html(string):\n",
    "    return re.sub(r'<.*?>|&([a-z0-9]+|#[0-9]{1,6}|#x[0-9a-f]{1,6});', '', str(string))"
   ]
  },
  {
   "cell_type": "code",
   "execution_count": 19,
   "id": "69d58f65",
   "metadata": {
    "id": "69d58f65"
   },
   "outputs": [],
   "source": [
    "X_train['text'] = X_train['text'].apply(Remove_html)"
   ]
  },
  {
   "cell_type": "markdown",
   "id": "29608931",
   "metadata": {
    "id": "29608931"
   },
   "source": [
    "### 5. Remove Stopwords and Stemming"
   ]
  },
  {
   "cell_type": "code",
   "execution_count": 20,
   "id": "8311e6e6",
   "metadata": {
    "colab": {
     "base_uri": "https://localhost:8080/"
    },
    "id": "8311e6e6",
    "outputId": "908a72d9-a94f-4e08-810e-d470dc6620b9"
   },
   "outputs": [
    {
     "name": "stderr",
     "output_type": "stream",
     "text": [
      "[nltk_data] Downloading package punkt to\n",
      "[nltk_data]     /Users/parthrudakia/nltk_data...\n",
      "[nltk_data]   Package punkt is already up-to-date!\n",
      "[nltk_data] Downloading package stopwords to\n",
      "[nltk_data]     /Users/parthrudakia/nltk_data...\n",
      "[nltk_data]   Package stopwords is already up-to-date!\n"
     ]
    }
   ],
   "source": [
    "nltk.download('punkt')\n",
    "nltk.download('stopwords')\n",
    "stemmer  = SnowballStemmer('english')"
   ]
  },
  {
   "cell_type": "code",
   "execution_count": 21,
   "id": "6d7d4546",
   "metadata": {
    "id": "6d7d4546"
   },
   "outputs": [],
   "source": [
    "stopword = stopwords.words('english')\n",
    "def Remove_StopAndStem(string):\n",
    "    string_list = string.split()\n",
    "    return ' '.join([stemmer.stem(i) for i in string_list if i not in stopword])"
   ]
  },
  {
   "cell_type": "code",
   "execution_count": 22,
   "id": "60ff5201",
   "metadata": {
    "colab": {
     "base_uri": "https://localhost:8080/"
    },
    "id": "60ff5201",
    "outputId": "675e9b60-5d03-4d5d-ab57-1c12b11b69dd"
   },
   "outputs": [
    {
     "data": {
      "text/plain": [
       "6330    VIDEO: Virgin Galactic crash: Brakes blamed: I...\n",
       "5871    You can only make yourself happy. Fuck those t...\n",
       "3236     CA  : Registered Nurse - Emergency Department...\n",
       "2387    25 killed as Kamayani Express Janata Express d...\n",
       "3399     Bore him with minutiae serve bad champagne. H...\n",
       "                              ...                        \n",
       "812     What if every 5000 wins in ranked play gave yo...\n",
       "198     Why is there an ambulance right outside my wor...\n",
       "3043     's things she looks in a significant other:\\n...\n",
       "7415    DESCRIPTIONS OF 'WOUNDED CATS BEING 'EXCITING'...\n",
       "2545    Plot\\nIn the futurea totalitarian government e...\n",
       "Name: text, Length: 6090, dtype: object"
      ]
     },
     "execution_count": 22,
     "metadata": {},
     "output_type": "execute_result"
    }
   ],
   "source": [
    "X_train['text']"
   ]
  },
  {
   "cell_type": "code",
   "execution_count": 23,
   "id": "354d981a",
   "metadata": {
    "colab": {
     "base_uri": "https://localhost:8080/"
    },
    "id": "354d981a",
    "outputId": "6a34a2a8-7d43-4f70-b85b-c145f69deb9f"
   },
   "outputs": [
    {
     "name": "stdout",
     "output_type": "stream",
     "text": [
      "Example of text before Removing Stopwords: \n",
      " 6330    VIDEO: Virgin Galactic crash: Brakes blamed: I...\n",
      "5871    You can only make yourself happy. Fuck those t...\n",
      "3236     CA  : Registered Nurse - Emergency Department...\n",
      "2387    25 killed as Kamayani Express Janata Express d...\n",
      "3399     Bore him with minutiae serve bad champagne. H...\n",
      "                              ...                        \n",
      "812     What if every 5000 wins in ranked play gave yo...\n",
      "198     Why is there an ambulance right outside my wor...\n",
      "3043     's things she looks in a significant other:\\n...\n",
      "7415    DESCRIPTIONS OF 'WOUNDED CATS BEING 'EXCITING'...\n",
      "2545    Plot\\nIn the futurea totalitarian government e...\n",
      "Name: text, Length: 6090, dtype: object\n",
      "\n",
      "Example of text after Removing Stopwords and Stemming: \n",
      " 6330    video: virgin galact crash: brake blamed: inve...\n",
      "5871        you make happy. fuck tryna ruin keep smile ??\n",
      "3236    ca : regist nurs - emerg depart ( full time......\n",
      "2387    25 kill kamayani express janata express derail...\n",
      "3399    bore minutia serv bad champagne. he may explod...\n",
      "                              ...                        \n",
      "812     what everi 5000 win rank play gave special car...\n",
      "198                           whi ambul right outsid work\n",
      "3043    's thing look signific other: 1. beauti eyes. ...\n",
      "7415    descript of wound cat be excit http://t.co/bjy...\n",
      "2545    plot in futurea totalitarian govern employ for...\n",
      "Name: text, Length: 6090, dtype: object\n"
     ]
    }
   ],
   "source": [
    "print(\"Example of text before Removing Stopwords: \\n\", X_train['text'],end = \"\\n\\n\")\n",
    "X_train['text'] = X_train['text'].apply(Remove_StopAndStem)\n",
    "print(\"Example of text after Removing Stopwords and Stemming: \\n\", X_train['text'])"
   ]
  },
  {
   "cell_type": "markdown",
   "id": "af71ba44",
   "metadata": {
    "id": "af71ba44"
   },
   "source": [
    "### 6. Removing Useless Characters"
   ]
  },
  {
   "cell_type": "code",
   "execution_count": 24,
   "id": "cdf2e6cc",
   "metadata": {
    "id": "cdf2e6cc"
   },
   "outputs": [],
   "source": [
    "def Remove_UC(string):\n",
    "    thestring = re.sub(r'[^a-zA-Z\\s]','', string)\n",
    "    # remove word of length less than 2\n",
    "    thestring = re.sub(r'\\b\\w{1,2}\\b', '', thestring)\n",
    "    return re.sub(' +', ' ', thestring) "
   ]
  },
  {
   "cell_type": "code",
   "execution_count": 25,
   "id": "998c55cc",
   "metadata": {
    "id": "998c55cc"
   },
   "outputs": [],
   "source": [
    "#print(\"Example of text before Removing Useless Character: \\n\", X_train['text'],end = \"\\n\\n\")\n",
    "X_train['text'] = X_train['text'].apply(Remove_UC)\n",
    "#print(\"Example of text after Removing Useless Character: \\n\", X_train['text'])"
   ]
  },
  {
   "cell_type": "code",
   "execution_count": 26,
   "id": "2c936494",
   "metadata": {
    "id": "2c936494"
   },
   "outputs": [],
   "source": [
    "def merging_details(data):\n",
    "        #df = pd.DataFrame(columns=['id', 'Cleaned_data'])\n",
    "        df_list = []\n",
    "        \n",
    "        \n",
    "        for row in data.itertuples():\n",
    "            df_dict = {}\n",
    "            # Processing Keyword and location\n",
    "            keyword = re.sub(r'[^a-zA-Z\\s]','', str(row[2]))\n",
    "            location = re.sub(r'[^a-zA-Z\\s]','', str(row[3]))\n",
    "            keyword = re.sub(r'\\b\\w{1,2}\\b', '', keyword)\n",
    "            location = re.sub(r'\\b\\w{1,2}\\b', '', location)\n",
    "            # Already processed data\n",
    "            text = str(row[4])\n",
    "\n",
    "            if keyword == 'nan':\n",
    "                if location == 'nan':    \n",
    "                    prs_data = text\n",
    "                else:\n",
    "                    prs_data = location + ' ' + text\n",
    "            else:\n",
    "                if location == 'nan':    \n",
    "                    prs_data = keyword + ' ' + text\n",
    "                else:\n",
    "                    prs_data = keyword + ' ' + location + ' ' + text                \n",
    "            \n",
    "            prs_data = re.sub(' +', ' ', prs_data) \n",
    "            \n",
    "            df_dict['Cleaned_data'] = prs_data\n",
    "            \n",
    "            df_list.append(df_dict)\n",
    "            \n",
    "                \n",
    "        return pd.DataFrame(df_list)"
   ]
  },
  {
   "cell_type": "code",
   "execution_count": 27,
   "id": "6e8e62b4",
   "metadata": {
    "id": "6e8e62b4"
   },
   "outputs": [],
   "source": [
    "X_train = merging_details(X_train)"
   ]
  },
  {
   "cell_type": "code",
   "execution_count": 28,
   "id": "676e1d83",
   "metadata": {
    "colab": {
     "base_uri": "https://localhost:8080/",
     "height": 424
    },
    "id": "676e1d83",
    "outputId": "c9743b9b-1d83-4876-a6e4-7f55e2e85921"
   },
   "outputs": [
    {
     "data": {
      "text/html": [
       "<div>\n",
       "<style scoped>\n",
       "    .dataframe tbody tr th:only-of-type {\n",
       "        vertical-align: middle;\n",
       "    }\n",
       "\n",
       "    .dataframe tbody tr th {\n",
       "        vertical-align: top;\n",
       "    }\n",
       "\n",
       "    .dataframe thead th {\n",
       "        text-align: right;\n",
       "    }\n",
       "</style>\n",
       "<table border=\"1\" class=\"dataframe\">\n",
       "  <thead>\n",
       "    <tr style=\"text-align: right;\">\n",
       "      <th></th>\n",
       "      <th>Cleaned_data</th>\n",
       "    </tr>\n",
       "  </thead>\n",
       "  <tbody>\n",
       "    <tr>\n",
       "      <th>0</th>\n",
       "      <td>structuralfailure video virgin galact crash br...</td>\n",
       "    </tr>\n",
       "    <tr>\n",
       "      <th>1</th>\n",
       "      <td>ruin you make happy fuck tryna ruin keep smile</td>\n",
       "    </tr>\n",
       "    <tr>\n",
       "      <th>2</th>\n",
       "      <td>emergencyservices Los Angeles regist nurs emer...</td>\n",
       "    </tr>\n",
       "    <tr>\n",
       "      <th>3</th>\n",
       "      <td>derail Nairobi kill kamayani express janata ex...</td>\n",
       "    </tr>\n",
       "    <tr>\n",
       "      <th>4</th>\n",
       "      <td>explode bore minutia serv bad champagne may ex...</td>\n",
       "    </tr>\n",
       "    <tr>\n",
       "      <th>...</th>\n",
       "      <td>...</td>\n",
       "    </tr>\n",
       "    <tr>\n",
       "      <th>6085</th>\n",
       "      <td>blizzard what everi win rank play gave special...</td>\n",
       "    </tr>\n",
       "    <tr>\n",
       "      <th>6086</th>\n",
       "      <td>ambulance whi ambul right outsid work</td>\n",
       "    </tr>\n",
       "    <tr>\n",
       "      <th>6087</th>\n",
       "      <td>earthquake box thing look signific other beaut...</td>\n",
       "    </tr>\n",
       "    <tr>\n",
       "      <th>6088</th>\n",
       "      <td>wounded descript wound cat excit httptcobjycrgfhi</td>\n",
       "    </tr>\n",
       "    <tr>\n",
       "      <th>6089</th>\n",
       "      <td>destroy San Diego plot futurea totalitarian go...</td>\n",
       "    </tr>\n",
       "  </tbody>\n",
       "</table>\n",
       "<p>6090 rows × 1 columns</p>\n",
       "</div>"
      ],
      "text/plain": [
       "                                           Cleaned_data\n",
       "0     structuralfailure video virgin galact crash br...\n",
       "1       ruin you make happy fuck tryna ruin keep smile \n",
       "2     emergencyservices Los Angeles regist nurs emer...\n",
       "3     derail Nairobi kill kamayani express janata ex...\n",
       "4     explode bore minutia serv bad champagne may ex...\n",
       "...                                                 ...\n",
       "6085  blizzard what everi win rank play gave special...\n",
       "6086              ambulance whi ambul right outsid work\n",
       "6087  earthquake box thing look signific other beaut...\n",
       "6088  wounded descript wound cat excit httptcobjycrgfhi\n",
       "6089  destroy San Diego plot futurea totalitarian go...\n",
       "\n",
       "[6090 rows x 1 columns]"
      ]
     },
     "execution_count": 28,
     "metadata": {},
     "output_type": "execute_result"
    }
   ],
   "source": [
    "X_train"
   ]
  },
  {
   "cell_type": "code",
   "execution_count": 29,
   "id": "c8e746f1",
   "metadata": {
    "colab": {
     "base_uri": "https://localhost:8080/",
     "height": 407
    },
    "id": "c8e746f1",
    "outputId": "e2dbf97f-c7f8-47b7-dbf9-0d672179ca75"
   },
   "outputs": [
    {
     "data": {
      "image/png": "[encoded data removed]",
      "text/plain": [
       "<Figure size 720x360 with 1 Axes>"
      ]
     },
     "metadata": {
      "needs_background": "light"
     },
     "output_type": "display_data"
    },
    {
     "name": "stdout",
     "output_type": "stream",
     "text": [
      "CPU times: user 673 ms, sys: 38.7 ms, total: 712 ms\n",
      "Wall time: 563 ms\n"
     ]
    }
   ],
   "source": [
    "%%time\n",
    "dict_of_words = {}\n",
    "for row in  X_train.itertuples():\n",
    "    for i in row[1].split():\n",
    "        try:\n",
    "            dict_of_words[i] += 1\n",
    "        except:\n",
    "            dict_of_words[i] = 1\n",
    "\n",
    "#Initializing  WordCloud\n",
    "wordcloud = WordCloud(background_color = 'black', width=1000, height=500).generate_from_frequencies(dict_of_words)\n",
    "fig = plt.figure(figsize=(10,5))\n",
    "plt.imshow(wordcloud)\n",
    "plt.tight_layout(pad=1)\n",
    "plt.show()"
   ]
  },
  {
   "cell_type": "markdown",
   "id": "8ddc0453",
   "metadata": {
    "id": "8ddc0453"
   },
   "source": [
    "# Final Pre-Processing of Data"
   ]
  },
  {
   "cell_type": "code",
   "execution_count": 30,
   "id": "7555fd0c",
   "metadata": {
    "id": "7555fd0c"
   },
   "outputs": [],
   "source": [
    "# Step 1. Remove Url\n",
    "X_test['text'] = X_test['text'].apply(Remove_Url)\n",
    "# Step 2. Handle Tags\n",
    "X_test['text'] = X_test['text'].apply(Handle_Tags)\n",
    "# Step 3. Handle emoji's\n",
    "X_test['text'] = X_test['text'].apply(Handle_emoji)\n",
    "# Step 4. Remove HTML Tags\n",
    "X_test['text'] = X_test['text'].apply(Remove_html)\n",
    "# Step 5. Remove Stopwords and Stemming\n",
    "X_test['text'] = X_test['text'].apply(Remove_StopAndStem)\n",
    "# Step 6. Removing Useless Characters\n",
    "X_test['text'] = X_test['text'].apply(Remove_UC)\n",
    "# Step7. Merging Other Details\n",
    "X_test = merging_details(X_test)"
   ]
  },
  {
   "cell_type": "code",
   "execution_count": 31,
   "id": "54f3344d",
   "metadata": {
    "colab": {
     "base_uri": "https://localhost:8080/",
     "height": 424
    },
    "id": "54f3344d",
    "outputId": "5c37744a-451c-46e0-8e96-dd24f33bd802"
   },
   "outputs": [
    {
     "data": {
      "text/html": [
       "<div>\n",
       "<style scoped>\n",
       "    .dataframe tbody tr th:only-of-type {\n",
       "        vertical-align: middle;\n",
       "    }\n",
       "\n",
       "    .dataframe tbody tr th {\n",
       "        vertical-align: top;\n",
       "    }\n",
       "\n",
       "    .dataframe thead th {\n",
       "        text-align: right;\n",
       "    }\n",
       "</style>\n",
       "<table border=\"1\" class=\"dataframe\">\n",
       "  <thead>\n",
       "    <tr style=\"text-align: right;\">\n",
       "      <th></th>\n",
       "      <th>Cleaned_data</th>\n",
       "    </tr>\n",
       "  </thead>\n",
       "  <tbody>\n",
       "    <tr>\n",
       "      <th>0</th>\n",
       "      <td>arson Chicago owner chicagoarea gay bar admit ...</td>\n",
       "    </tr>\n",
       "    <tr>\n",
       "      <th>1</th>\n",
       "      <td>collapse Location get feel societi collaps imp...</td>\n",
       "    </tr>\n",
       "    <tr>\n",
       "      <th>2</th>\n",
       "      <td>nucleardisaster beforeitsnew former execut pro...</td>\n",
       "    </tr>\n",
       "    <tr>\n",
       "      <th>3</th>\n",
       "      <td>eyewitness eyewit travel guide denmark travel ...</td>\n",
       "    </tr>\n",
       "    <tr>\n",
       "      <th>4</th>\n",
       "      <td>demolish complet quest demolish murlo game the...</td>\n",
       "    </tr>\n",
       "    <tr>\n",
       "      <th>...</th>\n",
       "      <td>...</td>\n",
       "    </tr>\n",
       "    <tr>\n",
       "      <th>1518</th>\n",
       "      <td>mayhem beach read august hop give away book ma...</td>\n",
       "    </tr>\n",
       "    <tr>\n",
       "      <th>1519</th>\n",
       "      <td>injuries Bay Area forsur back gym tomorrow bod...</td>\n",
       "    </tr>\n",
       "    <tr>\n",
       "      <th>1520</th>\n",
       "      <td>hijacker Southern California san jose mercury ...</td>\n",
       "    </tr>\n",
       "    <tr>\n",
       "      <th>1521</th>\n",
       "      <td>flames Bacon better sean bro admit sean flame ...</td>\n",
       "    </tr>\n",
       "    <tr>\n",
       "      <th>1522</th>\n",
       "      <td>sunk Wisconsin the court reput prestig sunk ev...</td>\n",
       "    </tr>\n",
       "  </tbody>\n",
       "</table>\n",
       "<p>1523 rows × 1 columns</p>\n",
       "</div>"
      ],
      "text/plain": [
       "                                           Cleaned_data\n",
       "0     arson Chicago owner chicagoarea gay bar admit ...\n",
       "1     collapse Location get feel societi collaps imp...\n",
       "2     nucleardisaster beforeitsnew former execut pro...\n",
       "3     eyewitness eyewit travel guide denmark travel ...\n",
       "4     demolish complet quest demolish murlo game the...\n",
       "...                                                 ...\n",
       "1518  mayhem beach read august hop give away book ma...\n",
       "1519  injuries Bay Area forsur back gym tomorrow bod...\n",
       "1520  hijacker Southern California san jose mercury ...\n",
       "1521  flames Bacon better sean bro admit sean flame ...\n",
       "1522  sunk Wisconsin the court reput prestig sunk ev...\n",
       "\n",
       "[1523 rows x 1 columns]"
      ]
     },
     "execution_count": 31,
     "metadata": {},
     "output_type": "execute_result"
    }
   ],
   "source": [
    "X_test"
   ]
  },
  {
   "cell_type": "code",
   "execution_count": 32,
   "id": "0dd65370",
   "metadata": {
    "id": "0dd65370"
   },
   "outputs": [],
   "source": [
    "y_train = y_train['target']\n",
    "y_test = y_test['target']"
   ]
  },
  {
   "cell_type": "code",
   "execution_count": 33,
   "id": "9ae537bc",
   "metadata": {
    "colab": {
     "base_uri": "https://localhost:8080/"
    },
    "id": "9ae537bc",
    "outputId": "1bae8786-8230-4833-b474-75a1eeb760be"
   },
   "outputs": [
    {
     "name": "stdout",
     "output_type": "stream",
     "text": [
      "CPU times: user 353 ms, sys: 15.3 ms, total: 368 ms\n",
      "Wall time: 371 ms\n"
     ]
    }
   ],
   "source": [
    "%%time\n",
    "#smooth_idf=True by default so smoothing is done by defult.\n",
    "#norm is l2 by default.\n",
    "#subliner is used False by default.\n",
    "vectorizer = TfidfVectorizer(min_df = 0.0005, \n",
    "                             max_features = 100000, \n",
    "                             tokenizer = lambda x: x.split(),\n",
    "                             ngram_range = (1,4))\n",
    "\n",
    "\n",
    "X_train = vectorizer.fit_transform(X_train['Cleaned_data'])\n",
    "X_test = vectorizer.transform(X_test['Cleaned_data'])"
   ]
  },
  {
   "cell_type": "code",
   "execution_count": 34,
   "id": "eb4d4112",
   "metadata": {
    "colab": {
     "base_uri": "https://localhost:8080/"
    },
    "id": "eb4d4112",
    "outputId": "77791a9a-8e9c-464c-dbcd-74c2a5a71487"
   },
   "outputs": [
    {
     "name": "stdout",
     "output_type": "stream",
     "text": [
      "Training Points:  6090 | Training Features: 5495\n",
      "Testing Points:  1523 | Testing Features: 5495\n",
      "\n",
      "Training Points:  6090\n",
      "Testing Points:  1523\n"
     ]
    }
   ],
   "source": [
    "#https://stackoverflow.com/questions/16505670/generating-a-dense-matrix-from-a-sparse-matrix-in-numpy-python\n",
    "print(\"Training Points: \", len(X_train.toarray()),\"| Training Features:\" , len(X_train.toarray()[0]))\n",
    "print(\"Testing Points: \", len(X_test.toarray()),\"| Testing Features:\" , len(X_test.toarray()[0]))\n",
    "print()\n",
    "print(\"Training Points: \", len(y_train))\n",
    "print(\"Testing Points: \", len(y_test))"
   ]
  },
  {
   "cell_type": "markdown",
   "id": "b64696ea",
   "metadata": {
    "id": "b64696ea"
   },
   "source": [
    "# Machine Learning"
   ]
  },
  {
   "cell_type": "markdown",
   "id": "6a1d5ba7",
   "metadata": {
    "id": "6a1d5ba7"
   },
   "source": [
    "## Logistic Regression"
   ]
  },
  {
   "cell_type": "code",
   "execution_count": 35,
   "id": "263b21ec",
   "metadata": {
    "colab": {
     "base_uri": "https://localhost:8080/"
    },
    "id": "263b21ec",
    "outputId": "b2306496-4f98-4093-d068-e4d41a77970e"
   },
   "outputs": [
    {
     "name": "stdout",
     "output_type": "stream",
     "text": [
      "Acuracy 0.7944845699277742\n",
      "Macro precision_recall_fscore_support\n",
      "(0.7963232796871063, 0.784235802659418, 0.7876101660404562, None)\n",
      "Micro precision_recall_fscore_support\n",
      "(0.7944845699277742, 0.7944845699277742, 0.7944845699277742, None)\n",
      "Weighted precision_recall_fscore_support\n",
      "(0.7953552681424997, 0.7944845699277742, 0.7923519993787886, None)\n",
      "CPU times: user 71.9 ms, sys: 6.72 ms, total: 78.6 ms\n",
      "Wall time: 79.1 ms\n"
     ]
    }
   ],
   "source": [
    "%%time\n",
    "\n",
    "Model = LogisticRegression(C=1,penalty='l2')\n",
    "\n",
    "Model.fit(X_train, y_train)\n",
    "\n",
    "y_pred = Model.predict(X_test)\n",
    "\n",
    "print(\"Acuracy\", accuracy_score(y_test, y_pred))\n",
    "print(\"Macro precision_recall_fscore_support\")\n",
    "print(precision_recall_fscore_support(y_test, y_pred, average='macro'))\n",
    "print(\"Micro precision_recall_fscore_support\")\n",
    "print(precision_recall_fscore_support(y_test, y_pred, average='micro'))\n",
    "print(\"Weighted precision_recall_fscore_support\")\n",
    "print(precision_recall_fscore_support(y_test, y_pred, average='weighted'))"
   ]
  },
  {
   "cell_type": "code",
   "execution_count": 36,
   "id": "2b1c359f",
   "metadata": {
    "colab": {
     "base_uri": "https://localhost:8080/"
    },
    "id": "2b1c359f",
    "outputId": "c834c027-2dc5-4882-d584-b745abfa2e4f"
   },
   "outputs": [
    {
     "data": {
      "text/plain": [
       "0.784235802659418"
      ]
     },
     "execution_count": 36,
     "metadata": {},
     "output_type": "execute_result"
    }
   ],
   "source": [
    "roc_auc_score(y_test, y_pred)"
   ]
  },
  {
   "cell_type": "markdown",
   "id": "3e032194",
   "metadata": {
    "id": "3e032194"
   },
   "source": [
    "# "
   ]
  },
  {
   "cell_type": "markdown",
   "id": "631f286d",
   "metadata": {
    "id": "631f286d"
   },
   "source": [
    "# Naive Bayes"
   ]
  },
  {
   "cell_type": "markdown",
   "id": "eadee9e6",
   "metadata": {
    "id": "eadee9e6"
   },
   "source": [
    "## Gaussian Naive Bayes"
   ]
  },
  {
   "cell_type": "code",
   "execution_count": 41,
   "id": "705b5510",
   "metadata": {
    "colab": {
     "base_uri": "https://localhost:8080/"
    },
    "id": "705b5510",
    "outputId": "67fdef83-0869-466b-ae3f-3bf9ea79f9e5"
   },
   "outputs": [
    {
     "name": "stdout",
     "output_type": "stream",
     "text": [
      "Acuracy 0.726854891661195\n",
      "Macro precision_recall_fscore_support\n",
      "(0.7709386455720625, 0.6967626000084071, 0.6937106966886598, None)\n",
      "Micro precision_recall_fscore_support\n",
      "(0.726854891661195, 0.726854891661195, 0.726854891661195, None)\n",
      "Weighted precision_recall_fscore_support\n",
      "(0.7606903928178755, 0.726854891661195, 0.7062141953908737, None)\n",
      "CPU times: user 164 ms, sys: 149 ms, total: 312 ms\n",
      "Wall time: 323 ms\n"
     ]
    }
   ],
   "source": [
    "%%time\n",
    "Model = GaussianNB()\n",
    "Model.fit(X_train.toarray(), y_train)\n",
    "y_pred = Model.predict(X_test.toarray())\n",
    "\n",
    "print(\"Acuracy\", accuracy_score(y_test, y_pred))\n",
    "print(\"Macro precision_recall_fscore_support\")\n",
    "print(precision_recall_fscore_support(y_test, y_pred, average='macro'))\n",
    "print(\"Micro precision_recall_fscore_support\")\n",
    "print(precision_recall_fscore_support(y_test, y_pred, average='micro'))\n",
    "print(\"Weighted precision_recall_fscore_support\")\n",
    "print(precision_recall_fscore_support(y_test, y_pred, average='weighted'))"
   ]
  },
  {
   "cell_type": "code",
   "execution_count": 42,
   "id": "05358d02",
   "metadata": {
    "colab": {
     "base_uri": "https://localhost:8080/"
    },
    "id": "05358d02",
    "outputId": "eacd7417-f8e6-4c01-9a59-d10c2b5b0866"
   },
   "outputs": [
    {
     "data": {
      "text/plain": [
       "0.6967626000084071"
      ]
     },
     "execution_count": 42,
     "metadata": {},
     "output_type": "execute_result"
    }
   ],
   "source": [
    "roc_auc_score(y_test, y_pred)"
   ]
  },
  {
   "cell_type": "markdown",
   "id": "3cbc0327",
   "metadata": {
    "id": "3cbc0327"
   },
   "source": [
    "# Bernoulli Naive Bayes"
   ]
  },
  {
   "cell_type": "code",
   "execution_count": 43,
   "id": "86d717bd",
   "metadata": {
    "colab": {
     "base_uri": "https://localhost:8080/"
    },
    "id": "86d717bd",
    "outputId": "c2aa288e-e1a0-416a-9fee-4d5c067526ce"
   },
   "outputs": [
    {
     "name": "stdout",
     "output_type": "stream",
     "text": [
      "Acuracy 0.7813525935653316\n",
      "Macro precision_recall_fscore_support\n",
      "(0.8235285659933286, 0.7561677689192787, 0.760234017657696, None)\n",
      "Micro precision_recall_fscore_support\n",
      "(0.7813525935653316, 0.7813525935653316, 0.7813525935653316, None)\n",
      "Weighted precision_recall_fscore_support\n",
      "(0.8123799523025713, 0.7813525935653316, 0.769064572627924, None)\n",
      "CPU times: user 453 ms, sys: 184 ms, total: 638 ms\n",
      "Wall time: 220 ms\n"
     ]
    }
   ],
   "source": [
    "%%time\n",
    "Model = BernoulliNB()\n",
    "Model.fit(X_train.toarray(), y_train)\n",
    "y_pred = Model.predict(X_test.toarray())\n",
    "\n",
    "print(\"Acuracy\", accuracy_score(y_test, y_pred))\n",
    "print(\"Macro precision_recall_fscore_support\")\n",
    "print(precision_recall_fscore_support(y_test, y_pred, average='macro'))\n",
    "print(\"Micro precision_recall_fscore_support\")\n",
    "print(precision_recall_fscore_support(y_test, y_pred, average='micro'))\n",
    "print(\"Weighted precision_recall_fscore_support\")\n",
    "print(precision_recall_fscore_support(y_test, y_pred, average='weighted'))"
   ]
  },
  {
   "cell_type": "code",
   "execution_count": 44,
   "id": "c3e00803",
   "metadata": {
    "colab": {
     "base_uri": "https://localhost:8080/"
    },
    "id": "c3e00803",
    "outputId": "f5520576-58ca-499c-fbd6-9a32355894ab"
   },
   "outputs": [
    {
     "data": {
      "text/plain": [
       "0.7561677689192786"
      ]
     },
     "execution_count": 44,
     "metadata": {},
     "output_type": "execute_result"
    }
   ],
   "source": [
    "roc_auc_score(y_test, y_pred)"
   ]
  },
  {
   "cell_type": "markdown",
   "id": "32f949b2",
   "metadata": {
    "id": "32f949b2"
   },
   "source": [
    "## Complement Naive Bayes"
   ]
  },
  {
   "cell_type": "code",
   "execution_count": 45,
   "id": "69190e52",
   "metadata": {
    "colab": {
     "base_uri": "https://localhost:8080/"
    },
    "id": "69190e52",
    "outputId": "99004d78-83eb-468e-bfab-5738acdd3e55"
   },
   "outputs": [
    {
     "name": "stdout",
     "output_type": "stream",
     "text": [
      "Acuracy 0.8023637557452397\n",
      "Macro precision_recall_fscore_support\n",
      "(0.8046660166306956, 0.792238226681052, 0.7957529072785219, None)\n",
      "Micro precision_recall_fscore_support\n",
      "(0.8023637557452397, 0.8023637557452397, 0.8023637557452397, None)\n",
      "Weighted precision_recall_fscore_support\n",
      "(0.8034539628497731, 0.8023637557452397, 0.800312945089506, None)\n",
      "CPU times: user 312 ms, sys: 82.9 ms, total: 395 ms\n",
      "Wall time: 153 ms\n"
     ]
    }
   ],
   "source": [
    "%%time\n",
    "Model = ComplementNB()\n",
    "Model.fit(X_train.toarray(), y_train)\n",
    "y_pred = Model.predict(X_test.toarray())\n",
    "\n",
    "print(\"Acuracy\", accuracy_score(y_test, y_pred))\n",
    "print(\"Macro precision_recall_fscore_support\")\n",
    "print(precision_recall_fscore_support(y_test, y_pred, average='macro'))\n",
    "print(\"Micro precision_recall_fscore_support\")\n",
    "print(precision_recall_fscore_support(y_test, y_pred, average='micro'))\n",
    "print(\"Weighted precision_recall_fscore_support\")\n",
    "print(precision_recall_fscore_support(y_test, y_pred, average='weighted'))"
   ]
  },
  {
   "cell_type": "code",
   "execution_count": 46,
   "id": "36a39164",
   "metadata": {
    "colab": {
     "base_uri": "https://localhost:8080/"
    },
    "id": "36a39164",
    "outputId": "6b3740f9-35a2-49ea-c362-5dc0ce4aad57"
   },
   "outputs": [
    {
     "data": {
      "text/plain": [
       "0.792238226681052"
      ]
     },
     "execution_count": 46,
     "metadata": {},
     "output_type": "execute_result"
    }
   ],
   "source": [
    "roc_auc_score(y_test, y_pred)"
   ]
  },
  {
   "cell_type": "markdown",
   "id": "03e15cd6",
   "metadata": {
    "id": "03e15cd6"
   },
   "source": [
    "## Multinomial Naive Bayes"
   ]
  },
  {
   "cell_type": "code",
   "execution_count": 47,
   "id": "1cc89223",
   "metadata": {
    "colab": {
     "base_uri": "https://localhost:8080/"
    },
    "id": "1cc89223",
    "outputId": "c309477b-faa4-4c1e-d609-aac0272fdce3"
   },
   "outputs": [
    {
     "name": "stdout",
     "output_type": "stream",
     "text": [
      "Acuracy 0.7997373604727511\n",
      "Macro precision_recall_fscore_support\n",
      "(0.8134332113891953, 0.7836122826437248, 0.7888388694857245, None)\n",
      "Micro precision_recall_fscore_support\n",
      "(0.7997373604727511, 0.7997373604727511, 0.7997373604727511, None)\n",
      "Weighted precision_recall_fscore_support\n",
      "(0.808287056671088, 0.7997373604727511, 0.7947920914410657, None)\n",
      "CPU times: user 295 ms, sys: 83.5 ms, total: 379 ms\n",
      "Wall time: 160 ms\n"
     ]
    }
   ],
   "source": [
    "%%time\n",
    "Model = MultinomialNB()\n",
    "Model.fit(X_train.toarray(), y_train)\n",
    "y_pred = Model.predict(X_test.toarray())\n",
    "\n",
    "print(\"Acuracy\", accuracy_score(y_test, y_pred))\n",
    "print(\"Macro precision_recall_fscore_support\")\n",
    "print(precision_recall_fscore_support(y_test, y_pred, average='macro'))\n",
    "print(\"Micro precision_recall_fscore_support\")\n",
    "print(precision_recall_fscore_support(y_test, y_pred, average='micro'))\n",
    "print(\"Weighted precision_recall_fscore_support\")\n",
    "print(precision_recall_fscore_support(y_test, y_pred, average='weighted'))"
   ]
  },
  {
   "cell_type": "markdown",
   "id": "1021e3c2",
   "metadata": {
    "id": "1021e3c2"
   },
   "source": [
    "# "
   ]
  },
  {
   "cell_type": "markdown",
   "id": "37a67e91",
   "metadata": {
    "id": "37a67e91"
   },
   "source": [
    "# Support Vector Machines (SVM)"
   ]
  },
  {
   "cell_type": "markdown",
   "id": "dbffb6a5",
   "metadata": {
    "id": "dbffb6a5"
   },
   "source": [
    "### RBF Kernel SVM"
   ]
  },
  {
   "cell_type": "code",
   "execution_count": null,
   "id": "7be4babf",
   "metadata": {
    "colab": {
     "base_uri": "https://localhost:8080/"
    },
    "id": "7be4babf",
    "outputId": "b5ba7e94-7810-4ac3-c783-9fe40c6280cc"
   },
   "outputs": [],
   "source": [
    "%%time\n",
    "Model = svm.SVC(kernel='rbf') #rbf by default svm.SVC()\n",
    "Model.fit(X_train, y_train)\n",
    "y_pred = Model.predict(X_test)\n",
    "\n",
    "print(\"Acuracy\", accuracy_score(y_test, y_pred))\n",
    "print(\"Macro precision_recall_fscore_support\")\n",
    "print(precision_recall_fscore_support(y_test, y_pred, average='macro'))\n",
    "print(\"Micro precision_recall_fscore_support\")\n",
    "print(precision_recall_fscore_support(y_test, y_pred, average='micro'))\n",
    "print(\"Weighted precision_recall_fscore_support\")\n",
    "print(precision_recall_fscore_support(y_test, y_pred, average='weighted'))"
   ]
  },
  {
   "cell_type": "code",
   "execution_count": 206,
   "id": "b0f75923",
   "metadata": {
    "colab": {
     "base_uri": "https://localhost:8080/"
    },
    "id": "b0f75923",
    "outputId": "b356aebc-941d-49e5-8f6f-5ee771f08a91"
   },
   "outputs": [
    {
     "data": {
      "text/plain": [
       "0.7795595711641955"
      ]
     },
     "execution_count": 206,
     "metadata": {},
     "output_type": "execute_result"
    }
   ],
   "source": [
    "roc_auc_score(y_test, y_pred)"
   ]
  },
  {
   "cell_type": "markdown",
   "id": "bd386314",
   "metadata": {
    "id": "bd386314"
   },
   "source": [
    "## Linear SVC"
   ]
  },
  {
   "cell_type": "code",
   "execution_count": 207,
   "id": "91b76eb7",
   "metadata": {
    "colab": {
     "base_uri": "https://localhost:8080/"
    },
    "id": "91b76eb7",
    "outputId": "5f863488-357f-47bb-aa95-890611b67395"
   },
   "outputs": [
    {
     "name": "stdout",
     "output_type": "stream",
     "text": [
      "Acuracy 0.7931713722915299\n",
      "Macro precision_recall_fscore_support\n",
      "(0.792540221099532, 0.7781645075975127, 0.7827215278447698, None)\n",
      "Micro precision_recall_fscore_support\n",
      "(0.7931713722915299, 0.7931713722915299, 0.7931713722915299, None)\n",
      "Weighted precision_recall_fscore_support\n",
      "(0.7929201226563461, 0.7931713722915299, 0.7905745546595505, None)\n",
      "CPU times: user 4.08 s, sys: 33.9 ms, total: 4.11 s\n",
      "Wall time: 8.03 s\n"
     ]
    }
   ],
   "source": [
    "%%time\n",
    "Model = svm.SVC(kernel='linear') \n",
    "Model.fit(X_train, y_train)\n",
    "y_pred = Model.predict(X_test)\n",
    "\n",
    "print(\"Acuracy\", accuracy_score(y_test, y_pred))\n",
    "print(\"Macro precision_recall_fscore_support\")\n",
    "print(precision_recall_fscore_support(y_test, y_pred, average='macro'))\n",
    "print(\"Micro precision_recall_fscore_support\")\n",
    "print(precision_recall_fscore_support(y_test, y_pred, average='micro'))\n",
    "print(\"Weighted precision_recall_fscore_support\")\n",
    "print(precision_recall_fscore_support(y_test, y_pred, average='weighted'))"
   ]
  },
  {
   "cell_type": "markdown",
   "id": "83b218e8",
   "metadata": {
    "id": "83b218e8"
   },
   "source": [
    "## Random Forest Classifier"
   ]
  },
  {
   "cell_type": "code",
   "execution_count": 208,
   "id": "C0xKmJUio4hN",
   "metadata": {
    "colab": {
     "base_uri": "https://localhost:8080/"
    },
    "id": "C0xKmJUio4hN",
    "outputId": "606842b9-82e6-459e-abac-f54839d778d8"
   },
   "outputs": [
    {
     "name": "stdout",
     "output_type": "stream",
     "text": [
      "7503\n"
     ]
    }
   ],
   "source": [
    "data_full=pd.read_csv('train.csv')\n",
    "data = data_full\n",
    "data = data_full.drop_duplicates('text', keep='last')\n",
    "print(len(data))\n"
   ]
  },
  {
   "cell_type": "code",
   "execution_count": 209,
   "id": "r4joeblupHgI",
   "metadata": {
    "colab": {
     "base_uri": "https://localhost:8080/"
    },
    "id": "r4joeblupHgI",
    "outputId": "ef2c357f-4dfe-4101-ae8b-8c3aae4cad55"
   },
   "outputs": [
    {
     "name": "stdout",
     "output_type": "stream",
     "text": [
      "7503\n"
     ]
    }
   ],
   "source": [
    "data = data_full.drop_duplicates('text', keep='last')\n",
    "print(len(data))\n",
    "df=data"
   ]
  },
  {
   "cell_type": "code",
   "execution_count": 210,
   "id": "nnv3uHd9pMaU",
   "metadata": {
    "id": "nnv3uHd9pMaU"
   },
   "outputs": [],
   "source": [
    "data = data.drop(['target'],axis=1)"
   ]
  },
  {
   "cell_type": "code",
   "execution_count": 211,
   "id": "k17ItdcnpO7H",
   "metadata": {
    "id": "k17ItdcnpO7H"
   },
   "outputs": [],
   "source": [
    "data['text'] = data['text'].apply(Remove_Url)\n",
    "data['text'] = data['text'].apply(Handle_Tags)\n",
    "data['text'] = data['text'].apply(Handle_emoji)\n",
    "data['text'] = data['text'].apply(Remove_html)\n",
    "data['text'] = data['text'].apply(Remove_UC)"
   ]
  },
  {
   "cell_type": "code",
   "execution_count": 212,
   "id": "ZE8Dtvv1pS06",
   "metadata": {
    "colab": {
     "base_uri": "https://localhost:8080/"
    },
    "id": "ZE8Dtvv1pS06",
    "outputId": "59eb7422-921c-49bb-d3f2-baaf842c8960"
   },
   "outputs": [
    {
     "name": "stdout",
     "output_type": "stream",
     "text": [
      "[nltk_data] Downloading package punkt to /root/nltk_data...\n",
      "[nltk_data]   Package punkt is already up-to-date!\n",
      "[nltk_data] Downloading package stopwords to /root/nltk_data...\n",
      "[nltk_data]   Package stopwords is already up-to-date!\n"
     ]
    }
   ],
   "source": [
    "nltk.download('punkt')\n",
    "nltk.download('stopwords')\n",
    "stemmer  = SnowballStemmer('english')"
   ]
  },
  {
   "cell_type": "code",
   "execution_count": 213,
   "id": "amTM2OHBpVFP",
   "metadata": {
    "id": "amTM2OHBpVFP"
   },
   "outputs": [],
   "source": [
    "\n",
    "data['text'] = data['text'].apply(Remove_StopAndStem)"
   ]
  },
  {
   "cell_type": "code",
   "execution_count": 214,
   "id": "qQnd1hCEpZXz",
   "metadata": {
    "id": "qQnd1hCEpZXz"
   },
   "outputs": [],
   "source": [
    "data = merging_details(data)"
   ]
  },
  {
   "cell_type": "code",
   "execution_count": 215,
   "id": "WwZ06rthpeCR",
   "metadata": {
    "id": "WwZ06rthpeCR"
   },
   "outputs": [],
   "source": [
    "db=pd.read_csv('train.csv')\n",
    "db=db.drop_duplicates('text', keep='last')\n",
    "data['target']=db['target']"
   ]
  },
  {
   "cell_type": "code",
   "execution_count": 216,
   "id": "NV353lThpkAM",
   "metadata": {
    "id": "NV353lThpkAM"
   },
   "outputs": [],
   "source": [
    "x_train, x_test, y_train, y_test = train_test_split(\n",
    "    data['Cleaned_data'],\n",
    "    db['target'],\n",
    "    test_size=0.3,\n",
    "    random_state=1)"
   ]
  },
  {
   "cell_type": "code",
   "execution_count": 217,
   "id": "lS6QUzpuoiuu",
   "metadata": {
    "id": "lS6QUzpuoiuu"
   },
   "outputs": [],
   "source": [
    "count_vect = CountVectorizer()\n",
    "tf_transformer = TfidfTransformer(use_idf=False) # just use tf, no idf used\n",
    "\n",
    "# convert the text list to tfidf form matrix\n",
    "x_train_counts = count_vect.fit_transform(x_train)\n",
    "x_train_tf = tf_transformer.fit_transform(x_train_counts)\n",
    "y_train = np.array(y_train)\n",
    "\n",
    "clf = MultinomialNB()\n",
    "clf.fit(x_train_tf, y_train) # train the classifier\n",
    "\n",
    "# convert list to matrix\n",
    "x_pre_counts = count_vect.transform(x_test)\n",
    "x_pre_tf = tf_transformer.transform(x_pre_counts)\n",
    "\n",
    "predicted = clf.predict(x_pre_tf)"
   ]
  },
  {
   "cell_type": "code",
   "execution_count": 218,
   "id": "piiFfXz9pOTd",
   "metadata": {
    "colab": {
     "base_uri": "https://localhost:8080/"
    },
    "id": "piiFfXz9pOTd",
    "outputId": "ea58f1f3-0f30-4d50-8ba5-09906ee71b08"
   },
   "outputs": [
    {
     "data": {
      "text/plain": [
       "0.8080852954242559"
      ]
     },
     "execution_count": 218,
     "metadata": {},
     "output_type": "execute_result"
    }
   ],
   "source": [
    "metrics.accuracy_score(list(y_test), predicted)"
   ]
  },
  {
   "cell_type": "code",
   "execution_count": 219,
   "id": "WFhpbblepG5s",
   "metadata": {
    "id": "WFhpbblepG5s"
   },
   "outputs": [],
   "source": [
    "from sklearn.ensemble import RandomForestClassifier\n",
    "from sklearn.model_selection import GridSearchCV"
   ]
  },
  {
   "cell_type": "code",
   "execution_count": 220,
   "id": "XXH7jmYopz-i",
   "metadata": {
    "colab": {
     "base_uri": "https://localhost:8080/",
     "height": 531
    },
    "id": "XXH7jmYopz-i",
    "outputId": "0e778da8-3259-47c2-86d8-f47e15f7529a"
   },
   "outputs": [
    {
     "data": {
      "text/html": [
       "\n",
       "  <div id=\"df-4ed1f057-0f85-4d7c-b740-339f3a5716b6\">\n",
       "    <div class=\"colab-df-container\">\n",
       "      <div>\n",
       "<style scoped>\n",
       "    .dataframe tbody tr th:only-of-type {\n",
       "        vertical-align: middle;\n",
       "    }\n",
       "\n",
       "    .dataframe tbody tr th {\n",
       "        vertical-align: top;\n",
       "    }\n",
       "\n",
       "    .dataframe thead th {\n",
       "        text-align: right;\n",
       "    }\n",
       "</style>\n",
       "<table border=\"1\" class=\"dataframe\">\n",
       "  <thead>\n",
       "    <tr style=\"text-align: right;\">\n",
       "      <th></th>\n",
       "      <th>mean_fit_time</th>\n",
       "      <th>std_fit_time</th>\n",
       "      <th>mean_score_time</th>\n",
       "      <th>std_score_time</th>\n",
       "      <th>param_max_depth</th>\n",
       "      <th>param_n_estimators</th>\n",
       "      <th>params</th>\n",
       "      <th>split0_test_score</th>\n",
       "      <th>split1_test_score</th>\n",
       "      <th>split2_test_score</th>\n",
       "      <th>split3_test_score</th>\n",
       "      <th>split4_test_score</th>\n",
       "      <th>mean_test_score</th>\n",
       "      <th>std_test_score</th>\n",
       "      <th>rank_test_score</th>\n",
       "    </tr>\n",
       "  </thead>\n",
       "  <tbody>\n",
       "    <tr>\n",
       "      <th>11</th>\n",
       "      <td>34.298388</td>\n",
       "      <td>3.750542</td>\n",
       "      <td>0.327218</td>\n",
       "      <td>0.019081</td>\n",
       "      <td>None</td>\n",
       "      <td>300</td>\n",
       "      <td>{'max_depth': None, 'n_estimators': 300}</td>\n",
       "      <td>0.800190</td>\n",
       "      <td>0.774500</td>\n",
       "      <td>0.785714</td>\n",
       "      <td>0.766667</td>\n",
       "      <td>0.778095</td>\n",
       "      <td>0.781033</td>\n",
       "      <td>0.011372</td>\n",
       "      <td>1</td>\n",
       "    </tr>\n",
       "    <tr>\n",
       "      <th>10</th>\n",
       "      <td>18.451669</td>\n",
       "      <td>0.408880</td>\n",
       "      <td>0.168006</td>\n",
       "      <td>0.001254</td>\n",
       "      <td>None</td>\n",
       "      <td>150</td>\n",
       "      <td>{'max_depth': None, 'n_estimators': 150}</td>\n",
       "      <td>0.803045</td>\n",
       "      <td>0.767840</td>\n",
       "      <td>0.782857</td>\n",
       "      <td>0.769524</td>\n",
       "      <td>0.778095</td>\n",
       "      <td>0.780272</td>\n",
       "      <td>0.012650</td>\n",
       "      <td>2</td>\n",
       "    </tr>\n",
       "    <tr>\n",
       "      <th>7</th>\n",
       "      <td>8.761800</td>\n",
       "      <td>0.265019</td>\n",
       "      <td>0.080284</td>\n",
       "      <td>0.001870</td>\n",
       "      <td>90</td>\n",
       "      <td>150</td>\n",
       "      <td>{'max_depth': 90, 'n_estimators': 150}</td>\n",
       "      <td>0.791627</td>\n",
       "      <td>0.753568</td>\n",
       "      <td>0.796190</td>\n",
       "      <td>0.758095</td>\n",
       "      <td>0.767619</td>\n",
       "      <td>0.773420</td>\n",
       "      <td>0.017393</td>\n",
       "      <td>3</td>\n",
       "    </tr>\n",
       "    <tr>\n",
       "      <th>8</th>\n",
       "      <td>17.143827</td>\n",
       "      <td>0.197834</td>\n",
       "      <td>0.163938</td>\n",
       "      <td>0.003813</td>\n",
       "      <td>90</td>\n",
       "      <td>300</td>\n",
       "      <td>{'max_depth': 90, 'n_estimators': 300}</td>\n",
       "      <td>0.791627</td>\n",
       "      <td>0.753568</td>\n",
       "      <td>0.786667</td>\n",
       "      <td>0.760000</td>\n",
       "      <td>0.768571</td>\n",
       "      <td>0.772087</td>\n",
       "      <td>0.014804</td>\n",
       "      <td>4</td>\n",
       "    </tr>\n",
       "    <tr>\n",
       "      <th>9</th>\n",
       "      <td>1.193227</td>\n",
       "      <td>0.026988</td>\n",
       "      <td>0.013409</td>\n",
       "      <td>0.002328</td>\n",
       "      <td>None</td>\n",
       "      <td>10</td>\n",
       "      <td>{'max_depth': None, 'n_estimators': 10}</td>\n",
       "      <td>0.784967</td>\n",
       "      <td>0.745956</td>\n",
       "      <td>0.763810</td>\n",
       "      <td>0.751429</td>\n",
       "      <td>0.760000</td>\n",
       "      <td>0.761232</td>\n",
       "      <td>0.013424</td>\n",
       "      <td>5</td>\n",
       "    </tr>\n",
       "  </tbody>\n",
       "</table>\n",
       "</div>\n",
       "      <button class=\"colab-df-convert\" onclick=\"convertToInteractive('df-4ed1f057-0f85-4d7c-b740-339f3a5716b6')\"\n",
       "              title=\"Convert this dataframe to an interactive table.\"\n",
       "              style=\"display:none;\">\n",
       "        \n",
       "  <svg xmlns=\"http://www.w3.org/2000/svg\" height=\"24px\"viewBox=\"0 0 24 24\"\n",
       "       width=\"24px\">\n",
       "    <path d=\"M0 0h24v24H0V0z\" fill=\"none\"/>\n",
       "    <path d=\"M18.56 5.44l.94 2.06.94-2.06 2.06-.94-2.06-.94-.94-2.06-.94 2.06-2.06.94zm-11 1L8.5 8.5l.94-2.06 2.06-.94-2.06-.94L8.5 2.5l-.94 2.06-2.06.94zm10 10l.94 2.06.94-2.06 2.06-.94-2.06-.94-.94-2.06-.94 2.06-2.06.94z\"/><path d=\"M17.41 7.96l-1.37-1.37c-.4-.4-.92-.59-1.43-.59-.52 0-1.04.2-1.43.59L10.3 9.45l-7.72 7.72c-.78.78-.78 2.05 0 2.83L4 21.41c.39.39.9.59 1.41.59.51 0 1.02-.2 1.41-.59l7.78-7.78 2.81-2.81c.8-.78.8-2.07 0-2.86zM5.41 20L4 18.59l7.72-7.72 1.47 1.35L5.41 20z\"/>\n",
       "  </svg>\n",
       "      </button>\n",
       "      \n",
       "  <style>\n",
       "    .colab-df-container {\n",
       "      display:flex;\n",
       "      flex-wrap:wrap;\n",
       "      gap: 12px;\n",
       "    }\n",
       "\n",
       "    .colab-df-convert {\n",
       "      background-color: #E8F0FE;\n",
       "      border: none;\n",
       "      border-radius: 50%;\n",
       "      cursor: pointer;\n",
       "      display: none;\n",
       "      fill: #1967D2;\n",
       "      height: 32px;\n",
       "      padding: 0 0 0 0;\n",
       "      width: 32px;\n",
       "    }\n",
       "\n",
       "    .colab-df-convert:hover {\n",
       "      background-color: #E2EBFA;\n",
       "      box-shadow: 0px 1px 2px rgba(60, 64, 67, 0.3), 0px 1px 3px 1px rgba(60, 64, 67, 0.15);\n",
       "      fill: #174EA6;\n",
       "    }\n",
       "\n",
       "    [theme=dark] .colab-df-convert {\n",
       "      background-color: #3B4455;\n",
       "      fill: #D2E3FC;\n",
       "    }\n",
       "\n",
       "    [theme=dark] .colab-df-convert:hover {\n",
       "      background-color: #434B5C;\n",
       "      box-shadow: 0px 1px 3px 1px rgba(0, 0, 0, 0.15);\n",
       "      filter: drop-shadow(0px 1px 2px rgba(0, 0, 0, 0.3));\n",
       "      fill: #FFFFFF;\n",
       "    }\n",
       "  </style>\n",
       "\n",
       "      <script>\n",
       "        const buttonEl =\n",
       "          document.querySelector('#df-4ed1f057-0f85-4d7c-b740-339f3a5716b6 button.colab-df-convert');\n",
       "        buttonEl.style.display =\n",
       "          google.colab.kernel.accessAllowed ? 'block' : 'none';\n",
       "\n",
       "        async function convertToInteractive(key) {\n",
       "          const element = document.querySelector('#df-4ed1f057-0f85-4d7c-b740-339f3a5716b6');\n",
       "          const dataTable =\n",
       "            await google.colab.kernel.invokeFunction('convertToInteractive',\n",
       "                                                     [key], {});\n",
       "          if (!dataTable) return;\n",
       "\n",
       "          const docLinkHtml = 'Like what you see? Visit the ' +\n",
       "            '<a target=\"_blank\" href=https://colab.research.google.com/notebooks/data_table.ipynb>data table notebook</a>'\n",
       "            + ' to learn more about interactive tables.';\n",
       "          element.innerHTML = '';\n",
       "          dataTable['output_type'] = 'display_data';\n",
       "          await google.colab.output.renderOutput(dataTable, element);\n",
       "          const docLink = document.createElement('div');\n",
       "          docLink.innerHTML = docLinkHtml;\n",
       "          element.appendChild(docLink);\n",
       "        }\n",
       "      </script>\n",
       "    </div>\n",
       "  </div>\n",
       "  "
      ],
      "text/plain": [
       "    mean_fit_time  std_fit_time  mean_score_time  std_score_time  \\\n",
       "11      34.298388      3.750542         0.327218        0.019081   \n",
       "10      18.451669      0.408880         0.168006        0.001254   \n",
       "7        8.761800      0.265019         0.080284        0.001870   \n",
       "8       17.143827      0.197834         0.163938        0.003813   \n",
       "9        1.193227      0.026988         0.013409        0.002328   \n",
       "\n",
       "   param_max_depth param_n_estimators  \\\n",
       "11            None                300   \n",
       "10            None                150   \n",
       "7               90                150   \n",
       "8               90                300   \n",
       "9             None                 10   \n",
       "\n",
       "                                      params  split0_test_score  \\\n",
       "11  {'max_depth': None, 'n_estimators': 300}           0.800190   \n",
       "10  {'max_depth': None, 'n_estimators': 150}           0.803045   \n",
       "7     {'max_depth': 90, 'n_estimators': 150}           0.791627   \n",
       "8     {'max_depth': 90, 'n_estimators': 300}           0.791627   \n",
       "9    {'max_depth': None, 'n_estimators': 10}           0.784967   \n",
       "\n",
       "    split1_test_score  split2_test_score  split3_test_score  \\\n",
       "11           0.774500           0.785714           0.766667   \n",
       "10           0.767840           0.782857           0.769524   \n",
       "7            0.753568           0.796190           0.758095   \n",
       "8            0.753568           0.786667           0.760000   \n",
       "9            0.745956           0.763810           0.751429   \n",
       "\n",
       "    split4_test_score  mean_test_score  std_test_score  rank_test_score  \n",
       "11           0.778095         0.781033        0.011372                1  \n",
       "10           0.778095         0.780272        0.012650                2  \n",
       "7            0.767619         0.773420        0.017393                3  \n",
       "8            0.768571         0.772087        0.014804                4  \n",
       "9            0.760000         0.761232        0.013424                5  "
      ]
     },
     "execution_count": 220,
     "metadata": {},
     "output_type": "execute_result"
    }
   ],
   "source": [
    "rf = RandomForestClassifier()\n",
    "param = {'n_estimators': [10, 150, 300],\n",
    "        'max_depth': [30, 60, 90, None]}\n",
    "\n",
    "gs = GridSearchCV(rf, param, cv=5, n_jobs=-1)# n_jobs=-1 for parallelizing search\n",
    "gs_fit = gs.fit(x_train_tf, y_train)\n",
    "pd.DataFrame(gs_fit.cv_results_).sort_values('mean_test_score', ascending=False).head()"
   ]
  },
  {
   "cell_type": "code",
   "execution_count": 221,
   "id": "Mp7M4RGLp40H",
   "metadata": {
    "colab": {
     "base_uri": "https://localhost:8080/"
    },
    "id": "Mp7M4RGLp40H",
    "outputId": "f8dd6543-561a-43b5-fb55-f953cb91f28d"
   },
   "outputs": [
    {
     "data": {
      "text/plain": [
       "0.7823189693469569"
      ]
     },
     "execution_count": 221,
     "metadata": {},
     "output_type": "execute_result"
    }
   ],
   "source": [
    "clf = RandomForestClassifier(n_estimators=300, max_depth=None, random_state=0)\n",
    "clf.fit(x_train_tf, y_train)\n",
    "predicted = clf.predict(x_pre_tf)\n",
    "metrics.accuracy_score(list(y_test), predicted)"
   ]
  },
  {
   "cell_type": "code",
   "execution_count": 222,
   "id": "LG7qA-r_rbUU",
   "metadata": {
    "id": "LG7qA-r_rbUU"
   },
   "outputs": [],
   "source": [
    "train_ab=pd.read_csv('train.csv')\n",
    "train_ab = train_ab.drop_duplicates('text', keep='last')"
   ]
  },
  {
   "cell_type": "code",
   "execution_count": 223,
   "id": "eTslbJqqrjyz",
   "metadata": {
    "id": "eTslbJqqrjyz"
   },
   "outputs": [],
   "source": [
    "train_ab['text'] = train_ab['text'].apply(Remove_Url)\n",
    "train_ab['text'] = train_ab['text'].apply(Handle_Tags)\n",
    "train_ab['text'] = train_ab['text'].apply(Handle_emoji)\n",
    "train_ab['text'] = train_ab['text'].apply(Remove_html)\n",
    "train_ab['text'] = train_ab['text'].apply(Remove_UC)\n",
    "train_ab['text'] = train_ab['text'].apply(Remove_StopAndStem)"
   ]
  },
  {
   "cell_type": "code",
   "execution_count": 224,
   "id": "eRRtfhNgroAJ",
   "metadata": {
    "id": "eRRtfhNgroAJ"
   },
   "outputs": [],
   "source": [
    "train_ab = merging_details(train_ab)"
   ]
  },
  {
   "cell_type": "code",
   "execution_count": 225,
   "id": "Z_nMVJWDrsmZ",
   "metadata": {
    "id": "Z_nMVJWDrsmZ"
   },
   "outputs": [],
   "source": [
    "test_ab=pd.read_csv('test.csv')"
   ]
  },
  {
   "cell_type": "code",
   "execution_count": 226,
   "id": "IzdCp8TfrrUT",
   "metadata": {
    "id": "IzdCp8TfrrUT"
   },
   "outputs": [],
   "source": [
    "test_ab['text'] = test_ab['text'].apply(Remove_Url)\n",
    "test_ab['text'] = test_ab['text'].apply(Handle_Tags)\n",
    "test_ab['text'] = test_ab['text'].apply(Handle_emoji)\n",
    "test_ab['text'] = test_ab['text'].apply(Remove_html)\n",
    "test_ab['text'] = test_ab['text'].apply(Remove_UC)\n",
    "test_ab['text'] = test_ab['text'].apply(Remove_StopAndStem)"
   ]
  },
  {
   "cell_type": "code",
   "execution_count": 227,
   "id": "uNcrdr3ory8S",
   "metadata": {
    "id": "uNcrdr3ory8S"
   },
   "outputs": [],
   "source": [
    "test_ab = merging_details(test_ab)"
   ]
  },
  {
   "cell_type": "code",
   "execution_count": 228,
   "id": "uF5jx1wXr0Sh",
   "metadata": {
    "colab": {
     "base_uri": "https://localhost:8080/",
     "height": 206
    },
    "id": "uF5jx1wXr0Sh",
    "outputId": "66db17ab-b455-4c10-92f5-35f23b7c8f94"
   },
   "outputs": [
    {
     "data": {
      "text/html": [
       "\n",
       "  <div id=\"df-c5921cb3-68e0-4c04-8410-5844e2747b53\">\n",
       "    <div class=\"colab-df-container\">\n",
       "      <div>\n",
       "<style scoped>\n",
       "    .dataframe tbody tr th:only-of-type {\n",
       "        vertical-align: middle;\n",
       "    }\n",
       "\n",
       "    .dataframe tbody tr th {\n",
       "        vertical-align: top;\n",
       "    }\n",
       "\n",
       "    .dataframe thead th {\n",
       "        text-align: right;\n",
       "    }\n",
       "</style>\n",
       "<table border=\"1\" class=\"dataframe\">\n",
       "  <thead>\n",
       "    <tr style=\"text-align: right;\">\n",
       "      <th></th>\n",
       "      <th>Cleaned_data</th>\n",
       "    </tr>\n",
       "  </thead>\n",
       "  <tbody>\n",
       "    <tr>\n",
       "      <th>0</th>\n",
       "      <td>just happen terribl car crash</td>\n",
       "    </tr>\n",
       "    <tr>\n",
       "      <th>1</th>\n",
       "      <td>heard differ citi stay safe everyon earthquak ...</td>\n",
       "    </tr>\n",
       "    <tr>\n",
       "      <th>2</th>\n",
       "      <td>forest fire spot pond gees flee across street ...</td>\n",
       "    </tr>\n",
       "    <tr>\n",
       "      <th>3</th>\n",
       "      <td>apocalyps light spokan wildfir spokan wildfir ...</td>\n",
       "    </tr>\n",
       "    <tr>\n",
       "      <th>4</th>\n",
       "      <td>typhoon soudelor kill china taiwan</td>\n",
       "    </tr>\n",
       "  </tbody>\n",
       "</table>\n",
       "</div>\n",
       "      <button class=\"colab-df-convert\" onclick=\"convertToInteractive('df-c5921cb3-68e0-4c04-8410-5844e2747b53')\"\n",
       "              title=\"Convert this dataframe to an interactive table.\"\n",
       "              style=\"display:none;\">\n",
       "        \n",
       "  <svg xmlns=\"http://www.w3.org/2000/svg\" height=\"24px\"viewBox=\"0 0 24 24\"\n",
       "       width=\"24px\">\n",
       "    <path d=\"M0 0h24v24H0V0z\" fill=\"none\"/>\n",
       "    <path d=\"M18.56 5.44l.94 2.06.94-2.06 2.06-.94-2.06-.94-.94-2.06-.94 2.06-2.06.94zm-11 1L8.5 8.5l.94-2.06 2.06-.94-2.06-.94L8.5 2.5l-.94 2.06-2.06.94zm10 10l.94 2.06.94-2.06 2.06-.94-2.06-.94-.94-2.06-.94 2.06-2.06.94z\"/><path d=\"M17.41 7.96l-1.37-1.37c-.4-.4-.92-.59-1.43-.59-.52 0-1.04.2-1.43.59L10.3 9.45l-7.72 7.72c-.78.78-.78 2.05 0 2.83L4 21.41c.39.39.9.59 1.41.59.51 0 1.02-.2 1.41-.59l7.78-7.78 2.81-2.81c.8-.78.8-2.07 0-2.86zM5.41 20L4 18.59l7.72-7.72 1.47 1.35L5.41 20z\"/>\n",
       "  </svg>\n",
       "      </button>\n",
       "      \n",
       "  <style>\n",
       "    .colab-df-container {\n",
       "      display:flex;\n",
       "      flex-wrap:wrap;\n",
       "      gap: 12px;\n",
       "    }\n",
       "\n",
       "    .colab-df-convert {\n",
       "      background-color: #E8F0FE;\n",
       "      border: none;\n",
       "      border-radius: 50%;\n",
       "      cursor: pointer;\n",
       "      display: none;\n",
       "      fill: #1967D2;\n",
       "      height: 32px;\n",
       "      padding: 0 0 0 0;\n",
       "      width: 32px;\n",
       "    }\n",
       "\n",
       "    .colab-df-convert:hover {\n",
       "      background-color: #E2EBFA;\n",
       "      box-shadow: 0px 1px 2px rgba(60, 64, 67, 0.3), 0px 1px 3px 1px rgba(60, 64, 67, 0.15);\n",
       "      fill: #174EA6;\n",
       "    }\n",
       "\n",
       "    [theme=dark] .colab-df-convert {\n",
       "      background-color: #3B4455;\n",
       "      fill: #D2E3FC;\n",
       "    }\n",
       "\n",
       "    [theme=dark] .colab-df-convert:hover {\n",
       "      background-color: #434B5C;\n",
       "      box-shadow: 0px 1px 3px 1px rgba(0, 0, 0, 0.15);\n",
       "      filter: drop-shadow(0px 1px 2px rgba(0, 0, 0, 0.3));\n",
       "      fill: #FFFFFF;\n",
       "    }\n",
       "  </style>\n",
       "\n",
       "      <script>\n",
       "        const buttonEl =\n",
       "          document.querySelector('#df-c5921cb3-68e0-4c04-8410-5844e2747b53 button.colab-df-convert');\n",
       "        buttonEl.style.display =\n",
       "          google.colab.kernel.accessAllowed ? 'block' : 'none';\n",
       "\n",
       "        async function convertToInteractive(key) {\n",
       "          const element = document.querySelector('#df-c5921cb3-68e0-4c04-8410-5844e2747b53');\n",
       "          const dataTable =\n",
       "            await google.colab.kernel.invokeFunction('convertToInteractive',\n",
       "                                                     [key], {});\n",
       "          if (!dataTable) return;\n",
       "\n",
       "          const docLinkHtml = 'Like what you see? Visit the ' +\n",
       "            '<a target=\"_blank\" href=https://colab.research.google.com/notebooks/data_table.ipynb>data table notebook</a>'\n",
       "            + ' to learn more about interactive tables.';\n",
       "          element.innerHTML = '';\n",
       "          dataTable['output_type'] = 'display_data';\n",
       "          await google.colab.output.renderOutput(dataTable, element);\n",
       "          const docLink = document.createElement('div');\n",
       "          docLink.innerHTML = docLinkHtml;\n",
       "          element.appendChild(docLink);\n",
       "        }\n",
       "      </script>\n",
       "    </div>\n",
       "  </div>\n",
       "  "
      ],
      "text/plain": [
       "                                        Cleaned_data\n",
       "0                      just happen terribl car crash\n",
       "1  heard differ citi stay safe everyon earthquak ...\n",
       "2  forest fire spot pond gees flee across street ...\n",
       "3  apocalyps light spokan wildfir spokan wildfir ...\n",
       "4                 typhoon soudelor kill china taiwan"
      ]
     },
     "execution_count": 228,
     "metadata": {},
     "output_type": "execute_result"
    }
   ],
   "source": [
    "test_ab.head()"
   ]
  },
  {
   "cell_type": "code",
   "execution_count": 229,
   "id": "dGICOIuGr2DS",
   "metadata": {
    "id": "dGICOIuGr2DS"
   },
   "outputs": [],
   "source": [
    "count_vect = CountVectorizer()\n",
    "tf_transformer = TfidfTransformer(use_idf=False) # just use tf, no idf used\n",
    "\n",
    "# convert the text list to tfidf form matrix\n",
    "x_train_counts = count_vect.fit_transform(train_ab['Cleaned_data'])\n",
    "x_train_tf = tf_transformer.fit_transform(x_train_counts)\n",
    "y_train = np.array(db['target'])\n",
    "\n",
    "clf = MultinomialNB()\n",
    "clf.fit(x_train_tf, y_train) # train the classifier\n",
    "\n",
    "# convert list to matrix\n",
    "x_pre_counts = count_vect.transform(test_ab['Cleaned_data'])\n",
    "x_pre_tf = tf_transformer.transform(x_pre_counts)\n",
    "\n",
    "predicted = clf.predict(x_pre_tf)"
   ]
  },
  {
   "cell_type": "code",
   "execution_count": 230,
   "id": "4P9-69RPr3tU",
   "metadata": {
    "id": "4P9-69RPr3tU"
   },
   "outputs": [],
   "source": [
    "clf = RandomForestClassifier(n_estimators=300, max_depth=None, random_state=0)\n",
    "clf.fit(x_train_tf, y_train)\n",
    "predicted = clf.predict(x_pre_tf)\n",
    "#metrics.accuracy_score(list(y_test), predicted)"
   ]
  },
  {
   "cell_type": "code",
   "execution_count": 231,
   "id": "Iih5gC0jr7fb",
   "metadata": {
    "id": "Iih5gC0jr7fb"
   },
   "outputs": [],
   "source": [
    "final=pd.DataFrame(predicted)"
   ]
  },
  {
   "cell_type": "code",
   "execution_count": 232,
   "id": "dd_u8Ey9r80W",
   "metadata": {
    "id": "dd_u8Ey9r80W"
   },
   "outputs": [],
   "source": [
    "final.to_csv('RandomForestClassifier.csv')"
   ]
  },
  {
   "cell_type": "markdown",
   "id": "BTWEM0_pr8ji",
   "metadata": {
    "id": "BTWEM0_pr8ji"
   },
   "source": []
  },
  {
   "cell_type": "code",
   "execution_count": 234,
   "id": "a77a030a",
   "metadata": {
    "id": "a77a030a"
   },
   "outputs": [],
   "source": []
  },
  {
   "cell_type": "code",
   "execution_count": 234,
   "id": "VBBfZjA2p39y",
   "metadata": {
    "id": "VBBfZjA2p39y"
   },
   "outputs": [],
   "source": []
  },
  {
   "cell_type": "markdown",
   "id": "7ed9a3ce",
   "metadata": {
    "id": "7ed9a3ce"
   },
   "source": [
    "# BERT MODEL"
   ]
  },
  {
   "cell_type": "code",
   "execution_count": 235,
   "id": "58846a3b",
   "metadata": {
    "id": "58846a3b"
   },
   "outputs": [],
   "source": [
    "original_data = pd.read_csv('train.csv')\n",
    "test_data = pd.read_csv('test.csv')"
   ]
  },
  {
   "cell_type": "code",
   "execution_count": 236,
   "id": "dcc4029b",
   "metadata": {
    "colab": {
     "base_uri": "https://localhost:8080/",
     "height": 438
    },
    "id": "dcc4029b",
    "outputId": "0b2bd473-1b3f-4fde-b231-767872e886bc"
   },
   "outputs": [
    {
     "data": {
      "text/html": [
       "\n",
       "  <div id=\"df-a441870c-d3be-4bb2-b225-215fa5433fd8\">\n",
       "    <div class=\"colab-df-container\">\n",
       "      <div>\n",
       "<style scoped>\n",
       "    .dataframe tbody tr th:only-of-type {\n",
       "        vertical-align: middle;\n",
       "    }\n",
       "\n",
       "    .dataframe tbody tr th {\n",
       "        vertical-align: top;\n",
       "    }\n",
       "\n",
       "    .dataframe thead th {\n",
       "        text-align: right;\n",
       "    }\n",
       "</style>\n",
       "<table border=\"1\" class=\"dataframe\">\n",
       "  <thead>\n",
       "    <tr style=\"text-align: right;\">\n",
       "      <th></th>\n",
       "      <th>id</th>\n",
       "      <th>keyword</th>\n",
       "      <th>location</th>\n",
       "      <th>text</th>\n",
       "      <th>target</th>\n",
       "    </tr>\n",
       "  </thead>\n",
       "  <tbody>\n",
       "    <tr>\n",
       "      <th>0</th>\n",
       "      <td>1</td>\n",
       "      <td>NaN</td>\n",
       "      <td>NaN</td>\n",
       "      <td>Our Deeds are the Reason of this #earthquake M...</td>\n",
       "      <td>1</td>\n",
       "    </tr>\n",
       "    <tr>\n",
       "      <th>1</th>\n",
       "      <td>4</td>\n",
       "      <td>NaN</td>\n",
       "      <td>NaN</td>\n",
       "      <td>Forest fire near La Ronge Sask. Canada</td>\n",
       "      <td>1</td>\n",
       "    </tr>\n",
       "    <tr>\n",
       "      <th>2</th>\n",
       "      <td>5</td>\n",
       "      <td>NaN</td>\n",
       "      <td>NaN</td>\n",
       "      <td>All residents asked to 'shelter in place' are ...</td>\n",
       "      <td>1</td>\n",
       "    </tr>\n",
       "    <tr>\n",
       "      <th>3</th>\n",
       "      <td>6</td>\n",
       "      <td>NaN</td>\n",
       "      <td>NaN</td>\n",
       "      <td>13,000 people receive #wildfires evacuation or...</td>\n",
       "      <td>1</td>\n",
       "    </tr>\n",
       "    <tr>\n",
       "      <th>4</th>\n",
       "      <td>7</td>\n",
       "      <td>NaN</td>\n",
       "      <td>NaN</td>\n",
       "      <td>Just got sent this photo from Ruby #Alaska as ...</td>\n",
       "      <td>1</td>\n",
       "    </tr>\n",
       "  </tbody>\n",
       "</table>\n",
       "</div>\n",
       "      <button class=\"colab-df-convert\" onclick=\"convertToInteractive('df-a441870c-d3be-4bb2-b225-215fa5433fd8')\"\n",
       "              title=\"Convert this dataframe to an interactive table.\"\n",
       "              style=\"display:none;\">\n",
       "        \n",
       "  <svg xmlns=\"http://www.w3.org/2000/svg\" height=\"24px\"viewBox=\"0 0 24 24\"\n",
       "       width=\"24px\">\n",
       "    <path d=\"M0 0h24v24H0V0z\" fill=\"none\"/>\n",
       "    <path d=\"M18.56 5.44l.94 2.06.94-2.06 2.06-.94-2.06-.94-.94-2.06-.94 2.06-2.06.94zm-11 1L8.5 8.5l.94-2.06 2.06-.94-2.06-.94L8.5 2.5l-.94 2.06-2.06.94zm10 10l.94 2.06.94-2.06 2.06-.94-2.06-.94-.94-2.06-.94 2.06-2.06.94z\"/><path d=\"M17.41 7.96l-1.37-1.37c-.4-.4-.92-.59-1.43-.59-.52 0-1.04.2-1.43.59L10.3 9.45l-7.72 7.72c-.78.78-.78 2.05 0 2.83L4 21.41c.39.39.9.59 1.41.59.51 0 1.02-.2 1.41-.59l7.78-7.78 2.81-2.81c.8-.78.8-2.07 0-2.86zM5.41 20L4 18.59l7.72-7.72 1.47 1.35L5.41 20z\"/>\n",
       "  </svg>\n",
       "      </button>\n",
       "      \n",
       "  <style>\n",
       "    .colab-df-container {\n",
       "      display:flex;\n",
       "      flex-wrap:wrap;\n",
       "      gap: 12px;\n",
       "    }\n",
       "\n",
       "    .colab-df-convert {\n",
       "      background-color: #E8F0FE;\n",
       "      border: none;\n",
       "      border-radius: 50%;\n",
       "      cursor: pointer;\n",
       "      display: none;\n",
       "      fill: #1967D2;\n",
       "      height: 32px;\n",
       "      padding: 0 0 0 0;\n",
       "      width: 32px;\n",
       "    }\n",
       "\n",
       "    .colab-df-convert:hover {\n",
       "      background-color: #E2EBFA;\n",
       "      box-shadow: 0px 1px 2px rgba(60, 64, 67, 0.3), 0px 1px 3px 1px rgba(60, 64, 67, 0.15);\n",
       "      fill: #174EA6;\n",
       "    }\n",
       "\n",
       "    [theme=dark] .colab-df-convert {\n",
       "      background-color: #3B4455;\n",
       "      fill: #D2E3FC;\n",
       "    }\n",
       "\n",
       "    [theme=dark] .colab-df-convert:hover {\n",
       "      background-color: #434B5C;\n",
       "      box-shadow: 0px 1px 3px 1px rgba(0, 0, 0, 0.15);\n",
       "      filter: drop-shadow(0px 1px 2px rgba(0, 0, 0, 0.3));\n",
       "      fill: #FFFFFF;\n",
       "    }\n",
       "  </style>\n",
       "\n",
       "      <script>\n",
       "        const buttonEl =\n",
       "          document.querySelector('#df-a441870c-d3be-4bb2-b225-215fa5433fd8 button.colab-df-convert');\n",
       "        buttonEl.style.display =\n",
       "          google.colab.kernel.accessAllowed ? 'block' : 'none';\n",
       "\n",
       "        async function convertToInteractive(key) {\n",
       "          const element = document.querySelector('#df-a441870c-d3be-4bb2-b225-215fa5433fd8');\n",
       "          const dataTable =\n",
       "            await google.colab.kernel.invokeFunction('convertToInteractive',\n",
       "                                                     [key], {});\n",
       "          if (!dataTable) return;\n",
       "\n",
       "          const docLinkHtml = 'Like what you see? Visit the ' +\n",
       "            '<a target=\"_blank\" href=https://colab.research.google.com/notebooks/data_table.ipynb>data table notebook</a>'\n",
       "            + ' to learn more about interactive tables.';\n",
       "          element.innerHTML = '';\n",
       "          dataTable['output_type'] = 'display_data';\n",
       "          await google.colab.output.renderOutput(dataTable, element);\n",
       "          const docLink = document.createElement('div');\n",
       "          docLink.innerHTML = docLinkHtml;\n",
       "          element.appendChild(docLink);\n",
       "        }\n",
       "      </script>\n",
       "    </div>\n",
       "  </div>\n",
       "  "
      ],
      "text/plain": [
       "   id keyword location                                               text  \\\n",
       "0   1     NaN      NaN  Our Deeds are the Reason of this #earthquake M...   \n",
       "1   4     NaN      NaN             Forest fire near La Ronge Sask. Canada   \n",
       "2   5     NaN      NaN  All residents asked to 'shelter in place' are ...   \n",
       "3   6     NaN      NaN  13,000 people receive #wildfires evacuation or...   \n",
       "4   7     NaN      NaN  Just got sent this photo from Ruby #Alaska as ...   \n",
       "\n",
       "   target  \n",
       "0       1  \n",
       "1       1  \n",
       "2       1  \n",
       "3       1  \n",
       "4       1  "
      ]
     },
     "metadata": {},
     "output_type": "display_data"
    },
    {
     "name": "stdout",
     "output_type": "stream",
     "text": [
      "<class 'pandas.core.frame.DataFrame'>\n",
      "RangeIndex: 7613 entries, 0 to 7612\n",
      "Data columns (total 5 columns):\n",
      " #   Column    Non-Null Count  Dtype \n",
      "---  ------    --------------  ----- \n",
      " 0   id        7613 non-null   int64 \n",
      " 1   keyword   7552 non-null   object\n",
      " 2   location  5080 non-null   object\n",
      " 3   text      7613 non-null   object\n",
      " 4   target    7613 non-null   int64 \n",
      "dtypes: int64(2), object(3)\n",
      "memory usage: 297.5+ KB\n"
     ]
    },
    {
     "data": {
      "text/plain": [
       "None"
      ]
     },
     "metadata": {},
     "output_type": "display_data"
    }
   ],
   "source": [
    "display(original_data.head())\n",
    "display(original_data.info(show_counts=True))"
   ]
  },
  {
   "cell_type": "markdown",
   "id": "4ff5a9ed",
   "metadata": {
    "id": "4ff5a9ed"
   },
   "source": [
    "# Dataset Pre-processing"
   ]
  },
  {
   "cell_type": "code",
   "execution_count": 237,
   "id": "57910265",
   "metadata": {
    "id": "57910265"
   },
   "outputs": [],
   "source": [
    "# %20 is the URL encoding of space, let's replace them with '_'\n",
    "def re_encode_space(input_string):\n",
    "    return None if pd.isna(input_string) else input_string.replace('%20', '_')\n",
    "\n",
    "\n",
    "# Let's try to find hastags\n",
    "import re\n",
    "\n",
    "def find_hash_tags(input_string):\n",
    "    hash_tags = re.findall(r\"#(\\w+)\", str(input_string))\n",
    "    return ','.join(hash_tags)\n",
    "\n",
    "\n",
    "# Let's turn hashtags to normal words\n",
    "def re_encode_hashtags(input_string):\n",
    "    return None if pd.isna(input_string) else input_string.replace('#', '')\n",
    "\n",
    "\n",
    "# Let's remove URLs from the tweets\n",
    "def remove_links(input_string):\n",
    "    res = input_string\n",
    "    urls = re.findall(r'(https?://[^\\s]+)', res)\n",
    "    for link in urls:\n",
    "        res = res.strip(link)\n",
    "    return res\n",
    "\n",
    "\n",
    "# Let's remove the state abbreviations\n",
    "def state_renaming(input_string):\n",
    "\n",
    "    states = {\n",
    "        'AK': 'Alaska',\n",
    "        'AL': 'Alabama',\n",
    "        'AR': 'Arkansas',\n",
    "        'AZ': 'Arizona',\n",
    "        'CA': 'California',\n",
    "        'CO': 'Colorado',\n",
    "        'CT': 'Connecticut',\n",
    "        'DC': 'District_of_Columbia',\n",
    "        'DE': 'Delaware',\n",
    "        'FL': 'Florida',\n",
    "        'GA': 'Georgia',\n",
    "        'HI': 'Hawaii',\n",
    "        'IA': 'Iowa',\n",
    "        'ID': 'Idaho',\n",
    "        'IL': 'Illinois',\n",
    "        'IN': 'Indiana',\n",
    "        'KS': 'Kansas',\n",
    "        'KY': 'Kentucky',\n",
    "        'LA': 'Louisiana',\n",
    "        'MA': 'Massachusetts',\n",
    "        'MD': 'Maryland',\n",
    "        'ME': 'Maine',\n",
    "        'MI': 'Michigan',\n",
    "        'MN': 'Minnesota',\n",
    "        'MO': 'Missouri',\n",
    "        'MS': 'Mississippi',\n",
    "        'MT': 'Montana',\n",
    "        'NC': 'North_Carolina',\n",
    "        'ND': 'North_Dakota',\n",
    "        'NE': 'Nebraska',\n",
    "        'NH': 'New_Hampshire',\n",
    "        'NJ': 'New_Jersey',\n",
    "        'NM': 'New_Mexico',\n",
    "        'NV': 'Nevada',\n",
    "        'NY': 'New_York',\n",
    "        'OH': 'Ohio',\n",
    "        'OK': 'Oklahoma',\n",
    "        'OR': 'Oregon',\n",
    "        'PA': 'Pennsylvania',\n",
    "        'RI': 'Rhode_Island',\n",
    "        'SC': 'South_Carolina',\n",
    "        'SD': 'South_Dakota',\n",
    "        'TN': 'Tennessee',\n",
    "        'TX': 'Texas',\n",
    "        'UT': 'Utah',\n",
    "        'VA': 'Virginia',\n",
    "        'VT': 'Vermont',\n",
    "        'WA': 'Washington',\n",
    "        'WI': 'Wisconsin',\n",
    "        'WV': 'West_Virginia',\n",
    "        'WY': 'Wyoming'\n",
    "    }\n",
    "\n",
    "    result = input_string\n",
    "    \n",
    "    if isinstance(input_string, str):\n",
    "        input_candidates = input_string.split(', ')\n",
    "        \n",
    "        if len(input_candidates) > 1:\n",
    "            for candidate in input_candidates:\n",
    "                if candidate in states.keys():\n",
    "                    result = states[candidate]\n",
    "                \n",
    "    if input_string in states.keys():\n",
    "        result = states[input_string]\n",
    "\n",
    "    return result"
   ]
  },
  {
   "cell_type": "markdown",
   "id": "77813f4e",
   "metadata": {
    "id": "77813f4e"
   },
   "source": [
    "# Applying pre-processing to the data"
   ]
  },
  {
   "cell_type": "code",
   "execution_count": 238,
   "id": "1216044d",
   "metadata": {
    "id": "1216044d"
   },
   "outputs": [],
   "source": [
    "def preprocess_data(input_data):\n",
    "    input_df = input_data.copy()\n",
    "    input_df['keyword'] = input_df['keyword'].map(re_encode_space)\n",
    "    input_df['keyword'].fillna('Missing', inplace=True)\n",
    "    input_df['hashtags'] = input_df['text'].map(find_hash_tags)\n",
    "    input_df['text'] = input_df['text'].map(re_encode_hashtags)\n",
    "    input_df['text'] = input_df['text'].map(remove_links)\n",
    "    input_df['location'] = input_df['location'].map(state_renaming)\n",
    "    return input_df"
   ]
  },
  {
   "cell_type": "code",
   "execution_count": 239,
   "id": "7dc3931b",
   "metadata": {
    "id": "7dc3931b"
   },
   "outputs": [],
   "source": [
    "original_data = preprocess_data(original_data)\n",
    "test_data = preprocess_data(test_data)"
   ]
  },
  {
   "cell_type": "code",
   "execution_count": 240,
   "id": "ab636e90",
   "metadata": {
    "id": "ab636e90"
   },
   "outputs": [],
   "source": [
    "def na_proportions(data, column_name, as_pct):\n",
    "    if column_name in data.columns:\n",
    "        na_counts = len(data[pd.isna(data[column_name])])\n",
    "        non_na_counts = len(data[~pd.isna(data[column_name])])\n",
    "    else:\n",
    "        na_counts = None\n",
    "        non_na_counts = None\n",
    "        \n",
    "    if as_pct:\n",
    "        na_counts /= data.shape[0]\n",
    "        non_na_counts /= data.shape[0]\n",
    "    return (column_name, na_counts, non_na_counts)"
   ]
  },
  {
   "cell_type": "code",
   "execution_count": 241,
   "id": "79a786d2",
   "metadata": {
    "colab": {
     "base_uri": "https://localhost:8080/"
    },
    "id": "79a786d2",
    "outputId": "10be132e-9a8a-4139-eead-83d75ea9c552"
   },
   "outputs": [
    {
     "name": "stdout",
     "output_type": "stream",
     "text": [
      "The keyword variable has: NA=0.000 NON-NA=1.000\n",
      "The location variable has: NA=0.333 NON-NA=0.667\n"
     ]
    }
   ],
   "source": [
    "keyword_props = na_proportions(data=original_data, column_name='keyword', as_pct=True)\n",
    "print(f'The {keyword_props[0]} variable has: NA={keyword_props[1]:.3f} NON-NA={keyword_props[2]:.3f}')\n",
    "location_props = na_proportions(data=original_data, column_name='location', as_pct=True)\n",
    "print(f'The {location_props[0]} variable has: NA={location_props[1]:.3f} NON-NA={location_props[2]:.3f}')"
   ]
  },
  {
   "cell_type": "code",
   "execution_count": 242,
   "id": "e16dea55",
   "metadata": {
    "id": "e16dea55"
   },
   "outputs": [],
   "source": [
    "X = original_data['text'].tolist()\n",
    "y = np.asarray(original_data['target'].tolist()).astype(np.float32)\n",
    "\n",
    "test_array = test_data['text'].tolist()"
   ]
  },
  {
   "cell_type": "markdown",
   "id": "11fb31b0",
   "metadata": {
    "id": "11fb31b0"
   },
   "source": [
    "# The tokenizer is used to turn a string of words into a list of tokens (words) for which we'll get their vector representation (embeddings)"
   ]
  },
  {
   "cell_type": "code",
   "execution_count": 250,
   "id": "lsnYNJYB0hRy",
   "metadata": {
    "colab": {
     "base_uri": "https://localhost:8080/"
    },
    "id": "lsnYNJYB0hRy",
    "outputId": "cf4c7d7d-4717-489d-a99a-2d0274bc943f"
   },
   "outputs": [
    {
     "name": "stdout",
     "output_type": "stream",
     "text": [
      "Collecting transformers\n",
      "  Downloading transformers-4.18.0-py3-none-any.whl (4.0 MB)\n",
      "\u001b[K     |████████████████████████████████| 4.0 MB 8.9 MB/s \n",
      "\u001b[?25hRequirement already satisfied: tqdm>=4.27 in /usr/local/lib/python3.7/dist-packages (from transformers) (4.64.0)\n",
      "Requirement already satisfied: numpy>=1.17 in /usr/local/lib/python3.7/dist-packages (from transformers) (1.21.6)\n",
      "Requirement already satisfied: packaging>=20.0 in /usr/local/lib/python3.7/dist-packages (from transformers) (21.3)\n",
      "Requirement already satisfied: importlib-metadata in /usr/local/lib/python3.7/dist-packages (from transformers) (4.11.3)\n",
      "Requirement already satisfied: requests in /usr/local/lib/python3.7/dist-packages (from transformers) (2.23.0)\n",
      "Collecting pyyaml>=5.1\n",
      "  Downloading PyYAML-6.0-cp37-cp37m-manylinux_2_5_x86_64.manylinux1_x86_64.manylinux_2_12_x86_64.manylinux2010_x86_64.whl (596 kB)\n",
      "\u001b[K     |████████████████████████████████| 596 kB 48.1 MB/s \n",
      "\u001b[?25hRequirement already satisfied: filelock in /usr/local/lib/python3.7/dist-packages (from transformers) (3.6.0)\n",
      "Collecting huggingface-hub<1.0,>=0.1.0\n",
      "  Downloading huggingface_hub-0.6.0-py3-none-any.whl (84 kB)\n",
      "\u001b[K     |████████████████████████████████| 84 kB 3.5 MB/s \n",
      "\u001b[?25hCollecting tokenizers!=0.11.3,<0.13,>=0.11.1\n",
      "  Downloading tokenizers-0.12.1-cp37-cp37m-manylinux_2_12_x86_64.manylinux2010_x86_64.whl (6.6 MB)\n",
      "\u001b[K     |████████████████████████████████| 6.6 MB 47.8 MB/s \n",
      "\u001b[?25hCollecting sacremoses\n",
      "  Downloading sacremoses-0.0.53.tar.gz (880 kB)\n",
      "\u001b[K     |████████████████████████████████| 880 kB 45.2 MB/s \n",
      "\u001b[?25hRequirement already satisfied: regex!=2019.12.17 in /usr/local/lib/python3.7/dist-packages (from transformers) (2019.12.20)\n",
      "Requirement already satisfied: typing-extensions>=3.7.4.3 in /usr/local/lib/python3.7/dist-packages (from huggingface-hub<1.0,>=0.1.0->transformers) (4.2.0)\n",
      "Requirement already satisfied: pyparsing!=3.0.5,>=2.0.2 in /usr/local/lib/python3.7/dist-packages (from packaging>=20.0->transformers) (3.0.8)\n",
      "Requirement already satisfied: zipp>=0.5 in /usr/local/lib/python3.7/dist-packages (from importlib-metadata->transformers) (3.8.0)\n",
      "Requirement already satisfied: urllib3!=1.25.0,!=1.25.1,<1.26,>=1.21.1 in /usr/local/lib/python3.7/dist-packages (from requests->transformers) (1.24.3)\n",
      "Requirement already satisfied: idna<3,>=2.5 in /usr/local/lib/python3.7/dist-packages (from requests->transformers) (2.10)\n",
      "Requirement already satisfied: chardet<4,>=3.0.2 in /usr/local/lib/python3.7/dist-packages (from requests->transformers) (3.0.4)\n",
      "Requirement already satisfied: certifi>=2017.4.17 in /usr/local/lib/python3.7/dist-packages (from requests->transformers) (2021.10.8)\n",
      "Requirement already satisfied: six in /usr/local/lib/python3.7/dist-packages (from sacremoses->transformers) (1.15.0)\n",
      "Requirement already satisfied: click in /usr/local/lib/python3.7/dist-packages (from sacremoses->transformers) (7.1.2)\n",
      "Requirement already satisfied: joblib in /usr/local/lib/python3.7/dist-packages (from sacremoses->transformers) (1.1.0)\n",
      "Building wheels for collected packages: sacremoses\n",
      "  Building wheel for sacremoses (setup.py) ... \u001b[?25l\u001b[?25hdone\n",
      "  Created wheel for sacremoses: filename=sacremoses-0.0.53-py3-none-any.whl size=895260 sha256=37a255cee6dd5592cebff083dbeb2c2b121fa3fa26fce3b4960bc2f460e25b35\n",
      "  Stored in directory: /root/.cache/pip/wheels/87/39/dd/a83eeef36d0bf98e7a4d1933a4ad2d660295a40613079bafc9\n",
      "Successfully built sacremoses\n",
      "Installing collected packages: pyyaml, tokenizers, sacremoses, huggingface-hub, transformers\n",
      "  Attempting uninstall: pyyaml\n",
      "    Found existing installation: PyYAML 3.13\n",
      "    Uninstalling PyYAML-3.13:\n",
      "      Successfully uninstalled PyYAML-3.13\n",
      "Successfully installed huggingface-hub-0.6.0 pyyaml-6.0 sacremoses-0.0.53 tokenizers-0.12.1 transformers-4.18.0\n"
     ]
    }
   ],
   "source": [
    "!pip install transformers"
   ]
  },
  {
   "cell_type": "code",
   "execution_count": 251,
   "id": "OL5mqpDD0X0z",
   "metadata": {
    "id": "OL5mqpDD0X0z"
   },
   "outputs": [],
   "source": [
    "from nltk.tokenize import TweetTokenizer\n",
    "from transformers import AutoTokenizer,TFBertModel"
   ]
  },
  {
   "cell_type": "code",
   "execution_count": null,
   "id": "mrPXaYD_01w2",
   "metadata": {
    "id": "mrPXaYD_01w2"
   },
   "outputs": [],
   "source": []
  },
  {
   "cell_type": "code",
   "execution_count": 245,
   "id": "b01deec2",
   "metadata": {
    "id": "b01deec2"
   },
   "outputs": [],
   "source": [
    "tknzr = TweetTokenizer(\n",
    "    preserve_case=False,\n",
    "    reduce_len=True,\n",
    "    strip_handles=True,\n",
    ")\n",
    "\n",
    "\n",
    "def tokenize_tweets(tokenizer, input_text):\n",
    "    tokens = list(tokenizer.tokenize(input_text))\n",
    "    tokens = [re.sub('[^A-Za-z0-9]+', '', i) for i in tokens]\n",
    "    return tokens\n",
    "\n",
    "original_data['tokens'] = original_data['text']\n",
    "original_data['tokens'] = original_data['tokens'].apply(lambda x: tokenize_tweets(tknzr, x))\n",
    "\n",
    "test_data['tokens'] = test_data['text'].apply(lambda x: tokenize_tweets(tknzr, x))"
   ]
  },
  {
   "cell_type": "markdown",
   "id": "7a2e502a",
   "metadata": {
    "id": "7a2e502a"
   },
   "source": [
    "We'll pad all embeddings to match the length of the biggest tweet in order to account for the variability in tweet length Later on the model is going to mask the padded values, so that they won't influence the result"
   ]
  },
  {
   "cell_type": "code",
   "execution_count": 246,
   "id": "a044594c",
   "metadata": {
    "id": "a044594c"
   },
   "outputs": [],
   "source": [
    "\n",
    "max_tweet_length = max(original_data['tokens'].apply(lambda x: len(x)).max(), \n",
    "                       test_data['tokens'].apply(lambda x: len(x)).max())"
   ]
  },
  {
   "cell_type": "code",
   "execution_count": 252,
   "id": "ee23dbbd",
   "metadata": {
    "colab": {
     "base_uri": "https://localhost:8080/",
     "height": 286,
     "referenced_widgets": [
      "a8ea580945b24d17aeec73dffe46ca8f",
      "05841d511d7840b58636485bc732835d",
      "5185946ea7d94b4c887e8e5a4f2cec10",
      "9e8ee94cdca042f9b00d700ebb9f75ec",
      "a1d0c588f31e4df9b85b37a68a549f1b",
      "2b6c5a60272a47c585371484102d6537",
      "52ef1271238c4ffbbee82867018a5c97",
      "b888b200608c4b69a3ed5370a24b8d84",
      "2dc7cff28a87443ba2b7fe92c42cf9e5",
      "53da765858c04a638cc361a39b6e9677",
      "7ee64d91120647798d03e5593a387aec",
      "b5cf4b7a22874684b46d547907be3396",
      "ba70adb9f2d94ba491598212a3965a31",
      "3a6ebf9754e44f45964dc0054efb6d75",
      "5a1a7ebd40814f5ea26e49ebbcb89b67",
      "d4df160ed9034acc893fc6b926ec292a",
      "fe8121e3649241d7b79f6465e4278ce5",
      "eee823eca1a94ecf819ffd292f79fefe",
      "10f50377146044989edd0b5bddd90169",
      "26d8134e90d84187acf59047fc4fe9f2",
      "4b2a53e4806f459c975760a0b005dd60",
      "c307a161a6fc49c08896d6202a31b6fa",
      "f8093fdcbcad499393a8dfc075ff11cf",
      "b9aa693a9ec946aaaeae2e307ad3ecdd",
      "5bc4dda237ab4454a6c5d5c061bca912",
      "ddf1d3e548be4f119567733f391a639d",
      "ca7c8fb8442741719b0bda07a73d2da6",
      "2eb4b7314a3b4fdb9f52b6e4d0544e1c",
      "16990716ac9a450ebb80927df6211ba3",
      "c5fa848508b14b67833ad5d739731454",
      "38024bf77d4f488287aaa284d5b5a118",
      "b3bf457516d7468ebdde927ffec29e13",
      "57d94d241667400eb5a58faad518e96f",
      "ea543319230944c09e70699f6d346a3a",
      "f8503a092c9d4742a8085bd0e476bd6e",
      "27c7a44e3e564df392288e678de8b1da",
      "6145eb51b11e4d028ce4f1fe3de29c47",
      "c576ad666d2e4048ac4c2d63b9c5e085",
      "45ba10d71b434f308270286a921c8dac",
      "90688ce05b9c403bbc0d4d44019979b1",
      "a756912451da4349b178cc997ccbf451",
      "3a193f77273e46ca95fca05420e571da",
      "6bac43e98feb455990b95e566ec8d080",
      "44c3fbacd6134f0ba3ef47b2d74db239",
      "c2169c0ad8ca467db6e9abc560eaec6f",
      "14acd34f93dc455fab03dfd46b19c431",
      "eaf1f36305534bd8a4643a1ccf49ed8b",
      "f2a707f75c4d4ba991316f0aaa09b702",
      "7c1c613ad5d24d9391d5119ab7b05dac",
      "77e5bbd0dad64b04af03d36634ca186e",
      "c6534e11f8684712a38b366fe141cdfd",
      "b13b7bdc3d884376b11527c24bbcf782",
      "9aa8a053e53747d3a0bf3556c4d7fa65",
      "3e45f835608e4873929cd7514de9ac74",
      "89693857338b408ca1c3ff27146a47a5"
     ]
    },
    "id": "ee23dbbd",
    "outputId": "ea0eeea1-d4b3-427d-fb61-bf22c5d2d17c"
   },
   "outputs": [
    {
     "data": {
      "application/vnd.jupyter.widget-view+json": {
       "model_id": "a8ea580945b24d17aeec73dffe46ca8f",
       "version_major": 2,
       "version_minor": 0
      },
      "text/plain": [
       "Downloading:   0%|          | 0.00/28.0 [00:00<?, ?B/s]"
      ]
     },
     "metadata": {},
     "output_type": "display_data"
    },
    {
     "data": {
      "application/vnd.jupyter.widget-view+json": {
       "model_id": "b5cf4b7a22874684b46d547907be3396",
       "version_major": 2,
       "version_minor": 0
      },
      "text/plain": [
       "Downloading:   0%|          | 0.00/570 [00:00<?, ?B/s]"
      ]
     },
     "metadata": {},
     "output_type": "display_data"
    },
    {
     "data": {
      "application/vnd.jupyter.widget-view+json": {
       "model_id": "f8093fdcbcad499393a8dfc075ff11cf",
       "version_major": 2,
       "version_minor": 0
      },
      "text/plain": [
       "Downloading:   0%|          | 0.00/226k [00:00<?, ?B/s]"
      ]
     },
     "metadata": {},
     "output_type": "display_data"
    },
    {
     "data": {
      "application/vnd.jupyter.widget-view+json": {
       "model_id": "ea543319230944c09e70699f6d346a3a",
       "version_major": 2,
       "version_minor": 0
      },
      "text/plain": [
       "Downloading:   0%|          | 0.00/455k [00:00<?, ?B/s]"
      ]
     },
     "metadata": {},
     "output_type": "display_data"
    },
    {
     "data": {
      "application/vnd.jupyter.widget-view+json": {
       "model_id": "c2169c0ad8ca467db6e9abc560eaec6f",
       "version_major": 2,
       "version_minor": 0
      },
      "text/plain": [
       "Downloading:   0%|          | 0.00/511M [00:00<?, ?B/s]"
      ]
     },
     "metadata": {},
     "output_type": "display_data"
    },
    {
     "name": "stderr",
     "output_type": "stream",
     "text": [
      "Some layers from the model checkpoint at bert-base-uncased were not used when initializing TFBertModel: ['nsp___cls', 'mlm___cls']\n",
      "- This IS expected if you are initializing TFBertModel from the checkpoint of a model trained on another task or with another architecture (e.g. initializing a BertForSequenceClassification model from a BertForPreTraining model).\n",
      "- This IS NOT expected if you are initializing TFBertModel from the checkpoint of a model that you expect to be exactly identical (initializing a BertForSequenceClassification model from a BertForSequenceClassification model).\n",
      "All the layers of TFBertModel were initialized from the model checkpoint at bert-base-uncased.\n",
      "If your task is similar to the task the model of the checkpoint was trained on, you can already use TFBertModel for predictions without further training.\n"
     ]
    }
   ],
   "source": [
    "bert_tokenizer = AutoTokenizer.from_pretrained('bert-base-uncased')\n",
    "bert = TFBertModel.from_pretrained('bert-base-uncased')\n",
    "\n",
    "X = bert_tokenizer(\n",
    "    text=X,\n",
    "    add_special_tokens=True,\n",
    "    max_length=max_tweet_length,\n",
    "    truncation=True,\n",
    "    padding=True, \n",
    "    return_tensors='tf',\n",
    "    return_token_type_ids = False,\n",
    "    return_attention_mask = True,\n",
    "    verbose = True)\n",
    "\n",
    "test_array = bert_tokenizer(\n",
    "    text=test_array,\n",
    "    add_special_tokens=True,\n",
    "    max_length=max_tweet_length,\n",
    "    truncation=True,\n",
    "    padding=True, \n",
    "    return_tensors='tf',\n",
    "    return_token_type_ids = False,\n",
    "    return_attention_mask = True,\n",
    "    verbose = True)\n",
    "\n",
    "\n"
   ]
  },
  {
   "cell_type": "code",
   "execution_count": null,
   "id": "ZrUssPl-05Cl",
   "metadata": {
    "id": "ZrUssPl-05Cl"
   },
   "outputs": [],
   "source": []
  },
  {
   "cell_type": "code",
   "execution_count": 256,
   "id": "HxUjM1Lm02es",
   "metadata": {
    "id": "HxUjM1Lm02es"
   },
   "outputs": [],
   "source": [
    "import tensorflow as tf\n",
    "from tensorflow.keras.optimizers.schedules import LearningRateSchedule"
   ]
  },
  {
   "cell_type": "code",
   "execution_count": 257,
   "id": "380fff7d",
   "metadata": {
    "colab": {
     "base_uri": "https://localhost:8080/",
     "height": 390
    },
    "id": "380fff7d",
    "outputId": "3d713f34-0382-4bda-f657-2e32975a6c2a"
   },
   "outputs": [
    {
     "data": {
      "image/png": "[encoded data removed]",
      "text/plain": [
       "<Figure size 1296x432 with 1 Axes>"
      ]
     },
     "metadata": {
      "needs_background": "light"
     },
     "output_type": "display_data"
    }
   ],
   "source": [
    "epochs = 5\n",
    "steps_per_epoch = X['input_ids'].numpy().shape[0]\n",
    "num_train_steps = steps_per_epoch * epochs\n",
    "num_warmup_steps = int(0.1*num_train_steps)\n",
    "\n",
    "class BertLrSchedule(LearningRateSchedule):\n",
    "\n",
    "    @tf.function\n",
    "    def __init__(self, initial_learning_rate, num_warmups, num_train_steps):\n",
    "        self.overshoot = 1000\n",
    "        self.initial_learning_rate = initial_learning_rate\n",
    "        self.num_warmups = num_warmups\n",
    "        self.num_train_steps = num_train_steps\n",
    "        self.angle_warm = self.initial_learning_rate / self.num_warmups\n",
    "        self.angle_decay = - self.initial_learning_rate / \\\n",
    "            (self.num_train_steps - self.num_warmups - self.overshoot)\n",
    "    \n",
    "    @tf.function\n",
    "    def __call__(self, step):\n",
    "        if step <= self.num_warmups:\n",
    "            return (tf.cast(step, tf.float32) + 1) * self.angle_warm\n",
    "        else:\n",
    "            return self.initial_learning_rate + (tf.cast(step, tf.float32) - self.num_warmups + 1 + self.overshoot) * self.angle_decay\n",
    "        \n",
    "        \n",
    "schedule = BertLrSchedule(initial_learning_rate=2e-5, \n",
    "                          num_warmups=num_warmup_steps, \n",
    "                          num_train_steps=num_train_steps)\n",
    "\n",
    "steps = np.arange(num_train_steps)\n",
    "lrs = [schedule.__call__(i) for i in steps]\n",
    "\n",
    "import matplotlib.pyplot as plt\n",
    "fig, ax = plt.subplots(1,1)\n",
    "ax.plot(steps, lrs)\n",
    "ax.set_xlabel('Train steps')\n",
    "ax.set_ylabel('Learning Rate')\n",
    "ax.set_title('Bert scheduler')\n",
    "plt.show()"
   ]
  },
  {
   "cell_type": "code",
   "execution_count": 263,
   "id": "i263slC11LRp",
   "metadata": {
    "id": "i263slC11LRp"
   },
   "outputs": [],
   "source": [
    "from sklearn.model_selection import StratifiedKFold\n",
    "from tensorflow.keras.optimizers import Adam\n",
    "from tensorflow.keras import Sequential, Input, optimizers"
   ]
  },
  {
   "cell_type": "code",
   "execution_count": 264,
   "id": "8795c094",
   "metadata": {
    "colab": {
     "base_uri": "https://localhost:8080/"
    },
    "id": "8795c094",
    "outputId": "23124ecc-f031-411c-a25e-6a4f1570aefb"
   },
   "outputs": [
    {
     "name": "stdout",
     "output_type": "stream",
     "text": [
      "Epoch 1/5\n",
      "191/191 [==============================] - 81s 324ms/step - loss: 0.6885\n",
      "Epoch 2/5\n",
      "191/191 [==============================] - 64s 335ms/step - loss: 0.5901\n",
      "Epoch 3/5\n",
      "191/191 [==============================] - 64s 333ms/step - loss: 0.4588\n",
      "Epoch 4/5\n",
      "191/191 [==============================] - 63s 332ms/step - loss: 0.3875\n",
      "Epoch 5/5\n",
      "191/191 [==============================] - 63s 332ms/step - loss: 0.3635\n",
      "Fold: 0, train auc: 0.936, validation auc: 0.884\n",
      "Epoch 1/5\n",
      "191/191 [==============================] - 92s 334ms/step - loss: 0.3721\n",
      "Epoch 2/5\n",
      "191/191 [==============================] - 63s 331ms/step - loss: 0.3038\n",
      "Epoch 3/5\n",
      "191/191 [==============================] - 63s 331ms/step - loss: 0.2558\n",
      "Epoch 4/5\n",
      "191/191 [==============================] - 63s 331ms/step - loss: 0.2182\n",
      "Epoch 5/5\n",
      "191/191 [==============================] - 63s 332ms/step - loss: 0.1802\n",
      "Fold: 1, train auc: 0.989, validation auc: 0.887\n",
      "Epoch 1/5\n",
      "191/191 [==============================] - 79s 334ms/step - loss: 0.2600\n",
      "Epoch 2/5\n",
      "191/191 [==============================] - 63s 332ms/step - loss: 0.1845\n",
      "Epoch 3/5\n",
      "191/191 [==============================] - 63s 331ms/step - loss: 0.1372\n",
      "Epoch 4/5\n",
      "191/191 [==============================] - 63s 331ms/step - loss: 0.1128\n",
      "Epoch 5/5\n",
      "191/191 [==============================] - 63s 332ms/step - loss: 0.0916\n",
      "Fold: 2, train auc: 0.998, validation auc: 0.970\n",
      "Epoch 1/5\n",
      "191/191 [==============================] - 79s 334ms/step - loss: 0.1339\n",
      "Epoch 2/5\n",
      "191/191 [==============================] - 63s 331ms/step - loss: 0.0961\n",
      "Epoch 3/5\n",
      "191/191 [==============================] - 63s 331ms/step - loss: 0.0733\n",
      "Epoch 4/5\n",
      "191/191 [==============================] - 63s 331ms/step - loss: 0.0659\n",
      "Epoch 5/5\n",
      "191/191 [==============================] - 63s 332ms/step - loss: 0.0592\n",
      "Fold: 3, train auc: 1.000, validation auc: 0.992\n",
      "Epoch 1/5\n",
      "191/191 [==============================] - 80s 334ms/step - loss: 0.1010\n",
      "Epoch 2/5\n",
      "191/191 [==============================] - 63s 331ms/step - loss: 0.0665\n",
      "Epoch 3/5\n",
      "191/191 [==============================] - 63s 331ms/step - loss: 0.0634\n",
      "Epoch 4/5\n",
      "191/191 [==============================] - 63s 331ms/step - loss: 0.0467\n",
      "Epoch 5/5\n",
      "191/191 [==============================] - 63s 332ms/step - loss: 0.0399\n",
      "Fold: 4, train auc: 1.000, validation auc: 1.000\n",
      "Train average: 0.984, validation average: 0.947\n",
      "OOF Accuracy Score: 0.8982004466044923\n"
     ]
    }
   ],
   "source": [
    "def build_bert_classifier():\n",
    "    input_ids = Input(shape=(max_tweet_length,), dtype=tf.int32, name=\"input_ids\")\n",
    "    input_mask = Input(shape=(max_tweet_length,), dtype=tf.int32, name=\"attention_mask\")\n",
    "    embeddings = bert(input_ids,attention_mask = input_mask)['pooler_output']\n",
    "    net = tf.keras.layers.Dropout(0.1)(embeddings)\n",
    "    net = tf.keras.layers.Dense(128, activation='relu', name='pre-clf')(net)\n",
    "    net = tf.keras.layers.Dropout(0.1)(net)\n",
    "    net = tf.keras.layers.Dense(1, activation=None, name='classifier')(net)\n",
    "    return tf.keras.Model(inputs=[input_ids, input_mask], outputs=net)\n",
    "\n",
    "skf = StratifiedKFold(n_splits=5)\n",
    "train_average_score = 0\n",
    "validation_average_score = 0\n",
    "validation_oof_predictions = np.zeros((len(X['input_ids'].numpy())))\n",
    "\n",
    "loss = tf.keras.losses.BinaryCrossentropy(from_logits=True)\n",
    "optimizer = Adam(learning_rate=schedule)\n",
    "epochs = 5\n",
    "\n",
    "averaged_test_predictions = np.zeros((test_array['input_ids'].shape[0]))\n",
    "\n",
    "\n",
    "for fold_n, (train_idx, test_idx) in enumerate(skf.split(X['input_ids'].numpy(), y)):\n",
    "    X_train_ids = X['input_ids'].numpy()[train_idx]\n",
    "    X_train_att = X['attention_mask'].numpy()[train_idx]\n",
    "    y_train = y[train_idx]\n",
    "    \n",
    "    X_test_ids = X['input_ids'].numpy()[test_idx]\n",
    "    X_test_att = X['attention_mask'].numpy()[test_idx]\n",
    "    y_test = y[test_idx]\n",
    "    \n",
    "    model = build_bert_classifier()\n",
    "    model.layers[2].trainable = True\n",
    "    \n",
    "    model.compile(optimizer=optimizer,\n",
    "                  loss=loss)\n",
    "    \n",
    "    model.fit(x={'input_ids':X_train_ids,'attention_mask':X_train_att}, \n",
    "              y=y_train, batch_size=32, epochs=epochs)\n",
    "    \n",
    "    train_predictions = model.predict({'input_ids':X_train_ids,'attention_mask':X_train_att})\n",
    "    validation_predictions = model.predict({'input_ids':X_test_ids,'attention_mask':X_test_att})\n",
    "    \n",
    "    train_score = roc_auc_score(y_train, train_predictions)\n",
    "    validation_score = roc_auc_score(y_test, validation_predictions)\n",
    "    \n",
    "    train_average_score += train_score / 5\n",
    "    validation_average_score += validation_score / 5\n",
    "    validation_oof_predictions[test_idx,] = (validation_predictions > 0.5).astype(int).flatten()\n",
    "    \n",
    "    print(f'Fold: {fold_n}, train auc: {train_score:.3f}, validation auc: {validation_score:.3f}')\n",
    "    \n",
    "    test_predictions = model.predict({'input_ids':test_array['input_ids'],\n",
    "                                      'attention_mask':test_array['attention_mask']}).flatten()\n",
    "    averaged_test_predictions += test_predictions / 5\n",
    "    \n",
    "print(f'Train average: {train_average_score:.3f}, validation average: {validation_average_score:.3f}')\n",
    "print(f'OOF Accuracy Score: {accuracy_score(y, validation_oof_predictions)}')"
   ]
  },
  {
   "cell_type": "code",
   "execution_count": null,
   "id": "ftkzGhe31KbQ",
   "metadata": {
    "id": "ftkzGhe31KbQ"
   },
   "outputs": [],
   "source": []
  },
  {
   "cell_type": "markdown",
   "id": "09317b93",
   "metadata": {
    "id": "09317b93"
   },
   "source": [
    "Used Stratified k-fold cross validation"
   ]
  },
  {
   "cell_type": "code",
   "execution_count": 266,
   "id": "1957e16e",
   "metadata": {
    "id": "1957e16e"
   },
   "outputs": [],
   "source": [
    "submission_data = pd.read_csv('sample_submission.csv')\n"
   ]
  },
  {
   "cell_type": "code",
   "execution_count": 267,
   "id": "780e08d0",
   "metadata": {
    "colab": {
     "base_uri": "https://localhost:8080/",
     "height": 206
    },
    "id": "780e08d0",
    "outputId": "4bdf4f1a-7760-4dd9-96a9-038415b32943"
   },
   "outputs": [
    {
     "data": {
      "text/html": [
       "\n",
       "  <div id=\"df-a12aaf35-da78-4889-b72c-2d8b828bd84f\">\n",
       "    <div class=\"colab-df-container\">\n",
       "      <div>\n",
       "<style scoped>\n",
       "    .dataframe tbody tr th:only-of-type {\n",
       "        vertical-align: middle;\n",
       "    }\n",
       "\n",
       "    .dataframe tbody tr th {\n",
       "        vertical-align: top;\n",
       "    }\n",
       "\n",
       "    .dataframe thead th {\n",
       "        text-align: right;\n",
       "    }\n",
       "</style>\n",
       "<table border=\"1\" class=\"dataframe\">\n",
       "  <thead>\n",
       "    <tr style=\"text-align: right;\">\n",
       "      <th></th>\n",
       "      <th>id</th>\n",
       "      <th>target</th>\n",
       "    </tr>\n",
       "  </thead>\n",
       "  <tbody>\n",
       "    <tr>\n",
       "      <th>0</th>\n",
       "      <td>0</td>\n",
       "      <td>1</td>\n",
       "    </tr>\n",
       "    <tr>\n",
       "      <th>1</th>\n",
       "      <td>2</td>\n",
       "      <td>1</td>\n",
       "    </tr>\n",
       "    <tr>\n",
       "      <th>2</th>\n",
       "      <td>3</td>\n",
       "      <td>1</td>\n",
       "    </tr>\n",
       "    <tr>\n",
       "      <th>3</th>\n",
       "      <td>9</td>\n",
       "      <td>1</td>\n",
       "    </tr>\n",
       "    <tr>\n",
       "      <th>4</th>\n",
       "      <td>11</td>\n",
       "      <td>1</td>\n",
       "    </tr>\n",
       "  </tbody>\n",
       "</table>\n",
       "</div>\n",
       "      <button class=\"colab-df-convert\" onclick=\"convertToInteractive('df-a12aaf35-da78-4889-b72c-2d8b828bd84f')\"\n",
       "              title=\"Convert this dataframe to an interactive table.\"\n",
       "              style=\"display:none;\">\n",
       "        \n",
       "  <svg xmlns=\"http://www.w3.org/2000/svg\" height=\"24px\"viewBox=\"0 0 24 24\"\n",
       "       width=\"24px\">\n",
       "    <path d=\"M0 0h24v24H0V0z\" fill=\"none\"/>\n",
       "    <path d=\"M18.56 5.44l.94 2.06.94-2.06 2.06-.94-2.06-.94-.94-2.06-.94 2.06-2.06.94zm-11 1L8.5 8.5l.94-2.06 2.06-.94-2.06-.94L8.5 2.5l-.94 2.06-2.06.94zm10 10l.94 2.06.94-2.06 2.06-.94-2.06-.94-.94-2.06-.94 2.06-2.06.94z\"/><path d=\"M17.41 7.96l-1.37-1.37c-.4-.4-.92-.59-1.43-.59-.52 0-1.04.2-1.43.59L10.3 9.45l-7.72 7.72c-.78.78-.78 2.05 0 2.83L4 21.41c.39.39.9.59 1.41.59.51 0 1.02-.2 1.41-.59l7.78-7.78 2.81-2.81c.8-.78.8-2.07 0-2.86zM5.41 20L4 18.59l7.72-7.72 1.47 1.35L5.41 20z\"/>\n",
       "  </svg>\n",
       "      </button>\n",
       "      \n",
       "  <style>\n",
       "    .colab-df-container {\n",
       "      display:flex;\n",
       "      flex-wrap:wrap;\n",
       "      gap: 12px;\n",
       "    }\n",
       "\n",
       "    .colab-df-convert {\n",
       "      background-color: #E8F0FE;\n",
       "      border: none;\n",
       "      border-radius: 50%;\n",
       "      cursor: pointer;\n",
       "      display: none;\n",
       "      fill: #1967D2;\n",
       "      height: 32px;\n",
       "      padding: 0 0 0 0;\n",
       "      width: 32px;\n",
       "    }\n",
       "\n",
       "    .colab-df-convert:hover {\n",
       "      background-color: #E2EBFA;\n",
       "      box-shadow: 0px 1px 2px rgba(60, 64, 67, 0.3), 0px 1px 3px 1px rgba(60, 64, 67, 0.15);\n",
       "      fill: #174EA6;\n",
       "    }\n",
       "\n",
       "    [theme=dark] .colab-df-convert {\n",
       "      background-color: #3B4455;\n",
       "      fill: #D2E3FC;\n",
       "    }\n",
       "\n",
       "    [theme=dark] .colab-df-convert:hover {\n",
       "      background-color: #434B5C;\n",
       "      box-shadow: 0px 1px 3px 1px rgba(0, 0, 0, 0.15);\n",
       "      filter: drop-shadow(0px 1px 2px rgba(0, 0, 0, 0.3));\n",
       "      fill: #FFFFFF;\n",
       "    }\n",
       "  </style>\n",
       "\n",
       "      <script>\n",
       "        const buttonEl =\n",
       "          document.querySelector('#df-a12aaf35-da78-4889-b72c-2d8b828bd84f button.colab-df-convert');\n",
       "        buttonEl.style.display =\n",
       "          google.colab.kernel.accessAllowed ? 'block' : 'none';\n",
       "\n",
       "        async function convertToInteractive(key) {\n",
       "          const element = document.querySelector('#df-a12aaf35-da78-4889-b72c-2d8b828bd84f');\n",
       "          const dataTable =\n",
       "            await google.colab.kernel.invokeFunction('convertToInteractive',\n",
       "                                                     [key], {});\n",
       "          if (!dataTable) return;\n",
       "\n",
       "          const docLinkHtml = 'Like what you see? Visit the ' +\n",
       "            '<a target=\"_blank\" href=https://colab.research.google.com/notebooks/data_table.ipynb>data table notebook</a>'\n",
       "            + ' to learn more about interactive tables.';\n",
       "          element.innerHTML = '';\n",
       "          dataTable['output_type'] = 'display_data';\n",
       "          await google.colab.output.renderOutput(dataTable, element);\n",
       "          const docLink = document.createElement('div');\n",
       "          docLink.innerHTML = docLinkHtml;\n",
       "          element.appendChild(docLink);\n",
       "        }\n",
       "      </script>\n",
       "    </div>\n",
       "  </div>\n",
       "  "
      ],
      "text/plain": [
       "   id  target\n",
       "0   0       1\n",
       "1   2       1\n",
       "2   3       1\n",
       "3   9       1\n",
       "4  11       1"
      ]
     },
     "execution_count": 267,
     "metadata": {},
     "output_type": "execute_result"
    }
   ],
   "source": [
    "submission_data['target'] = (averaged_test_predictions > 0.5).astype(int)\n",
    "submission_data.to_csv('model_predictions.csv', index=False)\n",
    "submission_data.head()"
   ]
  },
  {
   "cell_type": "code",
   "execution_count": 269,
   "id": "-yVhawzM9nQA",
   "metadata": {
    "id": "-yVhawzM9nQA"
   },
   "outputs": [],
   "source": []
  },
  {
   "cell_type": "markdown",
   "id": "rZLH-ubs9yFv",
   "metadata": {
    "id": "rZLH-ubs9yFv"
   },
   "source": [
    "<img src='https://drive.google.com/uc?id=1yffvrtEkPL5aZnnpUafOw0y8Pz5u_kdn'>"
   ]
  }
 ],
 "metadata": {
  "accelerator": "GPU",
  "colab": {
   "collapsed_sections": [
    "690589d9"
   ],
   "name": "DisasterTweets_test-2.ipynb",
   "provenance": []
  },
  "kernelspec": {
   "display_name": "Python 3 (ipykernel)",
   "language": "python",
   "name": "python3"
  },
  "language_info": {
   "codemirror_mode": {
    "name": "ipython",
    "version": 3
   },
   "file_extension": ".py",
   "mimetype": "text/x-python",
   "name": "python",
   "nbconvert_exporter": "python",
   "pygments_lexer": "ipython3",
   "version": "3.9.12"
  },
  "widgets": {
   "application/vnd.jupyter.widget-state+json": {
    "05841d511d7840b58636485bc732835d": {
     "model_module": "@jupyter-widgets/controls",
     "model_module_version": "1.5.0",
     "model_name": "HTMLModel",
     "state": {
      "_dom_classes": [],
      "_model_module": "@jupyter-widgets/controls",
      "_model_module_version": "1.5.0",
      "_model_name": "HTMLModel",
      "_view_count": null,
      "_view_module": "@jupyter-widgets/controls",
      "_view_module_version": "1.5.0",
      "_view_name": "HTMLView",
      "description": "",
      "description_tooltip": null,
      "layout": "IPY_MODEL_2b6c5a60272a47c585371484102d6537",
      "placeholder": "​",
      "style": "IPY_MODEL_52ef1271238c4ffbbee82867018a5c97",
      "value": "Downloading: 100%"
     }
    },
    "10f50377146044989edd0b5bddd90169": {
     "model_module": "@jupyter-widgets/base",
     "model_module_version": "1.2.0",
     "model_name": "LayoutModel",
     "state": {
      "_model_module": "@jupyter-widgets/base",
      "_model_module_version": "1.2.0",
      "_model_name": "LayoutModel",
      "_view_count": null,
      "_view_module": "@jupyter-widgets/base",
      "_view_module_version": "1.2.0",
      "_view_name": "LayoutView",
      "align_content": null,
      "align_items": null,
      "align_self": null,
      "border": null,
      "bottom": null,
      "display": null,
      "flex": null,
      "flex_flow": null,
      "grid_area": null,
      "grid_auto_columns": null,
      "grid_auto_flow": null,
      "grid_auto_rows": null,
      "grid_column": null,
      "grid_gap": null,
      "grid_row": null,
      "grid_template_areas": null,
      "grid_template_columns": null,
      "grid_template_rows": null,
      "height": null,
      "justify_content": null,
      "justify_items": null,
      "left": null,
      "margin": null,
      "max_height": null,
      "max_width": null,
      "min_height": null,
      "min_width": null,
      "object_fit": null,
      "object_position": null,
      "order": null,
      "overflow": null,
      "overflow_x": null,
      "overflow_y": null,
      "padding": null,
      "right": null,
      "top": null,
      "visibility": null,
      "width": null
     }
    },
    "14acd34f93dc455fab03dfd46b19c431": {
     "model_module": "@jupyter-widgets/controls",
     "model_module_version": "1.5.0",
     "model_name": "HTMLModel",
     "state": {
      "_dom_classes": [],
      "_model_module": "@jupyter-widgets/controls",
      "_model_module_version": "1.5.0",
      "_model_name": "HTMLModel",
      "_view_count": null,
      "_view_module": "@jupyter-widgets/controls",
      "_view_module_version": "1.5.0",
      "_view_name": "HTMLView",
      "description": "",
      "description_tooltip": null,
      "layout": "IPY_MODEL_77e5bbd0dad64b04af03d36634ca186e",
      "placeholder": "​",
      "style": "IPY_MODEL_c6534e11f8684712a38b366fe141cdfd",
      "value": "Downloading: 100%"
     }
    },
    "16990716ac9a450ebb80927df6211ba3": {
     "model_module": "@jupyter-widgets/controls",
     "model_module_version": "1.5.0",
     "model_name": "DescriptionStyleModel",
     "state": {
      "_model_module": "@jupyter-widgets/controls",
      "_model_module_version": "1.5.0",
      "_model_name": "DescriptionStyleModel",
      "_view_count": null,
      "_view_module": "@jupyter-widgets/base",
      "_view_module_version": "1.2.0",
      "_view_name": "StyleView",
      "description_width": ""
     }
    },
    "26d8134e90d84187acf59047fc4fe9f2": {
     "model_module": "@jupyter-widgets/controls",
     "model_module_version": "1.5.0",
     "model_name": "ProgressStyleModel",
     "state": {
      "_model_module": "@jupyter-widgets/controls",
      "_model_module_version": "1.5.0",
      "_model_name": "ProgressStyleModel",
      "_view_count": null,
      "_view_module": "@jupyter-widgets/base",
      "_view_module_version": "1.2.0",
      "_view_name": "StyleView",
      "bar_color": null,
      "description_width": ""
     }
    },
    "27c7a44e3e564df392288e678de8b1da": {
     "model_module": "@jupyter-widgets/controls",
     "model_module_version": "1.5.0",
     "model_name": "FloatProgressModel",
     "state": {
      "_dom_classes": [],
      "_model_module": "@jupyter-widgets/controls",
      "_model_module_version": "1.5.0",
      "_model_name": "FloatProgressModel",
      "_view_count": null,
      "_view_module": "@jupyter-widgets/controls",
      "_view_module_version": "1.5.0",
      "_view_name": "ProgressView",
      "bar_style": "success",
      "description": "",
      "description_tooltip": null,
      "layout": "IPY_MODEL_a756912451da4349b178cc997ccbf451",
      "max": 466062,
      "min": 0,
      "orientation": "horizontal",
      "style": "IPY_MODEL_3a193f77273e46ca95fca05420e571da",
      "value": 466062
     }
    },
    "2b6c5a60272a47c585371484102d6537": {
     "model_module": "@jupyter-widgets/base",
     "model_module_version": "1.2.0",
     "model_name": "LayoutModel",
     "state": {
      "_model_module": "@jupyter-widgets/base",
      "_model_module_version": "1.2.0",
      "_model_name": "LayoutModel",
      "_view_count": null,
      "_view_module": "@jupyter-widgets/base",
      "_view_module_version": "1.2.0",
      "_view_name": "LayoutView",
      "align_content": null,
      "align_items": null,
      "align_self": null,
      "border": null,
      "bottom": null,
      "display": null,
      "flex": null,
      "flex_flow": null,
      "grid_area": null,
      "grid_auto_columns": null,
      "grid_auto_flow": null,
      "grid_auto_rows": null,
      "grid_column": null,
      "grid_gap": null,
      "grid_row": null,
      "grid_template_areas": null,
      "grid_template_columns": null,
      "grid_template_rows": null,
      "height": null,
      "justify_content": null,
      "justify_items": null,
      "left": null,
      "margin": null,
      "max_height": null,
      "max_width": null,
      "min_height": null,
      "min_width": null,
      "object_fit": null,
      "object_position": null,
      "order": null,
      "overflow": null,
      "overflow_x": null,
      "overflow_y": null,
      "padding": null,
      "right": null,
      "top": null,
      "visibility": null,
      "width": null
     }
    },
    "2dc7cff28a87443ba2b7fe92c42cf9e5": {
     "model_module": "@jupyter-widgets/controls",
     "model_module_version": "1.5.0",
     "model_name": "ProgressStyleModel",
     "state": {
      "_model_module": "@jupyter-widgets/controls",
      "_model_module_version": "1.5.0",
      "_model_name": "ProgressStyleModel",
      "_view_count": null,
      "_view_module": "@jupyter-widgets/base",
      "_view_module_version": "1.2.0",
      "_view_name": "StyleView",
      "bar_color": null,
      "description_width": ""
     }
    },
    "2eb4b7314a3b4fdb9f52b6e4d0544e1c": {
     "model_module": "@jupyter-widgets/base",
     "model_module_version": "1.2.0",
     "model_name": "LayoutModel",
     "state": {
      "_model_module": "@jupyter-widgets/base",
      "_model_module_version": "1.2.0",
      "_model_name": "LayoutModel",
      "_view_count": null,
      "_view_module": "@jupyter-widgets/base",
      "_view_module_version": "1.2.0",
      "_view_name": "LayoutView",
      "align_content": null,
      "align_items": null,
      "align_self": null,
      "border": null,
      "bottom": null,
      "display": null,
      "flex": null,
      "flex_flow": null,
      "grid_area": null,
      "grid_auto_columns": null,
      "grid_auto_flow": null,
      "grid_auto_rows": null,
      "grid_column": null,
      "grid_gap": null,
      "grid_row": null,
      "grid_template_areas": null,
      "grid_template_columns": null,
      "grid_template_rows": null,
      "height": null,
      "justify_content": null,
      "justify_items": null,
      "left": null,
      "margin": null,
      "max_height": null,
      "max_width": null,
      "min_height": null,
      "min_width": null,
      "object_fit": null,
      "object_position": null,
      "order": null,
      "overflow": null,
      "overflow_x": null,
      "overflow_y": null,
      "padding": null,
      "right": null,
      "top": null,
      "visibility": null,
      "width": null
     }
    },
    "38024bf77d4f488287aaa284d5b5a118": {
     "model_module": "@jupyter-widgets/controls",
     "model_module_version": "1.5.0",
     "model_name": "ProgressStyleModel",
     "state": {
      "_model_module": "@jupyter-widgets/controls",
      "_model_module_version": "1.5.0",
      "_model_name": "ProgressStyleModel",
      "_view_count": null,
      "_view_module": "@jupyter-widgets/base",
      "_view_module_version": "1.2.0",
      "_view_name": "StyleView",
      "bar_color": null,
      "description_width": ""
     }
    },
    "3a193f77273e46ca95fca05420e571da": {
     "model_module": "@jupyter-widgets/controls",
     "model_module_version": "1.5.0",
     "model_name": "ProgressStyleModel",
     "state": {
      "_model_module": "@jupyter-widgets/controls",
      "_model_module_version": "1.5.0",
      "_model_name": "ProgressStyleModel",
      "_view_count": null,
      "_view_module": "@jupyter-widgets/base",
      "_view_module_version": "1.2.0",
      "_view_name": "StyleView",
      "bar_color": null,
      "description_width": ""
     }
    },
    "3a6ebf9754e44f45964dc0054efb6d75": {
     "model_module": "@jupyter-widgets/controls",
     "model_module_version": "1.5.0",
     "model_name": "FloatProgressModel",
     "state": {
      "_dom_classes": [],
      "_model_module": "@jupyter-widgets/controls",
      "_model_module_version": "1.5.0",
      "_model_name": "FloatProgressModel",
      "_view_count": null,
      "_view_module": "@jupyter-widgets/controls",
      "_view_module_version": "1.5.0",
      "_view_name": "ProgressView",
      "bar_style": "success",
      "description": "",
      "description_tooltip": null,
      "layout": "IPY_MODEL_10f50377146044989edd0b5bddd90169",
      "max": 570,
      "min": 0,
      "orientation": "horizontal",
      "style": "IPY_MODEL_26d8134e90d84187acf59047fc4fe9f2",
      "value": 570
     }
    },
    "3e45f835608e4873929cd7514de9ac74": {
     "model_module": "@jupyter-widgets/base",
     "model_module_version": "1.2.0",
     "model_name": "LayoutModel",
     "state": {
      "_model_module": "@jupyter-widgets/base",
      "_model_module_version": "1.2.0",
      "_model_name": "LayoutModel",
      "_view_count": null,
      "_view_module": "@jupyter-widgets/base",
      "_view_module_version": "1.2.0",
      "_view_name": "LayoutView",
      "align_content": null,
      "align_items": null,
      "align_self": null,
      "border": null,
      "bottom": null,
      "display": null,
      "flex": null,
      "flex_flow": null,
      "grid_area": null,
      "grid_auto_columns": null,
      "grid_auto_flow": null,
      "grid_auto_rows": null,
      "grid_column": null,
      "grid_gap": null,
      "grid_row": null,
      "grid_template_areas": null,
      "grid_template_columns": null,
      "grid_template_rows": null,
      "height": null,
      "justify_content": null,
      "justify_items": null,
      "left": null,
      "margin": null,
      "max_height": null,
      "max_width": null,
      "min_height": null,
      "min_width": null,
      "object_fit": null,
      "object_position": null,
      "order": null,
      "overflow": null,
      "overflow_x": null,
      "overflow_y": null,
      "padding": null,
      "right": null,
      "top": null,
      "visibility": null,
      "width": null
     }
    },
    "44c3fbacd6134f0ba3ef47b2d74db239": {
     "model_module": "@jupyter-widgets/controls",
     "model_module_version": "1.5.0",
     "model_name": "DescriptionStyleModel",
     "state": {
      "_model_module": "@jupyter-widgets/controls",
      "_model_module_version": "1.5.0",
      "_model_name": "DescriptionStyleModel",
      "_view_count": null,
      "_view_module": "@jupyter-widgets/base",
      "_view_module_version": "1.2.0",
      "_view_name": "StyleView",
      "description_width": ""
     }
    },
    "45ba10d71b434f308270286a921c8dac": {
     "model_module": "@jupyter-widgets/base",
     "model_module_version": "1.2.0",
     "model_name": "LayoutModel",
     "state": {
      "_model_module": "@jupyter-widgets/base",
      "_model_module_version": "1.2.0",
      "_model_name": "LayoutModel",
      "_view_count": null,
      "_view_module": "@jupyter-widgets/base",
      "_view_module_version": "1.2.0",
      "_view_name": "LayoutView",
      "align_content": null,
      "align_items": null,
      "align_self": null,
      "border": null,
      "bottom": null,
      "display": null,
      "flex": null,
      "flex_flow": null,
      "grid_area": null,
      "grid_auto_columns": null,
      "grid_auto_flow": null,
      "grid_auto_rows": null,
      "grid_column": null,
      "grid_gap": null,
      "grid_row": null,
      "grid_template_areas": null,
      "grid_template_columns": null,
      "grid_template_rows": null,
      "height": null,
      "justify_content": null,
      "justify_items": null,
      "left": null,
      "margin": null,
      "max_height": null,
      "max_width": null,
      "min_height": null,
      "min_width": null,
      "object_fit": null,
      "object_position": null,
      "order": null,
      "overflow": null,
      "overflow_x": null,
      "overflow_y": null,
      "padding": null,
      "right": null,
      "top": null,
      "visibility": null,
      "width": null
     }
    },
    "4b2a53e4806f459c975760a0b005dd60": {
     "model_module": "@jupyter-widgets/base",
     "model_module_version": "1.2.0",
     "model_name": "LayoutModel",
     "state": {
      "_model_module": "@jupyter-widgets/base",
      "_model_module_version": "1.2.0",
      "_model_name": "LayoutModel",
      "_view_count": null,
      "_view_module": "@jupyter-widgets/base",
      "_view_module_version": "1.2.0",
      "_view_name": "LayoutView",
      "align_content": null,
      "align_items": null,
      "align_self": null,
      "border": null,
      "bottom": null,
      "display": null,
      "flex": null,
      "flex_flow": null,
      "grid_area": null,
      "grid_auto_columns": null,
      "grid_auto_flow": null,
      "grid_auto_rows": null,
      "grid_column": null,
      "grid_gap": null,
      "grid_row": null,
      "grid_template_areas": null,
      "grid_template_columns": null,
      "grid_template_rows": null,
      "height": null,
      "justify_content": null,
      "justify_items": null,
      "left": null,
      "margin": null,
      "max_height": null,
      "max_width": null,
      "min_height": null,
      "min_width": null,
      "object_fit": null,
      "object_position": null,
      "order": null,
      "overflow": null,
      "overflow_x": null,
      "overflow_y": null,
      "padding": null,
      "right": null,
      "top": null,
      "visibility": null,
      "width": null
     }
    },
    "5185946ea7d94b4c887e8e5a4f2cec10": {
     "model_module": "@jupyter-widgets/controls",
     "model_module_version": "1.5.0",
     "model_name": "FloatProgressModel",
     "state": {
      "_dom_classes": [],
      "_model_module": "@jupyter-widgets/controls",
      "_model_module_version": "1.5.0",
      "_model_name": "FloatProgressModel",
      "_view_count": null,
      "_view_module": "@jupyter-widgets/controls",
      "_view_module_version": "1.5.0",
      "_view_name": "ProgressView",
      "bar_style": "success",
      "description": "",
      "description_tooltip": null,
      "layout": "IPY_MODEL_b888b200608c4b69a3ed5370a24b8d84",
      "max": 28,
      "min": 0,
      "orientation": "horizontal",
      "style": "IPY_MODEL_2dc7cff28a87443ba2b7fe92c42cf9e5",
      "value": 28
     }
    },
    "52ef1271238c4ffbbee82867018a5c97": {
     "model_module": "@jupyter-widgets/controls",
     "model_module_version": "1.5.0",
     "model_name": "DescriptionStyleModel",
     "state": {
      "_model_module": "@jupyter-widgets/controls",
      "_model_module_version": "1.5.0",
      "_model_name": "DescriptionStyleModel",
      "_view_count": null,
      "_view_module": "@jupyter-widgets/base",
      "_view_module_version": "1.2.0",
      "_view_name": "StyleView",
      "description_width": ""
     }
    },
    "53da765858c04a638cc361a39b6e9677": {
     "model_module": "@jupyter-widgets/base",
     "model_module_version": "1.2.0",
     "model_name": "LayoutModel",
     "state": {
      "_model_module": "@jupyter-widgets/base",
      "_model_module_version": "1.2.0",
      "_model_name": "LayoutModel",
      "_view_count": null,
      "_view_module": "@jupyter-widgets/base",
      "_view_module_version": "1.2.0",
      "_view_name": "LayoutView",
      "align_content": null,
      "align_items": null,
      "align_self": null,
      "border": null,
      "bottom": null,
      "display": null,
      "flex": null,
      "flex_flow": null,
      "grid_area": null,
      "grid_auto_columns": null,
      "grid_auto_flow": null,
      "grid_auto_rows": null,
      "grid_column": null,
      "grid_gap": null,
      "grid_row": null,
      "grid_template_areas": null,
      "grid_template_columns": null,
      "grid_template_rows": null,
      "height": null,
      "justify_content": null,
      "justify_items": null,
      "left": null,
      "margin": null,
      "max_height": null,
      "max_width": null,
      "min_height": null,
      "min_width": null,
      "object_fit": null,
      "object_position": null,
      "order": null,
      "overflow": null,
      "overflow_x": null,
      "overflow_y": null,
      "padding": null,
      "right": null,
      "top": null,
      "visibility": null,
      "width": null
     }
    },
    "57d94d241667400eb5a58faad518e96f": {
     "model_module": "@jupyter-widgets/controls",
     "model_module_version": "1.5.0",
     "model_name": "DescriptionStyleModel",
     "state": {
      "_model_module": "@jupyter-widgets/controls",
      "_model_module_version": "1.5.0",
      "_model_name": "DescriptionStyleModel",
      "_view_count": null,
      "_view_module": "@jupyter-widgets/base",
      "_view_module_version": "1.2.0",
      "_view_name": "StyleView",
      "description_width": ""
     }
    },
    "5a1a7ebd40814f5ea26e49ebbcb89b67": {
     "model_module": "@jupyter-widgets/controls",
     "model_module_version": "1.5.0",
     "model_name": "HTMLModel",
     "state": {
      "_dom_classes": [],
      "_model_module": "@jupyter-widgets/controls",
      "_model_module_version": "1.5.0",
      "_model_name": "HTMLModel",
      "_view_count": null,
      "_view_module": "@jupyter-widgets/controls",
      "_view_module_version": "1.5.0",
      "_view_name": "HTMLView",
      "description": "",
      "description_tooltip": null,
      "layout": "IPY_MODEL_4b2a53e4806f459c975760a0b005dd60",
      "placeholder": "​",
      "style": "IPY_MODEL_c307a161a6fc49c08896d6202a31b6fa",
      "value": " 570/570 [00:00&lt;00:00, 4.91kB/s]"
     }
    },
    "5bc4dda237ab4454a6c5d5c061bca912": {
     "model_module": "@jupyter-widgets/controls",
     "model_module_version": "1.5.0",
     "model_name": "FloatProgressModel",
     "state": {
      "_dom_classes": [],
      "_model_module": "@jupyter-widgets/controls",
      "_model_module_version": "1.5.0",
      "_model_name": "FloatProgressModel",
      "_view_count": null,
      "_view_module": "@jupyter-widgets/controls",
      "_view_module_version": "1.5.0",
      "_view_name": "ProgressView",
      "bar_style": "success",
      "description": "",
      "description_tooltip": null,
      "layout": "IPY_MODEL_c5fa848508b14b67833ad5d739731454",
      "max": 231508,
      "min": 0,
      "orientation": "horizontal",
      "style": "IPY_MODEL_38024bf77d4f488287aaa284d5b5a118",
      "value": 231508
     }
    },
    "6145eb51b11e4d028ce4f1fe3de29c47": {
     "model_module": "@jupyter-widgets/controls",
     "model_module_version": "1.5.0",
     "model_name": "HTMLModel",
     "state": {
      "_dom_classes": [],
      "_model_module": "@jupyter-widgets/controls",
      "_model_module_version": "1.5.0",
      "_model_name": "HTMLModel",
      "_view_count": null,
      "_view_module": "@jupyter-widgets/controls",
      "_view_module_version": "1.5.0",
      "_view_name": "HTMLView",
      "description": "",
      "description_tooltip": null,
      "layout": "IPY_MODEL_6bac43e98feb455990b95e566ec8d080",
      "placeholder": "​",
      "style": "IPY_MODEL_44c3fbacd6134f0ba3ef47b2d74db239",
      "value": " 455k/455k [00:00&lt;00:00, 1.47MB/s]"
     }
    },
    "6bac43e98feb455990b95e566ec8d080": {
     "model_module": "@jupyter-widgets/base",
     "model_module_version": "1.2.0",
     "model_name": "LayoutModel",
     "state": {
      "_model_module": "@jupyter-widgets/base",
      "_model_module_version": "1.2.0",
      "_model_name": "LayoutModel",
      "_view_count": null,
      "_view_module": "@jupyter-widgets/base",
      "_view_module_version": "1.2.0",
      "_view_name": "LayoutView",
      "align_content": null,
      "align_items": null,
      "align_self": null,
      "border": null,
      "bottom": null,
      "display": null,
      "flex": null,
      "flex_flow": null,
      "grid_area": null,
      "grid_auto_columns": null,
      "grid_auto_flow": null,
      "grid_auto_rows": null,
      "grid_column": null,
      "grid_gap": null,
      "grid_row": null,
      "grid_template_areas": null,
      "grid_template_columns": null,
      "grid_template_rows": null,
      "height": null,
      "justify_content": null,
      "justify_items": null,
      "left": null,
      "margin": null,
      "max_height": null,
      "max_width": null,
      "min_height": null,
      "min_width": null,
      "object_fit": null,
      "object_position": null,
      "order": null,
      "overflow": null,
      "overflow_x": null,
      "overflow_y": null,
      "padding": null,
      "right": null,
      "top": null,
      "visibility": null,
      "width": null
     }
    },
    "77e5bbd0dad64b04af03d36634ca186e": {
     "model_module": "@jupyter-widgets/base",
     "model_module_version": "1.2.0",
     "model_name": "LayoutModel",
     "state": {
      "_model_module": "@jupyter-widgets/base",
      "_model_module_version": "1.2.0",
      "_model_name": "LayoutModel",
      "_view_count": null,
      "_view_module": "@jupyter-widgets/base",
      "_view_module_version": "1.2.0",
      "_view_name": "LayoutView",
      "align_content": null,
      "align_items": null,
      "align_self": null,
      "border": null,
      "bottom": null,
      "display": null,
      "flex": null,
      "flex_flow": null,
      "grid_area": null,
      "grid_auto_columns": null,
      "grid_auto_flow": null,
      "grid_auto_rows": null,
      "grid_column": null,
      "grid_gap": null,
      "grid_row": null,
      "grid_template_areas": null,
      "grid_template_columns": null,
      "grid_template_rows": null,
      "height": null,
      "justify_content": null,
      "justify_items": null,
      "left": null,
      "margin": null,
      "max_height": null,
      "max_width": null,
      "min_height": null,
      "min_width": null,
      "object_fit": null,
      "object_position": null,
      "order": null,
      "overflow": null,
      "overflow_x": null,
      "overflow_y": null,
      "padding": null,
      "right": null,
      "top": null,
      "visibility": null,
      "width": null
     }
    },
    "7c1c613ad5d24d9391d5119ab7b05dac": {
     "model_module": "@jupyter-widgets/base",
     "model_module_version": "1.2.0",
     "model_name": "LayoutModel",
     "state": {
      "_model_module": "@jupyter-widgets/base",
      "_model_module_version": "1.2.0",
      "_model_name": "LayoutModel",
      "_view_count": null,
      "_view_module": "@jupyter-widgets/base",
      "_view_module_version": "1.2.0",
      "_view_name": "LayoutView",
      "align_content": null,
      "align_items": null,
      "align_self": null,
      "border": null,
      "bottom": null,
      "display": null,
      "flex": null,
      "flex_flow": null,
      "grid_area": null,
      "grid_auto_columns": null,
      "grid_auto_flow": null,
      "grid_auto_rows": null,
      "grid_column": null,
      "grid_gap": null,
      "grid_row": null,
      "grid_template_areas": null,
      "grid_template_columns": null,
      "grid_template_rows": null,
      "height": null,
      "justify_content": null,
      "justify_items": null,
      "left": null,
      "margin": null,
      "max_height": null,
      "max_width": null,
      "min_height": null,
      "min_width": null,
      "object_fit": null,
      "object_position": null,
      "order": null,
      "overflow": null,
      "overflow_x": null,
      "overflow_y": null,
      "padding": null,
      "right": null,
      "top": null,
      "visibility": null,
      "width": null
     }
    },
    "7ee64d91120647798d03e5593a387aec": {
     "model_module": "@jupyter-widgets/controls",
     "model_module_version": "1.5.0",
     "model_name": "DescriptionStyleModel",
     "state": {
      "_model_module": "@jupyter-widgets/controls",
      "_model_module_version": "1.5.0",
      "_model_name": "DescriptionStyleModel",
      "_view_count": null,
      "_view_module": "@jupyter-widgets/base",
      "_view_module_version": "1.2.0",
      "_view_name": "StyleView",
      "description_width": ""
     }
    },
    "89693857338b408ca1c3ff27146a47a5": {
     "model_module": "@jupyter-widgets/controls",
     "model_module_version": "1.5.0",
     "model_name": "DescriptionStyleModel",
     "state": {
      "_model_module": "@jupyter-widgets/controls",
      "_model_module_version": "1.5.0",
      "_model_name": "DescriptionStyleModel",
      "_view_count": null,
      "_view_module": "@jupyter-widgets/base",
      "_view_module_version": "1.2.0",
      "_view_name": "StyleView",
      "description_width": ""
     }
    },
    "90688ce05b9c403bbc0d4d44019979b1": {
     "model_module": "@jupyter-widgets/controls",
     "model_module_version": "1.5.0",
     "model_name": "DescriptionStyleModel",
     "state": {
      "_model_module": "@jupyter-widgets/controls",
      "_model_module_version": "1.5.0",
      "_model_name": "DescriptionStyleModel",
      "_view_count": null,
      "_view_module": "@jupyter-widgets/base",
      "_view_module_version": "1.2.0",
      "_view_name": "StyleView",
      "description_width": ""
     }
    },
    "9aa8a053e53747d3a0bf3556c4d7fa65": {
     "model_module": "@jupyter-widgets/controls",
     "model_module_version": "1.5.0",
     "model_name": "ProgressStyleModel",
     "state": {
      "_model_module": "@jupyter-widgets/controls",
      "_model_module_version": "1.5.0",
      "_model_name": "ProgressStyleModel",
      "_view_count": null,
      "_view_module": "@jupyter-widgets/base",
      "_view_module_version": "1.2.0",
      "_view_name": "StyleView",
      "bar_color": null,
      "description_width": ""
     }
    },
    "9e8ee94cdca042f9b00d700ebb9f75ec": {
     "model_module": "@jupyter-widgets/controls",
     "model_module_version": "1.5.0",
     "model_name": "HTMLModel",
     "state": {
      "_dom_classes": [],
      "_model_module": "@jupyter-widgets/controls",
      "_model_module_version": "1.5.0",
      "_model_name": "HTMLModel",
      "_view_count": null,
      "_view_module": "@jupyter-widgets/controls",
      "_view_module_version": "1.5.0",
      "_view_name": "HTMLView",
      "description": "",
      "description_tooltip": null,
      "layout": "IPY_MODEL_53da765858c04a638cc361a39b6e9677",
      "placeholder": "​",
      "style": "IPY_MODEL_7ee64d91120647798d03e5593a387aec",
      "value": " 28.0/28.0 [00:00&lt;00:00, 326B/s]"
     }
    },
    "a1d0c588f31e4df9b85b37a68a549f1b": {
     "model_module": "@jupyter-widgets/base",
     "model_module_version": "1.2.0",
     "model_name": "LayoutModel",
     "state": {
      "_model_module": "@jupyter-widgets/base",
      "_model_module_version": "1.2.0",
      "_model_name": "LayoutModel",
      "_view_count": null,
      "_view_module": "@jupyter-widgets/base",
      "_view_module_version": "1.2.0",
      "_view_name": "LayoutView",
      "align_content": null,
      "align_items": null,
      "align_self": null,
      "border": null,
      "bottom": null,
      "display": null,
      "flex": null,
      "flex_flow": null,
      "grid_area": null,
      "grid_auto_columns": null,
      "grid_auto_flow": null,
      "grid_auto_rows": null,
      "grid_column": null,
      "grid_gap": null,
      "grid_row": null,
      "grid_template_areas": null,
      "grid_template_columns": null,
      "grid_template_rows": null,
      "height": null,
      "justify_content": null,
      "justify_items": null,
      "left": null,
      "margin": null,
      "max_height": null,
      "max_width": null,
      "min_height": null,
      "min_width": null,
      "object_fit": null,
      "object_position": null,
      "order": null,
      "overflow": null,
      "overflow_x": null,
      "overflow_y": null,
      "padding": null,
      "right": null,
      "top": null,
      "visibility": null,
      "width": null
     }
    },
    "a756912451da4349b178cc997ccbf451": {
     "model_module": "@jupyter-widgets/base",
     "model_module_version": "1.2.0",
     "model_name": "LayoutModel",
     "state": {
      "_model_module": "@jupyter-widgets/base",
      "_model_module_version": "1.2.0",
      "_model_name": "LayoutModel",
      "_view_count": null,
      "_view_module": "@jupyter-widgets/base",
      "_view_module_version": "1.2.0",
      "_view_name": "LayoutView",
      "align_content": null,
      "align_items": null,
      "align_self": null,
      "border": null,
      "bottom": null,
      "display": null,
      "flex": null,
      "flex_flow": null,
      "grid_area": null,
      "grid_auto_columns": null,
      "grid_auto_flow": null,
      "grid_auto_rows": null,
      "grid_column": null,
      "grid_gap": null,
      "grid_row": null,
      "grid_template_areas": null,
      "grid_template_columns": null,
      "grid_template_rows": null,
      "height": null,
      "justify_content": null,
      "justify_items": null,
      "left": null,
      "margin": null,
      "max_height": null,
      "max_width": null,
      "min_height": null,
      "min_width": null,
      "object_fit": null,
      "object_position": null,
      "order": null,
      "overflow": null,
      "overflow_x": null,
      "overflow_y": null,
      "padding": null,
      "right": null,
      "top": null,
      "visibility": null,
      "width": null
     }
    },
    "a8ea580945b24d17aeec73dffe46ca8f": {
     "model_module": "@jupyter-widgets/controls",
     "model_module_version": "1.5.0",
     "model_name": "HBoxModel",
     "state": {
      "_dom_classes": [],
      "_model_module": "@jupyter-widgets/controls",
      "_model_module_version": "1.5.0",
      "_model_name": "HBoxModel",
      "_view_count": null,
      "_view_module": "@jupyter-widgets/controls",
      "_view_module_version": "1.5.0",
      "_view_name": "HBoxView",
      "box_style": "",
      "children": [
       "IPY_MODEL_05841d511d7840b58636485bc732835d",
       "IPY_MODEL_5185946ea7d94b4c887e8e5a4f2cec10",
       "IPY_MODEL_9e8ee94cdca042f9b00d700ebb9f75ec"
      ],
      "layout": "IPY_MODEL_a1d0c588f31e4df9b85b37a68a549f1b"
     }
    },
    "b13b7bdc3d884376b11527c24bbcf782": {
     "model_module": "@jupyter-widgets/base",
     "model_module_version": "1.2.0",
     "model_name": "LayoutModel",
     "state": {
      "_model_module": "@jupyter-widgets/base",
      "_model_module_version": "1.2.0",
      "_model_name": "LayoutModel",
      "_view_count": null,
      "_view_module": "@jupyter-widgets/base",
      "_view_module_version": "1.2.0",
      "_view_name": "LayoutView",
      "align_content": null,
      "align_items": null,
      "align_self": null,
      "border": null,
      "bottom": null,
      "display": null,
      "flex": null,
      "flex_flow": null,
      "grid_area": null,
      "grid_auto_columns": null,
      "grid_auto_flow": null,
      "grid_auto_rows": null,
      "grid_column": null,
      "grid_gap": null,
      "grid_row": null,
      "grid_template_areas": null,
      "grid_template_columns": null,
      "grid_template_rows": null,
      "height": null,
      "justify_content": null,
      "justify_items": null,
      "left": null,
      "margin": null,
      "max_height": null,
      "max_width": null,
      "min_height": null,
      "min_width": null,
      "object_fit": null,
      "object_position": null,
      "order": null,
      "overflow": null,
      "overflow_x": null,
      "overflow_y": null,
      "padding": null,
      "right": null,
      "top": null,
      "visibility": null,
      "width": null
     }
    },
    "b3bf457516d7468ebdde927ffec29e13": {
     "model_module": "@jupyter-widgets/base",
     "model_module_version": "1.2.0",
     "model_name": "LayoutModel",
     "state": {
      "_model_module": "@jupyter-widgets/base",
      "_model_module_version": "1.2.0",
      "_model_name": "LayoutModel",
      "_view_count": null,
      "_view_module": "@jupyter-widgets/base",
      "_view_module_version": "1.2.0",
      "_view_name": "LayoutView",
      "align_content": null,
      "align_items": null,
      "align_self": null,
      "border": null,
      "bottom": null,
      "display": null,
      "flex": null,
      "flex_flow": null,
      "grid_area": null,
      "grid_auto_columns": null,
      "grid_auto_flow": null,
      "grid_auto_rows": null,
      "grid_column": null,
      "grid_gap": null,
      "grid_row": null,
      "grid_template_areas": null,
      "grid_template_columns": null,
      "grid_template_rows": null,
      "height": null,
      "justify_content": null,
      "justify_items": null,
      "left": null,
      "margin": null,
      "max_height": null,
      "max_width": null,
      "min_height": null,
      "min_width": null,
      "object_fit": null,
      "object_position": null,
      "order": null,
      "overflow": null,
      "overflow_x": null,
      "overflow_y": null,
      "padding": null,
      "right": null,
      "top": null,
      "visibility": null,
      "width": null
     }
    },
    "b5cf4b7a22874684b46d547907be3396": {
     "model_module": "@jupyter-widgets/controls",
     "model_module_version": "1.5.0",
     "model_name": "HBoxModel",
     "state": {
      "_dom_classes": [],
      "_model_module": "@jupyter-widgets/controls",
      "_model_module_version": "1.5.0",
      "_model_name": "HBoxModel",
      "_view_count": null,
      "_view_module": "@jupyter-widgets/controls",
      "_view_module_version": "1.5.0",
      "_view_name": "HBoxView",
      "box_style": "",
      "children": [
       "IPY_MODEL_ba70adb9f2d94ba491598212a3965a31",
       "IPY_MODEL_3a6ebf9754e44f45964dc0054efb6d75",
       "IPY_MODEL_5a1a7ebd40814f5ea26e49ebbcb89b67"
      ],
      "layout": "IPY_MODEL_d4df160ed9034acc893fc6b926ec292a"
     }
    },
    "b888b200608c4b69a3ed5370a24b8d84": {
     "model_module": "@jupyter-widgets/base",
     "model_module_version": "1.2.0",
     "model_name": "LayoutModel",
     "state": {
      "_model_module": "@jupyter-widgets/base",
      "_model_module_version": "1.2.0",
      "_model_name": "LayoutModel",
      "_view_count": null,
      "_view_module": "@jupyter-widgets/base",
      "_view_module_version": "1.2.0",
      "_view_name": "LayoutView",
      "align_content": null,
      "align_items": null,
      "align_self": null,
      "border": null,
      "bottom": null,
      "display": null,
      "flex": null,
      "flex_flow": null,
      "grid_area": null,
      "grid_auto_columns": null,
      "grid_auto_flow": null,
      "grid_auto_rows": null,
      "grid_column": null,
      "grid_gap": null,
      "grid_row": null,
      "grid_template_areas": null,
      "grid_template_columns": null,
      "grid_template_rows": null,
      "height": null,
      "justify_content": null,
      "justify_items": null,
      "left": null,
      "margin": null,
      "max_height": null,
      "max_width": null,
      "min_height": null,
      "min_width": null,
      "object_fit": null,
      "object_position": null,
      "order": null,
      "overflow": null,
      "overflow_x": null,
      "overflow_y": null,
      "padding": null,
      "right": null,
      "top": null,
      "visibility": null,
      "width": null
     }
    },
    "b9aa693a9ec946aaaeae2e307ad3ecdd": {
     "model_module": "@jupyter-widgets/controls",
     "model_module_version": "1.5.0",
     "model_name": "HTMLModel",
     "state": {
      "_dom_classes": [],
      "_model_module": "@jupyter-widgets/controls",
      "_model_module_version": "1.5.0",
      "_model_name": "HTMLModel",
      "_view_count": null,
      "_view_module": "@jupyter-widgets/controls",
      "_view_module_version": "1.5.0",
      "_view_name": "HTMLView",
      "description": "",
      "description_tooltip": null,
      "layout": "IPY_MODEL_2eb4b7314a3b4fdb9f52b6e4d0544e1c",
      "placeholder": "​",
      "style": "IPY_MODEL_16990716ac9a450ebb80927df6211ba3",
      "value": "Downloading: 100%"
     }
    },
    "ba70adb9f2d94ba491598212a3965a31": {
     "model_module": "@jupyter-widgets/controls",
     "model_module_version": "1.5.0",
     "model_name": "HTMLModel",
     "state": {
      "_dom_classes": [],
      "_model_module": "@jupyter-widgets/controls",
      "_model_module_version": "1.5.0",
      "_model_name": "HTMLModel",
      "_view_count": null,
      "_view_module": "@jupyter-widgets/controls",
      "_view_module_version": "1.5.0",
      "_view_name": "HTMLView",
      "description": "",
      "description_tooltip": null,
      "layout": "IPY_MODEL_fe8121e3649241d7b79f6465e4278ce5",
      "placeholder": "​",
      "style": "IPY_MODEL_eee823eca1a94ecf819ffd292f79fefe",
      "value": "Downloading: 100%"
     }
    },
    "c2169c0ad8ca467db6e9abc560eaec6f": {
     "model_module": "@jupyter-widgets/controls",
     "model_module_version": "1.5.0",
     "model_name": "HBoxModel",
     "state": {
      "_dom_classes": [],
      "_model_module": "@jupyter-widgets/controls",
      "_model_module_version": "1.5.0",
      "_model_name": "HBoxModel",
      "_view_count": null,
      "_view_module": "@jupyter-widgets/controls",
      "_view_module_version": "1.5.0",
      "_view_name": "HBoxView",
      "box_style": "",
      "children": [
       "IPY_MODEL_14acd34f93dc455fab03dfd46b19c431",
       "IPY_MODEL_eaf1f36305534bd8a4643a1ccf49ed8b",
       "IPY_MODEL_f2a707f75c4d4ba991316f0aaa09b702"
      ],
      "layout": "IPY_MODEL_7c1c613ad5d24d9391d5119ab7b05dac"
     }
    },
    "c307a161a6fc49c08896d6202a31b6fa": {
     "model_module": "@jupyter-widgets/controls",
     "model_module_version": "1.5.0",
     "model_name": "DescriptionStyleModel",
     "state": {
      "_model_module": "@jupyter-widgets/controls",
      "_model_module_version": "1.5.0",
      "_model_name": "DescriptionStyleModel",
      "_view_count": null,
      "_view_module": "@jupyter-widgets/base",
      "_view_module_version": "1.2.0",
      "_view_name": "StyleView",
      "description_width": ""
     }
    },
    "c576ad666d2e4048ac4c2d63b9c5e085": {
     "model_module": "@jupyter-widgets/base",
     "model_module_version": "1.2.0",
     "model_name": "LayoutModel",
     "state": {
      "_model_module": "@jupyter-widgets/base",
      "_model_module_version": "1.2.0",
      "_model_name": "LayoutModel",
      "_view_count": null,
      "_view_module": "@jupyter-widgets/base",
      "_view_module_version": "1.2.0",
      "_view_name": "LayoutView",
      "align_content": null,
      "align_items": null,
      "align_self": null,
      "border": null,
      "bottom": null,
      "display": null,
      "flex": null,
      "flex_flow": null,
      "grid_area": null,
      "grid_auto_columns": null,
      "grid_auto_flow": null,
      "grid_auto_rows": null,
      "grid_column": null,
      "grid_gap": null,
      "grid_row": null,
      "grid_template_areas": null,
      "grid_template_columns": null,
      "grid_template_rows": null,
      "height": null,
      "justify_content": null,
      "justify_items": null,
      "left": null,
      "margin": null,
      "max_height": null,
      "max_width": null,
      "min_height": null,
      "min_width": null,
      "object_fit": null,
      "object_position": null,
      "order": null,
      "overflow": null,
      "overflow_x": null,
      "overflow_y": null,
      "padding": null,
      "right": null,
      "top": null,
      "visibility": null,
      "width": null
     }
    },
    "c5fa848508b14b67833ad5d739731454": {
     "model_module": "@jupyter-widgets/base",
     "model_module_version": "1.2.0",
     "model_name": "LayoutModel",
     "state": {
      "_model_module": "@jupyter-widgets/base",
      "_model_module_version": "1.2.0",
      "_model_name": "LayoutModel",
      "_view_count": null,
      "_view_module": "@jupyter-widgets/base",
      "_view_module_version": "1.2.0",
      "_view_name": "LayoutView",
      "align_content": null,
      "align_items": null,
      "align_self": null,
      "border": null,
      "bottom": null,
      "display": null,
      "flex": null,
      "flex_flow": null,
      "grid_area": null,
      "grid_auto_columns": null,
      "grid_auto_flow": null,
      "grid_auto_rows": null,
      "grid_column": null,
      "grid_gap": null,
      "grid_row": null,
      "grid_template_areas": null,
      "grid_template_columns": null,
      "grid_template_rows": null,
      "height": null,
      "justify_content": null,
      "justify_items": null,
      "left": null,
      "margin": null,
      "max_height": null,
      "max_width": null,
      "min_height": null,
      "min_width": null,
      "object_fit": null,
      "object_position": null,
      "order": null,
      "overflow": null,
      "overflow_x": null,
      "overflow_y": null,
      "padding": null,
      "right": null,
      "top": null,
      "visibility": null,
      "width": null
     }
    },
    "c6534e11f8684712a38b366fe141cdfd": {
     "model_module": "@jupyter-widgets/controls",
     "model_module_version": "1.5.0",
     "model_name": "DescriptionStyleModel",
     "state": {
      "_model_module": "@jupyter-widgets/controls",
      "_model_module_version": "1.5.0",
      "_model_name": "DescriptionStyleModel",
      "_view_count": null,
      "_view_module": "@jupyter-widgets/base",
      "_view_module_version": "1.2.0",
      "_view_name": "StyleView",
      "description_width": ""
     }
    },
    "ca7c8fb8442741719b0bda07a73d2da6": {
     "model_module": "@jupyter-widgets/base",
     "model_module_version": "1.2.0",
     "model_name": "LayoutModel",
     "state": {
      "_model_module": "@jupyter-widgets/base",
      "_model_module_version": "1.2.0",
      "_model_name": "LayoutModel",
      "_view_count": null,
      "_view_module": "@jupyter-widgets/base",
      "_view_module_version": "1.2.0",
      "_view_name": "LayoutView",
      "align_content": null,
      "align_items": null,
      "align_self": null,
      "border": null,
      "bottom": null,
      "display": null,
      "flex": null,
      "flex_flow": null,
      "grid_area": null,
      "grid_auto_columns": null,
      "grid_auto_flow": null,
      "grid_auto_rows": null,
      "grid_column": null,
      "grid_gap": null,
      "grid_row": null,
      "grid_template_areas": null,
      "grid_template_columns": null,
      "grid_template_rows": null,
      "height": null,
      "justify_content": null,
      "justify_items": null,
      "left": null,
      "margin": null,
      "max_height": null,
      "max_width": null,
      "min_height": null,
      "min_width": null,
      "object_fit": null,
      "object_position": null,
      "order": null,
      "overflow": null,
      "overflow_x": null,
      "overflow_y": null,
      "padding": null,
      "right": null,
      "top": null,
      "visibility": null,
      "width": null
     }
    },
    "d4df160ed9034acc893fc6b926ec292a": {
     "model_module": "@jupyter-widgets/base",
     "model_module_version": "1.2.0",
     "model_name": "LayoutModel",
     "state": {
      "_model_module": "@jupyter-widgets/base",
      "_model_module_version": "1.2.0",
      "_model_name": "LayoutModel",
      "_view_count": null,
      "_view_module": "@jupyter-widgets/base",
      "_view_module_version": "1.2.0",
      "_view_name": "LayoutView",
      "align_content": null,
      "align_items": null,
      "align_self": null,
      "border": null,
      "bottom": null,
      "display": null,
      "flex": null,
      "flex_flow": null,
      "grid_area": null,
      "grid_auto_columns": null,
      "grid_auto_flow": null,
      "grid_auto_rows": null,
      "grid_column": null,
      "grid_gap": null,
      "grid_row": null,
      "grid_template_areas": null,
      "grid_template_columns": null,
      "grid_template_rows": null,
      "height": null,
      "justify_content": null,
      "justify_items": null,
      "left": null,
      "margin": null,
      "max_height": null,
      "max_width": null,
      "min_height": null,
      "min_width": null,
      "object_fit": null,
      "object_position": null,
      "order": null,
      "overflow": null,
      "overflow_x": null,
      "overflow_y": null,
      "padding": null,
      "right": null,
      "top": null,
      "visibility": null,
      "width": null
     }
    },
    "ddf1d3e548be4f119567733f391a639d": {
     "model_module": "@jupyter-widgets/controls",
     "model_module_version": "1.5.0",
     "model_name": "HTMLModel",
     "state": {
      "_dom_classes": [],
      "_model_module": "@jupyter-widgets/controls",
      "_model_module_version": "1.5.0",
      "_model_name": "HTMLModel",
      "_view_count": null,
      "_view_module": "@jupyter-widgets/controls",
      "_view_module_version": "1.5.0",
      "_view_name": "HTMLView",
      "description": "",
      "description_tooltip": null,
      "layout": "IPY_MODEL_b3bf457516d7468ebdde927ffec29e13",
      "placeholder": "​",
      "style": "IPY_MODEL_57d94d241667400eb5a58faad518e96f",
      "value": " 226k/226k [00:00&lt;00:00, 648kB/s]"
     }
    },
    "ea543319230944c09e70699f6d346a3a": {
     "model_module": "@jupyter-widgets/controls",
     "model_module_version": "1.5.0",
     "model_name": "HBoxModel",
     "state": {
      "_dom_classes": [],
      "_model_module": "@jupyter-widgets/controls",
      "_model_module_version": "1.5.0",
      "_model_name": "HBoxModel",
      "_view_count": null,
      "_view_module": "@jupyter-widgets/controls",
      "_view_module_version": "1.5.0",
      "_view_name": "HBoxView",
      "box_style": "",
      "children": [
       "IPY_MODEL_f8503a092c9d4742a8085bd0e476bd6e",
       "IPY_MODEL_27c7a44e3e564df392288e678de8b1da",
       "IPY_MODEL_6145eb51b11e4d028ce4f1fe3de29c47"
      ],
      "layout": "IPY_MODEL_c576ad666d2e4048ac4c2d63b9c5e085"
     }
    },
    "eaf1f36305534bd8a4643a1ccf49ed8b": {
     "model_module": "@jupyter-widgets/controls",
     "model_module_version": "1.5.0",
     "model_name": "FloatProgressModel",
     "state": {
      "_dom_classes": [],
      "_model_module": "@jupyter-widgets/controls",
      "_model_module_version": "1.5.0",
      "_model_name": "FloatProgressModel",
      "_view_count": null,
      "_view_module": "@jupyter-widgets/controls",
      "_view_module_version": "1.5.0",
      "_view_name": "ProgressView",
      "bar_style": "success",
      "description": "",
      "description_tooltip": null,
      "layout": "IPY_MODEL_b13b7bdc3d884376b11527c24bbcf782",
      "max": 536063208,
      "min": 0,
      "orientation": "horizontal",
      "style": "IPY_MODEL_9aa8a053e53747d3a0bf3556c4d7fa65",
      "value": 536063208
     }
    },
    "eee823eca1a94ecf819ffd292f79fefe": {
     "model_module": "@jupyter-widgets/controls",
     "model_module_version": "1.5.0",
     "model_name": "DescriptionStyleModel",
     "state": {
      "_model_module": "@jupyter-widgets/controls",
      "_model_module_version": "1.5.0",
      "_model_name": "DescriptionStyleModel",
      "_view_count": null,
      "_view_module": "@jupyter-widgets/base",
      "_view_module_version": "1.2.0",
      "_view_name": "StyleView",
      "description_width": ""
     }
    },
    "f2a707f75c4d4ba991316f0aaa09b702": {
     "model_module": "@jupyter-widgets/controls",
     "model_module_version": "1.5.0",
     "model_name": "HTMLModel",
     "state": {
      "_dom_classes": [],
      "_model_module": "@jupyter-widgets/controls",
      "_model_module_version": "1.5.0",
      "_model_name": "HTMLModel",
      "_view_count": null,
      "_view_module": "@jupyter-widgets/controls",
      "_view_module_version": "1.5.0",
      "_view_name": "HTMLView",
      "description": "",
      "description_tooltip": null,
      "layout": "IPY_MODEL_3e45f835608e4873929cd7514de9ac74",
      "placeholder": "​",
      "style": "IPY_MODEL_89693857338b408ca1c3ff27146a47a5",
      "value": " 511M/511M [00:25&lt;00:00, 18.6MB/s]"
     }
    },
    "f8093fdcbcad499393a8dfc075ff11cf": {
     "model_module": "@jupyter-widgets/controls",
     "model_module_version": "1.5.0",
     "model_name": "HBoxModel",
     "state": {
      "_dom_classes": [],
      "_model_module": "@jupyter-widgets/controls",
      "_model_module_version": "1.5.0",
      "_model_name": "HBoxModel",
      "_view_count": null,
      "_view_module": "@jupyter-widgets/controls",
      "_view_module_version": "1.5.0",
      "_view_name": "HBoxView",
      "box_style": "",
      "children": [
       "IPY_MODEL_b9aa693a9ec946aaaeae2e307ad3ecdd",
       "IPY_MODEL_5bc4dda237ab4454a6c5d5c061bca912",
       "IPY_MODEL_ddf1d3e548be4f119567733f391a639d"
      ],
      "layout": "IPY_MODEL_ca7c8fb8442741719b0bda07a73d2da6"
     }
    },
    "f8503a092c9d4742a8085bd0e476bd6e": {
     "model_module": "@jupyter-widgets/controls",
     "model_module_version": "1.5.0",
     "model_name": "HTMLModel",
     "state": {
      "_dom_classes": [],
      "_model_module": "@jupyter-widgets/controls",
      "_model_module_version": "1.5.0",
      "_model_name": "HTMLModel",
      "_view_count": null,
      "_view_module": "@jupyter-widgets/controls",
      "_view_module_version": "1.5.0",
      "_view_name": "HTMLView",
      "description": "",
      "description_tooltip": null,
      "layout": "IPY_MODEL_45ba10d71b434f308270286a921c8dac",
      "placeholder": "​",
      "style": "IPY_MODEL_90688ce05b9c403bbc0d4d44019979b1",
      "value": "Downloading: 100%"
     }
    },
    "fe8121e3649241d7b79f6465e4278ce5": {
     "model_module": "@jupyter-widgets/base",
     "model_module_version": "1.2.0",
     "model_name": "LayoutModel",
     "state": {
      "_model_module": "@jupyter-widgets/base",
      "_model_module_version": "1.2.0",
      "_model_name": "LayoutModel",
      "_view_count": null,
      "_view_module": "@jupyter-widgets/base",
      "_view_module_version": "1.2.0",
      "_view_name": "LayoutView",
      "align_content": null,
      "align_items": null,
      "align_self": null,
      "border": null,
      "bottom": null,
      "display": null,
      "flex": null,
      "flex_flow": null,
      "grid_area": null,
      "grid_auto_columns": null,
      "grid_auto_flow": null,
      "grid_auto_rows": null,
      "grid_column": null,
      "grid_gap": null,
      "grid_row": null,
      "grid_template_areas": null,
      "grid_template_columns": null,
      "grid_template_rows": null,
      "height": null,
      "justify_content": null,
      "justify_items": null,
      "left": null,
      "margin": null,
      "max_height": null,
      "max_width": null,
      "min_height": null,
      "min_width": null,
      "object_fit": null,
      "object_position": null,
      "order": null,
      "overflow": null,
      "overflow_x": null,
      "overflow_y": null,
      "padding": null,
      "right": null,
      "top": null,
      "visibility": null,
      "width": null
     }
    }
   }
  }
 },
 "nbformat": 4,
 "nbformat_minor": 5
}
